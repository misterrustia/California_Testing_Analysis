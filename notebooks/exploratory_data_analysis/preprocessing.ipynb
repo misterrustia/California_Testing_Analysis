{
 "cells": [
  {
   "cell_type": "code",
   "execution_count": null,
   "id": "7bfbb1f3-8939-4ec4-a681-d00d259228c6",
   "metadata": {},
   "outputs": [],
   "source": [
    "run vif and predictive power to find best features, \n",
    "\n",
    "What is required to run ridge regression ? \n",
    "\n",
    "\n",
    "impute district then county averages to have clean set \n",
    "\n",
    "how to measure regression score ? "
   ]
  },
  {
   "cell_type": "code",
   "execution_count": null,
   "id": "2d83ff38-fef3-43ca-ada0-2bfe2a1ec63c",
   "metadata": {},
   "outputs": [],
   "source": []
  },
  {
   "cell_type": "code",
   "execution_count": null,
   "id": "3ded52b3-8a33-48ae-aafe-ab6a7c796333",
   "metadata": {},
   "outputs": [],
   "source": []
  },
  {
   "cell_type": "code",
   "execution_count": null,
   "id": "9f11c4dc-294f-4a70-9e4e-67982e193381",
   "metadata": {},
   "outputs": [],
   "source": []
  },
  {
   "cell_type": "code",
   "execution_count": null,
   "id": "158cdb8d-0a83-4100-89b3-e80d6f8b0717",
   "metadata": {},
   "outputs": [],
   "source": []
  },
  {
   "cell_type": "code",
   "execution_count": null,
   "id": "33ad7e7d-e4b2-4c86-ad9f-b726b32c66fe",
   "metadata": {},
   "outputs": [],
   "source": []
  },
  {
   "cell_type": "code",
   "execution_count": null,
   "id": "2a5677fd-cf2a-44c3-b71c-eec332cb83be",
   "metadata": {},
   "outputs": [],
   "source": [
    "X_train, X_test, y_train, y_test = train_test_split(ski_data.drop(columns='AdultWeekend'), \n",
    "                                                    ski_data.AdultWeekend, test_size=0.3, \n",
    "                                                    random_state=47)"
   ]
  }
 ],
 "metadata": {
  "kernelspec": {
   "display_name": "Python 3",
   "language": "python",
   "name": "python3"
  },
  "language_info": {
   "codemirror_mode": {
    "name": "ipython",
    "version": 3
   },
   "file_extension": ".py",
   "mimetype": "text/x-python",
   "name": "python",
   "nbconvert_exporter": "python",
   "pygments_lexer": "ipython3",
   "version": "3.8.8"
  }
 },
 "nbformat": 4,
 "nbformat_minor": 5
}
