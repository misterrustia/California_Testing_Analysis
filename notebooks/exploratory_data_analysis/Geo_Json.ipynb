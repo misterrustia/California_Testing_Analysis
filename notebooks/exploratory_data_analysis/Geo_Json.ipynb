{
 "cells": [
  {
   "cell_type": "code",
   "execution_count": 1,
   "id": "03c740ed-7860-4253-b668-efcf56b89c85",
   "metadata": {},
   "outputs": [],
   "source": [
    "import json\n"
   ]
  },
  {
   "cell_type": "code",
   "execution_count": 2,
   "id": "2d9f67a4-3292-4046-ac21-f1a5a620a8d4",
   "metadata": {},
   "outputs": [],
   "source": [
    "cali = json.load(open('../../data/graph/CA_Counties_TIGER2016.geojson','r'))"
   ]
  },
  {
   "cell_type": "code",
   "execution_count": 4,
   "id": "7f4cade9-01e4-40b3-b820-f856191a33c3",
   "metadata": {},
   "outputs": [],
   "source": [
    "# cali"
   ]
  },
  {
   "cell_type": "code",
   "execution_count": null,
   "id": "b244cd64-6069-4239-aee7-b06fe8b10938",
   "metadata": {},
   "outputs": [],
   "source": []
  }
 ],
 "metadata": {
  "kernelspec": {
   "display_name": "Python 3",
   "language": "python",
   "name": "python3"
  },
  "language_info": {
   "codemirror_mode": {
    "name": "ipython",
    "version": 3
   },
   "file_extension": ".py",
   "mimetype": "text/x-python",
   "name": "python",
   "nbconvert_exporter": "python",
   "pygments_lexer": "ipython3",
   "version": "3.8.8"
  }
 },
 "nbformat": 4,
 "nbformat_minor": 5
}
