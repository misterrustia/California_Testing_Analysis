{
 "cells": [
  {
   "cell_type": "markdown",
   "id": "ba2525a7-6acb-4405-b60c-e422f267c724",
   "metadata": {},
   "source": [
    "vif - variance inflation factor is where columns multicollinerality increases if feature coefficents \n",
    "\n",
    "vif taking a variable and regressing it againt the other factors\n",
    "\n",
    "how well does do other features predict this feature? if high score they predict each other and are not adding \n",
    "more information to the model but skewing the training\n",
    "\n",
    "VIF calculates how much the variance of a coefficient is inflated because of its linear dependencies with other predictors. Hence its name.\n",
    "\n",
    "vif calculates how much the variance of the coefficient is inflated because of its linear dependcies with other predictors"
   ]
  },
  {
   "cell_type": "markdown",
   "id": "f436e88c-3135-479c-bf96-e1003ddf47c7",
   "metadata": {},
   "source": [
    "https://stackoverflow.com/questions/42658379/variance-inflation-factor-in-python\n",
    "    \n",
    "https://towardsdatascience.com/statistics-in-python-collinearity-and-multicollinearity-4cc4dcd82b3f"
   ]
  },
  {
   "cell_type": "code",
   "execution_count": 4,
   "id": "9f8819b4-ce8a-4632-9560-7a1e4cfde9d0",
   "metadata": {},
   "outputs": [],
   "source": [
    "import seaborn as sns\n",
    "\n",
    "df = sns.load_dataset('car_crashes')\n",
    "exogs = ['alcohol', 'speeding', 'no_previous', 'not_distracted']"
   ]
  },
  {
   "cell_type": "code",
   "execution_count": 15,
   "id": "fa03672d-0263-4c87-8921-4b7bd7d455e5",
   "metadata": {},
   "outputs": [
    {
     "data": {
      "text/html": [
       "<div>\n",
       "<style scoped>\n",
       "    .dataframe tbody tr th:only-of-type {\n",
       "        vertical-align: middle;\n",
       "    }\n",
       "\n",
       "    .dataframe tbody tr th {\n",
       "        vertical-align: top;\n",
       "    }\n",
       "\n",
       "    .dataframe thead th {\n",
       "        text-align: right;\n",
       "    }\n",
       "</style>\n",
       "<table border=\"1\" class=\"dataframe\">\n",
       "  <thead>\n",
       "    <tr style=\"text-align: right;\">\n",
       "      <th></th>\n",
       "      <th>VIF</th>\n",
       "      <th>Tolerance</th>\n",
       "    </tr>\n",
       "  </thead>\n",
       "  <tbody>\n",
       "    <tr>\n",
       "      <th>alcohol</th>\n",
       "      <td>3.436072</td>\n",
       "      <td>0.291030</td>\n",
       "    </tr>\n",
       "    <tr>\n",
       "      <th>speeding</th>\n",
       "      <td>1.884340</td>\n",
       "      <td>0.530690</td>\n",
       "    </tr>\n",
       "    <tr>\n",
       "      <th>no_previous</th>\n",
       "      <td>3.113984</td>\n",
       "      <td>0.321132</td>\n",
       "    </tr>\n",
       "    <tr>\n",
       "      <th>not_distracted</th>\n",
       "      <td>2.668456</td>\n",
       "      <td>0.374749</td>\n",
       "    </tr>\n",
       "  </tbody>\n",
       "</table>\n",
       "</div>"
      ],
      "text/plain": [
       "                     VIF  Tolerance\n",
       "alcohol         3.436072   0.291030\n",
       "speeding        1.884340   0.530690\n",
       "no_previous     3.113984   0.321132\n",
       "not_distracted  2.668456   0.374749"
      ]
     },
     "execution_count": 15,
     "metadata": {},
     "output_type": "execute_result"
    }
   ],
   "source": [
    "# import warnings\n",
    "# warnings.simplefilter(action='ignore', category=FutureWarning)\n",
    "import pandas as pd\n",
    "from sklearn.linear_model import LinearRegression\n",
    "\n",
    "def sklearn_vif(exogs, data):\n",
    "\n",
    "    # initialize dictionaries\n",
    "    vif_dict, tolerance_dict = {}, {}\n",
    "\n",
    "    # form input data for each exogenous variable\n",
    "    for exog in exogs:\n",
    "        not_exog = [i for i in exogs if i != exog]\n",
    "        X, y = data[not_exog], data[exog]\n",
    "\n",
    "        # extract r-squared from the fit\n",
    "        r_squared = LinearRegression().fit(X, y).score(X, y)\n",
    "\n",
    "        # calculate VIF\n",
    "        vif = 1/(1 - r_squared)\n",
    "        vif_dict[exog] = vif\n",
    "\n",
    "        # calculate tolerance\n",
    "        tolerance = 1 - r_squared\n",
    "        tolerance_dict[exog] = tolerance\n",
    "\n",
    "    # return VIF DataFrame\n",
    "    df_vif = pd.DataFrame({'VIF': vif_dict, 'Tolerance': tolerance_dict})\n",
    "\n",
    "    return df_vif\n",
    "\n",
    "df_vif = sklearn_vif(exogs=exogs, data=df)\n",
    "df_vif"
   ]
  },
  {
   "cell_type": "code",
   "execution_count": 13,
   "id": "7494e074-127b-48d0-a62e-264666fc7dd5",
   "metadata": {},
   "outputs": [
    {
     "name": "stdout",
     "output_type": "stream",
     "text": [
      "20.1 ms ± 2.31 ms per loop (mean ± std. dev. of 7 runs, 100 loops each)\n"
     ]
    }
   ],
   "source": [
    "%%timeit -n 100\n",
    "df_vif = sklearn_vif(exogs=exogs, data=df)\n",
    "df_vif"
   ]
  },
  {
   "cell_type": "code",
   "execution_count": 16,
   "id": "4951de18-d0a3-49e6-bc26-f79e48eb17e7",
   "metadata": {},
   "outputs": [
    {
     "name": "stdout",
     "output_type": "stream",
     "text": [
      "                     VIF  Tolerance\n",
      "alcohol         3.436072   0.291030\n",
      "speeding        1.884340   0.530690\n",
      "no_previous     3.113984   0.321132\n",
      "not_distracted  2.668456   0.374749\n"
     ]
    }
   ],
   "source": [
    "print(df_vif)"
   ]
  },
  {
   "cell_type": "code",
   "execution_count": null,
   "id": "3f1c8f7e-948a-4f94-8577-64bca07b06e2",
   "metadata": {},
   "outputs": [],
   "source": []
  },
  {
   "cell_type": "code",
   "execution_count": 17,
   "id": "b7080474-c633-4a9d-98d3-db2687bc8ed8",
   "metadata": {},
   "outputs": [],
   "source": [
    "import pandas as pd\n",
    "from sklearn.linear_model import LinearRegression\n",
    "def calculate_vif(df, features):    \n",
    "    vif, tolerance = {}, {}\n",
    "    # all the features that you want to examine\n",
    "    for feature in features:\n",
    "        # extract all the other features you will regress against\n",
    "        X = [f for f in features if f != feature]        \n",
    "        X, y = df[X], df[feature]\n",
    "        # extract r-squared from the fit\n",
    "        r2 = LinearRegression().fit(X, y).score(X, y)                \n",
    "        \n",
    "        # calculate tolerance\n",
    "        tolerance[feature] = 1 - r2\n",
    "        # calculate VIF\n",
    "        vif[feature] = 1/(tolerance[feature])\n",
    "    # return VIF DataFrame\n",
    "    return pd.DataFrame({'VIF': vif, 'Tolerance': tolerance})"
   ]
  },
  {
   "cell_type": "code",
   "execution_count": 23,
   "id": "58fe8895-7160-4ecd-bcfc-319e971f98fd",
   "metadata": {},
   "outputs": [
    {
     "data": {
      "text/html": [
       "<div>\n",
       "<style scoped>\n",
       "    .dataframe tbody tr th:only-of-type {\n",
       "        vertical-align: middle;\n",
       "    }\n",
       "\n",
       "    .dataframe tbody tr th {\n",
       "        vertical-align: top;\n",
       "    }\n",
       "\n",
       "    .dataframe thead th {\n",
       "        text-align: right;\n",
       "    }\n",
       "</style>\n",
       "<table border=\"1\" class=\"dataframe\">\n",
       "  <thead>\n",
       "    <tr style=\"text-align: right;\">\n",
       "      <th></th>\n",
       "      <th>VIF</th>\n",
       "      <th>Tolerance</th>\n",
       "    </tr>\n",
       "  </thead>\n",
       "  <tbody>\n",
       "    <tr>\n",
       "      <th>alcohol</th>\n",
       "      <td>3.436072</td>\n",
       "      <td>0.291030</td>\n",
       "    </tr>\n",
       "    <tr>\n",
       "      <th>speeding</th>\n",
       "      <td>1.884340</td>\n",
       "      <td>0.530690</td>\n",
       "    </tr>\n",
       "    <tr>\n",
       "      <th>no_previous</th>\n",
       "      <td>3.113984</td>\n",
       "      <td>0.321132</td>\n",
       "    </tr>\n",
       "    <tr>\n",
       "      <th>not_distracted</th>\n",
       "      <td>2.668456</td>\n",
       "      <td>0.374749</td>\n",
       "    </tr>\n",
       "  </tbody>\n",
       "</table>\n",
       "</div>"
      ],
      "text/plain": [
       "                     VIF  Tolerance\n",
       "alcohol         3.436072   0.291030\n",
       "speeding        1.884340   0.530690\n",
       "no_previous     3.113984   0.321132\n",
       "not_distracted  2.668456   0.374749"
      ]
     },
     "execution_count": 23,
     "metadata": {},
     "output_type": "execute_result"
    }
   ],
   "source": [
    "\n",
    "df_vif = calculate_vif(df, exogs)\n",
    "df_vif"
   ]
  },
  {
   "cell_type": "code",
   "execution_count": null,
   "id": "d69ed2bf-b339-48f7-9a36-468b55b72925",
   "metadata": {},
   "outputs": [],
   "source": []
  }
 ],
 "metadata": {
  "kernelspec": {
   "display_name": "Python 3",
   "language": "python",
   "name": "python3"
  },
  "language_info": {
   "codemirror_mode": {
    "name": "ipython",
    "version": 3
   },
   "file_extension": ".py",
   "mimetype": "text/x-python",
   "name": "python",
   "nbconvert_exporter": "python",
   "pygments_lexer": "ipython3",
   "version": "3.8.8"
  }
 },
 "nbformat": 4,
 "nbformat_minor": 5
}
