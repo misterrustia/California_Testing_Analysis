{
 "cells": [
  {
   "cell_type": "markdown",
   "id": "b7ab6017-35d6-4e8d-b158-b6675e32ef9c",
   "metadata": {},
   "source": [
    "# objectives - get basic model tested after variance inflation factor used for feature selection\n",
    "\n",
    "- check feature importance afterwards, \n",
    "\n",
    "- set up for advanced model tuning "
   ]
  },
  {
   "cell_type": "code",
   "execution_count": 1,
   "id": "258e5235-c291-475d-87e0-7266376e9402",
   "metadata": {},
   "outputs": [],
   "source": [
    "import pandas as pd \n",
    "import numpy as np\n",
    "import matplotlib.pyplot as plt\n",
    "from sklearn.model_selection import train_test_split\n",
    "from sklearn.metrics import roc_auc_score, accuracy_score, precision_score, recall_score\n",
    "from sklearn.linear_model import LogisticRegression\n",
    "from sklearn import metrics\n",
    "from sklearn.metrics import roc_curve\n",
    "\n",
    "from sklearn.metrics import classification_report\n",
    "from sklearn.metrics import confusion_matrix\n",
    "from sklearn.ensemble import RandomForestRegressor\n",
    "from sklearn.preprocessing import OneHotEncoder\n",
    "\n",
    "import seaborn as sns"
   ]
  },
  {
   "cell_type": "code",
   "execution_count": 15,
   "id": "68680ee3-a5bd-49ed-884c-df7f91456c0b",
   "metadata": {},
   "outputs": [
    {
     "name": "stdout",
     "output_type": "stream",
     "text": [
      "<class 'pandas.core.frame.DataFrame'>\n",
      "RangeIndex: 52665 entries, 0 to 52664\n",
      "Data columns (total 23 columns):\n",
      " #   Column                                       Non-Null Count  Dtype  \n",
      "---  ------                                       --------------  -----  \n",
      " 0   Mean Scale Score                             52665 non-null  float64\n",
      " 1   Total Tested with Scores at Reporting Level  52665 non-null  float64\n",
      " 2   Demographic Name                             52665 non-null  object \n",
      " 3   Student Group                                52665 non-null  object \n",
      " 4   District Type                                52665 non-null  object \n",
      " 5   Test ID                                      52665 non-null  object \n",
      " 6   School Type                                  52665 non-null  object \n",
      " 7   Education_type                               52665 non-null  object \n",
      " 8   Charter_School                               52665 non-null  int64  \n",
      " 9   Low Grade                                    52665 non-null  object \n",
      " 10  Free_Meal_count                              52665 non-null  float64\n",
      " 11  Latitude                                     52665 non-null  float64\n",
      " 12  FTE_Teachers                                 52665 non-null  float64\n",
      " 13  Pupil/Teacher-Ratio                          52665 non-null  float64\n",
      " 14  Hispanic_Female                              52665 non-null  float64\n",
      " 15  Black_or_AA_F                                52665 non-null  float64\n",
      " 16  APA_F                                        52665 non-null  float64\n",
      " 17  Avg_21                                       52665 non-null  float64\n",
      " 18  Average Salary Paid                          52665 non-null  float64\n",
      " 19  Current_Expense_per_ADA                      52665 non-null  float64\n",
      " 20  est_num_u17_pov                              52665 non-null  float64\n",
      " 21  Grocery_3mile                                52665 non-null  float64\n",
      " 22  Grocery_dist                                 52665 non-null  float64\n",
      "dtypes: float64(15), int64(1), object(7)\n",
      "memory usage: 9.2+ MB\n"
     ]
    }
   ],
   "source": [
    "df = pd.read_csv('../../data/model/final_df.csv')\n",
    "df.rename(columns={\"Asian or Asian/Pacific Islander - female [Public School] 2020-21\":'APA_F',\n",
    "                  'Current\\nExpense Per ADA':'Current_Expense_per_ADA'}\n",
    "       ,inplace=True)\n",
    "df.drop(columns=['Unnamed: 0'],inplace=True)\n",
    "df.info()"
   ]
  },
  {
   "cell_type": "code",
   "execution_count": 16,
   "id": "9a7a93b3-34b6-479a-97a8-dedb0a110d8b",
   "metadata": {},
   "outputs": [
    {
     "data": {
      "text/html": [
       "<div>\n",
       "<style scoped>\n",
       "    .dataframe tbody tr th:only-of-type {\n",
       "        vertical-align: middle;\n",
       "    }\n",
       "\n",
       "    .dataframe tbody tr th {\n",
       "        vertical-align: top;\n",
       "    }\n",
       "\n",
       "    .dataframe thead th {\n",
       "        text-align: right;\n",
       "    }\n",
       "</style>\n",
       "<table border=\"1\" class=\"dataframe\">\n",
       "  <thead>\n",
       "    <tr style=\"text-align: right;\">\n",
       "      <th></th>\n",
       "      <th>Mean Scale Score</th>\n",
       "      <th>Total Tested with Scores at Reporting Level</th>\n",
       "      <th>Demographic Name</th>\n",
       "      <th>Student Group</th>\n",
       "      <th>District Type</th>\n",
       "      <th>Test ID</th>\n",
       "      <th>School Type</th>\n",
       "      <th>Education_type</th>\n",
       "      <th>Charter_School</th>\n",
       "      <th>Low Grade</th>\n",
       "      <th>...</th>\n",
       "      <th>Pupil/Teacher-Ratio</th>\n",
       "      <th>Hispanic_Female</th>\n",
       "      <th>Black_or_AA_F</th>\n",
       "      <th>APA_F</th>\n",
       "      <th>Avg_21</th>\n",
       "      <th>Average Salary Paid</th>\n",
       "      <th>Current_Expense_per_ADA</th>\n",
       "      <th>est_num_u17_pov</th>\n",
       "      <th>Grocery_3mile</th>\n",
       "      <th>Grocery_dist</th>\n",
       "    </tr>\n",
       "  </thead>\n",
       "  <tbody>\n",
       "    <tr>\n",
       "      <th>0</th>\n",
       "      <td>2579.7</td>\n",
       "      <td>106.0</td>\n",
       "      <td>All Students</td>\n",
       "      <td>All Students</td>\n",
       "      <td>County Office of Education (COE)</td>\n",
       "      <td>English Language Arts/Literacy</td>\n",
       "      <td>K-12 Schools (Public)</td>\n",
       "      <td>Traditional</td>\n",
       "      <td>1</td>\n",
       "      <td>5,4,3,2,1</td>\n",
       "      <td>...</td>\n",
       "      <td>20.652848</td>\n",
       "      <td>194.364754</td>\n",
       "      <td>32.206967</td>\n",
       "      <td>361.873975</td>\n",
       "      <td>754920.0</td>\n",
       "      <td>85586.372299</td>\n",
       "      <td>13998.450902</td>\n",
       "      <td>3044.345812</td>\n",
       "      <td>50.0</td>\n",
       "      <td>1372.0</td>\n",
       "    </tr>\n",
       "    <tr>\n",
       "      <th>1</th>\n",
       "      <td>2582.4</td>\n",
       "      <td>56.0</td>\n",
       "      <td>Male</td>\n",
       "      <td>Gender</td>\n",
       "      <td>County Office of Education (COE)</td>\n",
       "      <td>English Language Arts/Literacy</td>\n",
       "      <td>K-12 Schools (Public)</td>\n",
       "      <td>Traditional</td>\n",
       "      <td>1</td>\n",
       "      <td>5,4,3,2,1</td>\n",
       "      <td>...</td>\n",
       "      <td>20.652848</td>\n",
       "      <td>194.364754</td>\n",
       "      <td>32.206967</td>\n",
       "      <td>361.873975</td>\n",
       "      <td>754920.0</td>\n",
       "      <td>85586.372299</td>\n",
       "      <td>13998.450902</td>\n",
       "      <td>3044.345812</td>\n",
       "      <td>50.0</td>\n",
       "      <td>1372.0</td>\n",
       "    </tr>\n",
       "    <tr>\n",
       "      <th>2</th>\n",
       "      <td>2577.0</td>\n",
       "      <td>50.0</td>\n",
       "      <td>Female</td>\n",
       "      <td>Gender</td>\n",
       "      <td>County Office of Education (COE)</td>\n",
       "      <td>English Language Arts/Literacy</td>\n",
       "      <td>K-12 Schools (Public)</td>\n",
       "      <td>Traditional</td>\n",
       "      <td>1</td>\n",
       "      <td>5,4,3,2,1</td>\n",
       "      <td>...</td>\n",
       "      <td>20.652848</td>\n",
       "      <td>194.364754</td>\n",
       "      <td>32.206967</td>\n",
       "      <td>361.873975</td>\n",
       "      <td>754920.0</td>\n",
       "      <td>85586.372299</td>\n",
       "      <td>13998.450902</td>\n",
       "      <td>3044.345812</td>\n",
       "      <td>50.0</td>\n",
       "      <td>1372.0</td>\n",
       "    </tr>\n",
       "    <tr>\n",
       "      <th>3</th>\n",
       "      <td>2600.2</td>\n",
       "      <td>91.0</td>\n",
       "      <td>IFEP and EO (Initial fluent English proficient...</td>\n",
       "      <td>English-Language Fluency</td>\n",
       "      <td>County Office of Education (COE)</td>\n",
       "      <td>English Language Arts/Literacy</td>\n",
       "      <td>K-12 Schools (Public)</td>\n",
       "      <td>Traditional</td>\n",
       "      <td>1</td>\n",
       "      <td>5,4,3,2,1</td>\n",
       "      <td>...</td>\n",
       "      <td>20.652848</td>\n",
       "      <td>194.364754</td>\n",
       "      <td>32.206967</td>\n",
       "      <td>361.873975</td>\n",
       "      <td>754920.0</td>\n",
       "      <td>85586.372299</td>\n",
       "      <td>13998.450902</td>\n",
       "      <td>3044.345812</td>\n",
       "      <td>50.0</td>\n",
       "      <td>1372.0</td>\n",
       "    </tr>\n",
       "    <tr>\n",
       "      <th>4</th>\n",
       "      <td>2614.4</td>\n",
       "      <td>24.0</td>\n",
       "      <td>RFEP (Reclassified fluent English proficient)</td>\n",
       "      <td>English-Language Fluency</td>\n",
       "      <td>County Office of Education (COE)</td>\n",
       "      <td>English Language Arts/Literacy</td>\n",
       "      <td>K-12 Schools (Public)</td>\n",
       "      <td>Traditional</td>\n",
       "      <td>1</td>\n",
       "      <td>5,4,3,2,1</td>\n",
       "      <td>...</td>\n",
       "      <td>20.652848</td>\n",
       "      <td>194.364754</td>\n",
       "      <td>32.206967</td>\n",
       "      <td>361.873975</td>\n",
       "      <td>754920.0</td>\n",
       "      <td>85586.372299</td>\n",
       "      <td>13998.450902</td>\n",
       "      <td>3044.345812</td>\n",
       "      <td>50.0</td>\n",
       "      <td>1372.0</td>\n",
       "    </tr>\n",
       "  </tbody>\n",
       "</table>\n",
       "<p>5 rows × 23 columns</p>\n",
       "</div>"
      ],
      "text/plain": [
       "   Mean Scale Score  Total Tested with Scores at Reporting Level  \\\n",
       "0            2579.7                                        106.0   \n",
       "1            2582.4                                         56.0   \n",
       "2            2577.0                                         50.0   \n",
       "3            2600.2                                         91.0   \n",
       "4            2614.4                                         24.0   \n",
       "\n",
       "                                    Demographic Name  \\\n",
       "0                                       All Students   \n",
       "1                                               Male   \n",
       "2                                             Female   \n",
       "3  IFEP and EO (Initial fluent English proficient...   \n",
       "4      RFEP (Reclassified fluent English proficient)   \n",
       "\n",
       "              Student Group                     District Type  \\\n",
       "0              All Students  County Office of Education (COE)   \n",
       "1                    Gender  County Office of Education (COE)   \n",
       "2                    Gender  County Office of Education (COE)   \n",
       "3  English-Language Fluency  County Office of Education (COE)   \n",
       "4  English-Language Fluency  County Office of Education (COE)   \n",
       "\n",
       "                          Test ID            School Type Education_type  \\\n",
       "0  English Language Arts/Literacy  K-12 Schools (Public)    Traditional   \n",
       "1  English Language Arts/Literacy  K-12 Schools (Public)    Traditional   \n",
       "2  English Language Arts/Literacy  K-12 Schools (Public)    Traditional   \n",
       "3  English Language Arts/Literacy  K-12 Schools (Public)    Traditional   \n",
       "4  English Language Arts/Literacy  K-12 Schools (Public)    Traditional   \n",
       "\n",
       "   Charter_School  Low Grade  ...  Pupil/Teacher-Ratio  Hispanic_Female  \\\n",
       "0               1  5,4,3,2,1  ...            20.652848       194.364754   \n",
       "1               1  5,4,3,2,1  ...            20.652848       194.364754   \n",
       "2               1  5,4,3,2,1  ...            20.652848       194.364754   \n",
       "3               1  5,4,3,2,1  ...            20.652848       194.364754   \n",
       "4               1  5,4,3,2,1  ...            20.652848       194.364754   \n",
       "\n",
       "   Black_or_AA_F       APA_F    Avg_21  Average Salary Paid  \\\n",
       "0      32.206967  361.873975  754920.0         85586.372299   \n",
       "1      32.206967  361.873975  754920.0         85586.372299   \n",
       "2      32.206967  361.873975  754920.0         85586.372299   \n",
       "3      32.206967  361.873975  754920.0         85586.372299   \n",
       "4      32.206967  361.873975  754920.0         85586.372299   \n",
       "\n",
       "   Current_Expense_per_ADA  est_num_u17_pov  Grocery_3mile  Grocery_dist  \n",
       "0             13998.450902      3044.345812           50.0        1372.0  \n",
       "1             13998.450902      3044.345812           50.0        1372.0  \n",
       "2             13998.450902      3044.345812           50.0        1372.0  \n",
       "3             13998.450902      3044.345812           50.0        1372.0  \n",
       "4             13998.450902      3044.345812           50.0        1372.0  \n",
       "\n",
       "[5 rows x 23 columns]"
      ]
     },
     "execution_count": 16,
     "metadata": {},
     "output_type": "execute_result"
    }
   ],
   "source": [
    "df.head()"
   ]
  },
  {
   "cell_type": "code",
   "execution_count": 17,
   "id": "21100c67-6ceb-42ca-994d-49786c776d98",
   "metadata": {},
   "outputs": [],
   "source": [
    "df['random'] = np.random.random(size = len(df))"
   ]
  },
  {
   "cell_type": "code",
   "execution_count": 20,
   "id": "c9fd5685-f612-4252-92fd-6fd069f81070",
   "metadata": {},
   "outputs": [
    {
     "data": {
      "text/plain": [
       "Index(['Mean Scale Score', 'Total Tested with Scores at Reporting Level',\n",
       "       'Demographic Name', 'Student Group', 'District Type', 'Test ID',\n",
       "       'School Type', 'Education_type', 'Charter_School', 'Low Grade',\n",
       "       'Free_Meal_count', 'Latitude', 'FTE_Teachers', 'Pupil/Teacher-Ratio',\n",
       "       'Hispanic_Female', 'Black_or_AA_F', 'APA_F', 'Avg_21',\n",
       "       'Average Salary Paid', 'Current_Expense_per_ADA', 'est_num_u17_pov',\n",
       "       'Grocery_3mile', 'Grocery_dist', 'random'],\n",
       "      dtype='object')"
      ]
     },
     "execution_count": 20,
     "metadata": {},
     "output_type": "execute_result"
    }
   ],
   "source": [
    "df.columns"
   ]
  },
  {
   "cell_type": "code",
   "execution_count": 22,
   "id": "401318da-01ca-4986-b25a-92fa392058b0",
   "metadata": {},
   "outputs": [
    {
     "data": {
      "text/plain": [
       "9            42218\n",
       "K             4965\n",
       "6             2210\n",
       "7             1941\n",
       "10             524\n",
       "11 or 8        361\n",
       "5,4,3,2,1      326\n",
       "P              120\n",
       "Name: Low Grade, dtype: int64"
      ]
     },
     "execution_count": 22,
     "metadata": {},
     "output_type": "execute_result"
    }
   ],
   "source": [
    "df['Low Grade'].value_counts()"
   ]
  },
  {
   "cell_type": "code",
   "execution_count": 30,
   "id": "3847da0f-9c2e-4a82-956c-cb11068e6c5a",
   "metadata": {},
   "outputs": [],
   "source": [
    "# df['low Grade'] = df['Low Grade'].apply(pd.to_numeric)"
   ]
  },
  {
   "cell_type": "code",
   "execution_count": 23,
   "id": "cd6be926-ff80-4e4c-a308-64775b2b25eb",
   "metadata": {},
   "outputs": [],
   "source": [
    " X_train, X_test, y_train, y_test = train_test_split(  df.drop(columns=['Mean Scale Score',\n",
    "                                                                       'Demographic Name', 'Student Group', 'District Type', 'Test ID',\n",
    "       'School Type', 'Education_type','Low Grade']),df['Mean Scale Score'] ,\n",
    "                                                     test_size=0.2, random_state=42)\n",
    "    \n",
    "    "
   ]
  },
  {
   "cell_type": "code",
   "execution_count": 24,
   "id": "49318f3b-5ecb-4e13-9396-61a1878d25c2",
   "metadata": {},
   "outputs": [
    {
     "data": {
      "text/plain": [
       "Total Tested with Scores at Reporting Level    float64\n",
       "Charter_School                                   int64\n",
       "Free_Meal_count                                float64\n",
       "Latitude                                       float64\n",
       "FTE_Teachers                                   float64\n",
       "Pupil/Teacher-Ratio                            float64\n",
       "Hispanic_Female                                float64\n",
       "Black_or_AA_F                                  float64\n",
       "APA_F                                          float64\n",
       "Avg_21                                         float64\n",
       "Average Salary Paid                            float64\n",
       "Current_Expense_per_ADA                        float64\n",
       "est_num_u17_pov                                float64\n",
       "Grocery_3mile                                  float64\n",
       "Grocery_dist                                   float64\n",
       "random                                         float64\n",
       "dtype: object"
      ]
     },
     "execution_count": 24,
     "metadata": {},
     "output_type": "execute_result"
    }
   ],
   "source": [
    " X_train.dtypes"
   ]
  },
  {
   "cell_type": "code",
   "execution_count": 25,
   "id": "35411ce4-babf-4d19-adfa-54c063a9391b",
   "metadata": {},
   "outputs": [
    {
     "data": {
      "text/plain": [
       "RandomForestRegressor(n_jobs=-1, oob_score=True, random_state=42)"
      ]
     },
     "execution_count": 25,
     "metadata": {},
     "output_type": "execute_result"
    }
   ],
   "source": [
    "rf = RandomForestRegressor(n_estimators = 100,\n",
    "                           n_jobs = -1,\n",
    "                           oob_score = True,\n",
    "                           bootstrap = True,\n",
    "                           random_state = 42)\n",
    "rf.fit(X_train, y_train)\n",
    "\n",
    "             "
   ]
  },
  {
   "cell_type": "code",
   "execution_count": 26,
   "id": "2ac84c1f-0d71-40a1-b9fb-dce729949461",
   "metadata": {},
   "outputs": [
    {
     "name": "stdout",
     "output_type": "stream",
     "text": [
      "R^2 Training Score: 0.96 \n",
      "OOB Score: 0.70 \n",
      "R^2 Validation Score: 0.71\n"
     ]
    }
   ],
   "source": [
    "print('R^2 Training Score: {:.2f} \\nOOB Score: {:.2f} \\nR^2 Validation Score: {:.2f}'.format(rf.score(X_train, y_train), \n",
    "                                                                                             rf.oob_score_,\n",
    "                                                                                             rf.score(X_test, y_test)))\n"
   ]
  },
  {
   "cell_type": "markdown",
   "id": "126e7693-471a-4558-9a26-31dd3efec54f",
   "metadata": {},
   "source": [
    "## over fitting with OOB and validation much lower than training "
   ]
  },
  {
   "cell_type": "code",
   "execution_count": 31,
   "id": "196af70a-a27a-40cc-83dc-3de6f284f634",
   "metadata": {},
   "outputs": [],
   "source": [
    "# https://github.com/erykml/medium_articles/blob/master/Machine%20Learning/feature_importance.ipynb\n",
    "\n",
    "# function for creating a feature importance dataframe\n",
    "def imp_df(column_names, importances):\n",
    "    df = pd.DataFrame({'feature': column_names,\n",
    "                       'feature_importance': importances}) \\\n",
    "           .sort_values('feature_importance', ascending = False) \\\n",
    "           .reset_index(drop = True)\n",
    "    return df\n",
    "\n",
    "# plotting a feature importance dataframe (horizontal barchart)\n",
    "def var_imp_plot(imp_df, title):\n",
    "    imp_df.columns = ['feature', 'feature_importance']\n",
    "    sns.barplot(x = 'feature_importance', y = 'feature', data = imp_df, orient = 'h', color = 'royalblue') \\\n",
    "       .set_title(title, fontsize = 20)\n",
    "    sns.despine()"
   ]
  },
  {
   "cell_type": "code",
   "execution_count": 32,
   "id": "8251ab70-9688-4a71-b442-764d749a92fe",
   "metadata": {},
   "outputs": [
    {
     "data": {
      "text/html": [
       "<div>\n",
       "<style scoped>\n",
       "    .dataframe tbody tr th:only-of-type {\n",
       "        vertical-align: middle;\n",
       "    }\n",
       "\n",
       "    .dataframe tbody tr th {\n",
       "        vertical-align: top;\n",
       "    }\n",
       "\n",
       "    .dataframe thead th {\n",
       "        text-align: right;\n",
       "    }\n",
       "</style>\n",
       "<table border=\"1\" class=\"dataframe\">\n",
       "  <thead>\n",
       "    <tr style=\"text-align: right;\">\n",
       "      <th></th>\n",
       "      <th>feature</th>\n",
       "      <th>feature_importance</th>\n",
       "    </tr>\n",
       "  </thead>\n",
       "  <tbody>\n",
       "    <tr>\n",
       "      <th>0</th>\n",
       "      <td>APA_F</td>\n",
       "      <td>0.198403</td>\n",
       "    </tr>\n",
       "    <tr>\n",
       "      <th>1</th>\n",
       "      <td>Total Tested with Scores at Reporting Level</td>\n",
       "      <td>0.133359</td>\n",
       "    </tr>\n",
       "    <tr>\n",
       "      <th>2</th>\n",
       "      <td>Pupil/Teacher-Ratio</td>\n",
       "      <td>0.128678</td>\n",
       "    </tr>\n",
       "    <tr>\n",
       "      <th>3</th>\n",
       "      <td>random</td>\n",
       "      <td>0.109126</td>\n",
       "    </tr>\n",
       "    <tr>\n",
       "      <th>4</th>\n",
       "      <td>Avg_21</td>\n",
       "      <td>0.082011</td>\n",
       "    </tr>\n",
       "    <tr>\n",
       "      <th>5</th>\n",
       "      <td>Hispanic_Female</td>\n",
       "      <td>0.069101</td>\n",
       "    </tr>\n",
       "    <tr>\n",
       "      <th>6</th>\n",
       "      <td>Free_Meal_count</td>\n",
       "      <td>0.052665</td>\n",
       "    </tr>\n",
       "    <tr>\n",
       "      <th>7</th>\n",
       "      <td>FTE_Teachers</td>\n",
       "      <td>0.045663</td>\n",
       "    </tr>\n",
       "    <tr>\n",
       "      <th>8</th>\n",
       "      <td>Latitude</td>\n",
       "      <td>0.030915</td>\n",
       "    </tr>\n",
       "    <tr>\n",
       "      <th>9</th>\n",
       "      <td>est_num_u17_pov</td>\n",
       "      <td>0.030219</td>\n",
       "    </tr>\n",
       "    <tr>\n",
       "      <th>10</th>\n",
       "      <td>Grocery_dist</td>\n",
       "      <td>0.029013</td>\n",
       "    </tr>\n",
       "    <tr>\n",
       "      <th>11</th>\n",
       "      <td>Average Salary Paid</td>\n",
       "      <td>0.028974</td>\n",
       "    </tr>\n",
       "    <tr>\n",
       "      <th>12</th>\n",
       "      <td>Current_Expense_per_ADA</td>\n",
       "      <td>0.022806</td>\n",
       "    </tr>\n",
       "    <tr>\n",
       "      <th>13</th>\n",
       "      <td>Black_or_AA_F</td>\n",
       "      <td>0.018441</td>\n",
       "    </tr>\n",
       "    <tr>\n",
       "      <th>14</th>\n",
       "      <td>Grocery_3mile</td>\n",
       "      <td>0.017129</td>\n",
       "    </tr>\n",
       "    <tr>\n",
       "      <th>15</th>\n",
       "      <td>Charter_School</td>\n",
       "      <td>0.003496</td>\n",
       "    </tr>\n",
       "  </tbody>\n",
       "</table>\n",
       "</div>"
      ],
      "text/plain": [
       "                                        feature  feature_importance\n",
       "0                                         APA_F            0.198403\n",
       "1   Total Tested with Scores at Reporting Level            0.133359\n",
       "2                           Pupil/Teacher-Ratio            0.128678\n",
       "3                                        random            0.109126\n",
       "4                                        Avg_21            0.082011\n",
       "5                               Hispanic_Female            0.069101\n",
       "6                               Free_Meal_count            0.052665\n",
       "7                                  FTE_Teachers            0.045663\n",
       "8                                      Latitude            0.030915\n",
       "9                               est_num_u17_pov            0.030219\n",
       "10                                 Grocery_dist            0.029013\n",
       "11                          Average Salary Paid            0.028974\n",
       "12                      Current_Expense_per_ADA            0.022806\n",
       "13                                Black_or_AA_F            0.018441\n",
       "14                                Grocery_3mile            0.017129\n",
       "15                               Charter_School            0.003496"
      ]
     },
     "execution_count": 32,
     "metadata": {},
     "output_type": "execute_result"
    }
   ],
   "source": [
    "base_imp = imp_df(X_train.columns, rf.feature_importances_)\n",
    "base_imp"
   ]
  },
  {
   "cell_type": "code",
   "execution_count": 33,
   "id": "36382c71-d681-4f17-b458-981ac2a40881",
   "metadata": {},
   "outputs": [
    {
     "data": {
      "image/png": "[encoded data removed]",
      "text/plain": [
       "<Figure size 432x288 with 1 Axes>"
      ]
     },
     "metadata": {
      "needs_background": "light"
     },
     "output_type": "display_data"
    }
   ],
   "source": [
    "var_imp_plot(base_imp, 'Default feature importance (scikit-learn)')"
   ]
  },
  {
   "cell_type": "markdown",
   "id": "a9fcae02-3d75-41aa-9031-cd013012d10e",
   "metadata": {},
   "source": [
    "## Without any cateorical features asain/ pacific islander population has the greatest feature inportance. Total students tested at level and puupul teacher ratio are the only other features about the ranom feature added. \n",
    "\n"
   ]
  },
  {
   "cell_type": "code",
   "execution_count": null,
   "id": "662ba364-d186-4b2d-a9b6-056415d7ca2d",
   "metadata": {},
   "outputs": [],
   "source": []
  }
 ],
 "metadata": {
  "kernelspec": {
   "display_name": "Python 3",
   "language": "python",
   "name": "python3"
  },
  "language_info": {
   "codemirror_mode": {
    "name": "ipython",
    "version": 3
   },
   "file_extension": ".py",
   "mimetype": "text/x-python",
   "name": "python",
   "nbconvert_exporter": "python",
   "pygments_lexer": "ipython3",
   "version": "3.8.8"
  }
 },
 "nbformat": 4,
 "nbformat_minor": 5
}
