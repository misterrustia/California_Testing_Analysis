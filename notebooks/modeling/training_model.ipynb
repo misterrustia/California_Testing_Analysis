{
 "cells": [
  {
   "cell_type": "markdown",
   "id": "b7ab6017-35d6-4e8d-b158-b6675e32ef9c",
   "metadata": {},
   "source": [
    "# objectives - get basic model tested after variance inflation factor used for feature selection\n",
    "\n",
    "- check feature importance afterwards, \n",
    "\n",
    "- set up for advanced model tuning "
   ]
  },
  {
   "cell_type": "code",
   "execution_count": null,
   "id": "51655dfa-8277-4c98-84b2-9e4b86562c9a",
   "metadata": {},
   "outputs": [],
   "source": []
  },
  {
   "cell_type": "code",
   "execution_count": null,
   "id": "b12a93b3-b60d-43ce-a411-5459114e4981",
   "metadata": {},
   "outputs": [],
   "source": [
    "import pandas as pd \n",
    "import numpy as np\n",
    "import matplotlib.pyplot as plt\n",
    "from sklearn import __version__ as sklearn_version\n",
    "from sklearn.model_selection import train_test_split\n",
    "from sklearn.metrics import roc_auc_score, accuracy_score, precision_score, recall_score\n",
    "from sklearn.linear_model import LogisticRegression\n",
    "from sklearn.linear_model import LinearRegression\n",
    "from sklearn import metrics\n",
    "from sklearn.metrics import r2_score, mean_absolute_error\n",
    "from sklearn.dummy import DummyRegressor\n",
    "from sklearn.preprocessing import OneHotEncoder\n",
    "from sklearn.metrics import classification_report\n",
    "from sklearn.metrics import confusion_matrix\n",
    "from sklearn.ensemble import RandomForestRegressor\n",
    "from sklearn.preprocessing import OneHotEncoder, StandardScaler\n",
    "from sklearn.pipeline import make_pipeline\n",
    "from sklearn.model_selection import cross_validate, GridSearchCV\n",
    "from sklearn.feature_selection import SelectKBest, f_regression\n",
    "from sklearn.ensemble import AdaBoostRegressor \n",
    "from sklearn.tree import DecisionTreeRegressor\n",
    "from sklearn.pipeline import Pipeline\n",
    "import datetime \n",
    "from joblib import dump, load \n",
    "import seaborn as sns\n",
    "\n",
    "from utils import save_file"
   ]
  },
  {
   "cell_type": "code",
   "execution_count": 41,
   "id": "68680ee3-a5bd-49ed-884c-df7f91456c0b",
   "metadata": {},
   "outputs": [
    {
     "name": "stdout",
     "output_type": "stream",
     "text": [
      "<class 'pandas.core.frame.DataFrame'>\n",
      "RangeIndex: 52665 entries, 0 to 52664\n",
      "Data columns (total 23 columns):\n",
      " #   Column                                       Non-Null Count  Dtype  \n",
      "---  ------                                       --------------  -----  \n",
      " 0   Mean Scale Score                             52665 non-null  float64\n",
      " 1   Total Tested with Scores at Reporting Level  52665 non-null  float64\n",
      " 2   Demographic Name                             52665 non-null  object \n",
      " 3   Student Group                                52665 non-null  object \n",
      " 4   District Type                                52665 non-null  object \n",
      " 5   Test ID                                      52665 non-null  object \n",
      " 6   School Type                                  52665 non-null  object \n",
      " 7   Education_type                               52665 non-null  object \n",
      " 8   Charter_School                               52665 non-null  int64  \n",
      " 9   Low Grade                                    52665 non-null  object \n",
      " 10  Free_Meal_count                              52665 non-null  float64\n",
      " 11  Latitude                                     52665 non-null  float64\n",
      " 12  FTE_Teachers                                 52665 non-null  float64\n",
      " 13  Pupil/Teacher-Ratio                          52665 non-null  float64\n",
      " 14  Hispanic_Female                              52665 non-null  float64\n",
      " 15  Black_or_AA_F                                52665 non-null  float64\n",
      " 16  APA_F                                        52665 non-null  float64\n",
      " 17  Avg_21                                       52665 non-null  float64\n",
      " 18  Average Salary Paid                          52665 non-null  float64\n",
      " 19  Current_Expense_per_ADA                      52665 non-null  float64\n",
      " 20  est_num_u17_pov                              52665 non-null  float64\n",
      " 21  Grocery_3mile                                52665 non-null  float64\n",
      " 22  Grocery_dist                                 52665 non-null  float64\n",
      "dtypes: float64(15), int64(1), object(7)\n",
      "memory usage: 9.2+ MB\n"
     ]
    }
   ],
   "source": [
    "df = pd.read_csv('../../data/model/final_df.csv')\n",
    "df.rename(columns={\"Asian or Asian/Pacific Islander - female [Public School] 2020-21\":'APA_F',\n",
    "                  'Current\\nExpense Per ADA':'Current_Expense_per_ADA'}\n",
    "       ,inplace=True)\n",
    "labels = df[['County_Name', 'District_Name', 'School_Name']].copy()\n",
    "df.drop(columns=['Unnamed: 0','County_Name', 'District_Name', 'School_Name']\n",
    "        ,inplace=True)\n",
    "df.info()"
   ]
  },
  {
   "cell_type": "code",
   "execution_count": 3,
   "id": "9a7a93b3-34b6-479a-97a8-dedb0a110d8b",
   "metadata": {},
   "outputs": [
    {
     "data": {
      "text/html": [
       "<div>\n",
       "<style scoped>\n",
       "    .dataframe tbody tr th:only-of-type {\n",
       "        vertical-align: middle;\n",
       "    }\n",
       "\n",
       "    .dataframe tbody tr th {\n",
       "        vertical-align: top;\n",
       "    }\n",
       "\n",
       "    .dataframe thead th {\n",
       "        text-align: right;\n",
       "    }\n",
       "</style>\n",
       "<table border=\"1\" class=\"dataframe\">\n",
       "  <thead>\n",
       "    <tr style=\"text-align: right;\">\n",
       "      <th></th>\n",
       "      <th>Mean Scale Score</th>\n",
       "      <th>Total Tested with Scores at Reporting Level</th>\n",
       "      <th>Demographic Name</th>\n",
       "      <th>Student Group</th>\n",
       "      <th>District Type</th>\n",
       "      <th>Test ID</th>\n",
       "      <th>School Type</th>\n",
       "      <th>Education_type</th>\n",
       "      <th>Charter_School</th>\n",
       "      <th>Low Grade</th>\n",
       "      <th>...</th>\n",
       "      <th>Pupil/Teacher-Ratio</th>\n",
       "      <th>Hispanic_Female</th>\n",
       "      <th>Black_or_AA_F</th>\n",
       "      <th>APA_F</th>\n",
       "      <th>Avg_21</th>\n",
       "      <th>Average Salary Paid</th>\n",
       "      <th>Current_Expense_per_ADA</th>\n",
       "      <th>est_num_u17_pov</th>\n",
       "      <th>Grocery_3mile</th>\n",
       "      <th>Grocery_dist</th>\n",
       "    </tr>\n",
       "  </thead>\n",
       "  <tbody>\n",
       "    <tr>\n",
       "      <th>0</th>\n",
       "      <td>2579.7</td>\n",
       "      <td>106.0</td>\n",
       "      <td>All Students</td>\n",
       "      <td>All Students</td>\n",
       "      <td>County Office of Education (COE)</td>\n",
       "      <td>English Language Arts/Literacy</td>\n",
       "      <td>K-12 Schools (Public)</td>\n",
       "      <td>Traditional</td>\n",
       "      <td>1</td>\n",
       "      <td>5,4,3,2,1</td>\n",
       "      <td>...</td>\n",
       "      <td>20.652848</td>\n",
       "      <td>194.364754</td>\n",
       "      <td>32.206967</td>\n",
       "      <td>361.873975</td>\n",
       "      <td>754920.0</td>\n",
       "      <td>85586.372299</td>\n",
       "      <td>13998.450902</td>\n",
       "      <td>3044.345812</td>\n",
       "      <td>50.0</td>\n",
       "      <td>1372.0</td>\n",
       "    </tr>\n",
       "    <tr>\n",
       "      <th>1</th>\n",
       "      <td>2582.4</td>\n",
       "      <td>56.0</td>\n",
       "      <td>Male</td>\n",
       "      <td>Gender</td>\n",
       "      <td>County Office of Education (COE)</td>\n",
       "      <td>English Language Arts/Literacy</td>\n",
       "      <td>K-12 Schools (Public)</td>\n",
       "      <td>Traditional</td>\n",
       "      <td>1</td>\n",
       "      <td>5,4,3,2,1</td>\n",
       "      <td>...</td>\n",
       "      <td>20.652848</td>\n",
       "      <td>194.364754</td>\n",
       "      <td>32.206967</td>\n",
       "      <td>361.873975</td>\n",
       "      <td>754920.0</td>\n",
       "      <td>85586.372299</td>\n",
       "      <td>13998.450902</td>\n",
       "      <td>3044.345812</td>\n",
       "      <td>50.0</td>\n",
       "      <td>1372.0</td>\n",
       "    </tr>\n",
       "    <tr>\n",
       "      <th>2</th>\n",
       "      <td>2577.0</td>\n",
       "      <td>50.0</td>\n",
       "      <td>Female</td>\n",
       "      <td>Gender</td>\n",
       "      <td>County Office of Education (COE)</td>\n",
       "      <td>English Language Arts/Literacy</td>\n",
       "      <td>K-12 Schools (Public)</td>\n",
       "      <td>Traditional</td>\n",
       "      <td>1</td>\n",
       "      <td>5,4,3,2,1</td>\n",
       "      <td>...</td>\n",
       "      <td>20.652848</td>\n",
       "      <td>194.364754</td>\n",
       "      <td>32.206967</td>\n",
       "      <td>361.873975</td>\n",
       "      <td>754920.0</td>\n",
       "      <td>85586.372299</td>\n",
       "      <td>13998.450902</td>\n",
       "      <td>3044.345812</td>\n",
       "      <td>50.0</td>\n",
       "      <td>1372.0</td>\n",
       "    </tr>\n",
       "    <tr>\n",
       "      <th>3</th>\n",
       "      <td>2600.2</td>\n",
       "      <td>91.0</td>\n",
       "      <td>IFEP and EO (Initial fluent English proficient...</td>\n",
       "      <td>English-Language Fluency</td>\n",
       "      <td>County Office of Education (COE)</td>\n",
       "      <td>English Language Arts/Literacy</td>\n",
       "      <td>K-12 Schools (Public)</td>\n",
       "      <td>Traditional</td>\n",
       "      <td>1</td>\n",
       "      <td>5,4,3,2,1</td>\n",
       "      <td>...</td>\n",
       "      <td>20.652848</td>\n",
       "      <td>194.364754</td>\n",
       "      <td>32.206967</td>\n",
       "      <td>361.873975</td>\n",
       "      <td>754920.0</td>\n",
       "      <td>85586.372299</td>\n",
       "      <td>13998.450902</td>\n",
       "      <td>3044.345812</td>\n",
       "      <td>50.0</td>\n",
       "      <td>1372.0</td>\n",
       "    </tr>\n",
       "    <tr>\n",
       "      <th>4</th>\n",
       "      <td>2614.4</td>\n",
       "      <td>24.0</td>\n",
       "      <td>RFEP (Reclassified fluent English proficient)</td>\n",
       "      <td>English-Language Fluency</td>\n",
       "      <td>County Office of Education (COE)</td>\n",
       "      <td>English Language Arts/Literacy</td>\n",
       "      <td>K-12 Schools (Public)</td>\n",
       "      <td>Traditional</td>\n",
       "      <td>1</td>\n",
       "      <td>5,4,3,2,1</td>\n",
       "      <td>...</td>\n",
       "      <td>20.652848</td>\n",
       "      <td>194.364754</td>\n",
       "      <td>32.206967</td>\n",
       "      <td>361.873975</td>\n",
       "      <td>754920.0</td>\n",
       "      <td>85586.372299</td>\n",
       "      <td>13998.450902</td>\n",
       "      <td>3044.345812</td>\n",
       "      <td>50.0</td>\n",
       "      <td>1372.0</td>\n",
       "    </tr>\n",
       "  </tbody>\n",
       "</table>\n",
       "<p>5 rows × 23 columns</p>\n",
       "</div>"
      ],
      "text/plain": [
       "   Mean Scale Score  Total Tested with Scores at Reporting Level  \\\n",
       "0            2579.7                                        106.0   \n",
       "1            2582.4                                         56.0   \n",
       "2            2577.0                                         50.0   \n",
       "3            2600.2                                         91.0   \n",
       "4            2614.4                                         24.0   \n",
       "\n",
       "                                    Demographic Name  \\\n",
       "0                                       All Students   \n",
       "1                                               Male   \n",
       "2                                             Female   \n",
       "3  IFEP and EO (Initial fluent English proficient...   \n",
       "4      RFEP (Reclassified fluent English proficient)   \n",
       "\n",
       "              Student Group                     District Type  \\\n",
       "0              All Students  County Office of Education (COE)   \n",
       "1                    Gender  County Office of Education (COE)   \n",
       "2                    Gender  County Office of Education (COE)   \n",
       "3  English-Language Fluency  County Office of Education (COE)   \n",
       "4  English-Language Fluency  County Office of Education (COE)   \n",
       "\n",
       "                          Test ID            School Type Education_type  \\\n",
       "0  English Language Arts/Literacy  K-12 Schools (Public)    Traditional   \n",
       "1  English Language Arts/Literacy  K-12 Schools (Public)    Traditional   \n",
       "2  English Language Arts/Literacy  K-12 Schools (Public)    Traditional   \n",
       "3  English Language Arts/Literacy  K-12 Schools (Public)    Traditional   \n",
       "4  English Language Arts/Literacy  K-12 Schools (Public)    Traditional   \n",
       "\n",
       "   Charter_School  Low Grade  ...  Pupil/Teacher-Ratio  Hispanic_Female  \\\n",
       "0               1  5,4,3,2,1  ...            20.652848       194.364754   \n",
       "1               1  5,4,3,2,1  ...            20.652848       194.364754   \n",
       "2               1  5,4,3,2,1  ...            20.652848       194.364754   \n",
       "3               1  5,4,3,2,1  ...            20.652848       194.364754   \n",
       "4               1  5,4,3,2,1  ...            20.652848       194.364754   \n",
       "\n",
       "   Black_or_AA_F       APA_F    Avg_21  Average Salary Paid  \\\n",
       "0      32.206967  361.873975  754920.0         85586.372299   \n",
       "1      32.206967  361.873975  754920.0         85586.372299   \n",
       "2      32.206967  361.873975  754920.0         85586.372299   \n",
       "3      32.206967  361.873975  754920.0         85586.372299   \n",
       "4      32.206967  361.873975  754920.0         85586.372299   \n",
       "\n",
       "   Current_Expense_per_ADA  est_num_u17_pov  Grocery_3mile  Grocery_dist  \n",
       "0             13998.450902      3044.345812           50.0        1372.0  \n",
       "1             13998.450902      3044.345812           50.0        1372.0  \n",
       "2             13998.450902      3044.345812           50.0        1372.0  \n",
       "3             13998.450902      3044.345812           50.0        1372.0  \n",
       "4             13998.450902      3044.345812           50.0        1372.0  \n",
       "\n",
       "[5 rows x 23 columns]"
      ]
     },
     "execution_count": 3,
     "metadata": {},
     "output_type": "execute_result"
    }
   ],
   "source": [
    "df.head()"
   ]
  },
  {
   "cell_type": "markdown",
   "id": "2e679b6d-bf65-4c37-a63f-95d90d87a7f6",
   "metadata": {},
   "source": [
    "## Add random variable to compare variable inportance too "
   ]
  },
  {
   "cell_type": "code",
   "execution_count": 8,
   "id": "21100c67-6ceb-42ca-994d-49786c776d98",
   "metadata": {},
   "outputs": [],
   "source": [
    "## not used in final model \n",
    "# df['random'] = np.random.random(size = len(df))"
   ]
  },
  {
   "cell_type": "markdown",
   "id": "27b43930-d9c3-49df-b9bb-9bb9cb35e21d",
   "metadata": {},
   "source": [
    "## Decrease categories for one hote encoding "
   ]
  },
  {
   "cell_type": "code",
   "execution_count": 42,
   "id": "47d37ffe-1a3c-4222-8504-5022220a13c9",
   "metadata": {},
   "outputs": [],
   "source": [
    "df['Low Grade'] = df['Low Grade'].replace({'P':'K','5,4,3,2,1':'6',\n",
    "                                           '11 or 8':'11,10,8',\n",
    "                                          '10':'11,10,8'})"
   ]
  },
  {
   "cell_type": "markdown",
   "id": "ff510484-3fdf-4a7d-9a64-980cc7c2fdb4",
   "metadata": {},
   "source": [
    "## One hot encode categotical columns "
   ]
  },
  {
   "cell_type": "code",
   "execution_count": 43,
   "id": "ea52f81d-4aeb-49e0-b6ca-04bf99d9fe75",
   "metadata": {},
   "outputs": [
    {
     "data": {
      "text/plain": [
       "(52665, 26)"
      ]
     },
     "execution_count": 43,
     "metadata": {},
     "output_type": "execute_result"
    }
   ],
   "source": [
    "# creating instance of one-hot-encoder\n",
    "enc = OneHotEncoder(handle_unknown='error',drop='first')\n",
    "\n",
    "\n",
    "enc_df = pd.DataFrame(enc.fit_transform(df[['Low Grade']]).toarray(),\n",
    "                    )\n",
    "enc_df.columns =   enc.get_feature_names_out(['Low Grade'])\n",
    "enc_df\n",
    "# # merge with main df bridge_df on key values\n",
    "df = df.join(enc_df)\n",
    "df.drop('Low Grade',inplace=True,axis=1)\n",
    "df.shape"
   ]
  },
  {
   "cell_type": "code",
   "execution_count": 44,
   "id": "3005ea20-be37-4b4c-9121-37a92aeb5a3a",
   "metadata": {},
   "outputs": [
    {
     "data": {
      "text/plain": [
       "(52665, 26)"
      ]
     },
     "execution_count": 44,
     "metadata": {},
     "output_type": "execute_result"
    }
   ],
   "source": [
    "# creating instance of one-hot-encoder\n",
    "enc = OneHotEncoder(handle_unknown='error',drop='first')\n",
    "\n",
    "\n",
    "enc_df = pd.DataFrame(enc.fit_transform(df[['Test ID']]).toarray(),\n",
    "                    )\n",
    "enc_df.columns =   enc.get_feature_names_out(['Test ID'])\n",
    "enc_df\n",
    "# # merge with main df bridge_df on key values\n",
    "df = df.join(enc_df)\n",
    "df.drop('Test ID',inplace=True,axis=1)\n",
    "df.shape"
   ]
  },
  {
   "cell_type": "code",
   "execution_count": 45,
   "id": "b77696c0-f2ab-44c4-a6d8-2bb323003836",
   "metadata": {},
   "outputs": [
    {
     "data": {
      "text/plain": [
       "(52665, 55)"
      ]
     },
     "execution_count": 45,
     "metadata": {},
     "output_type": "execute_result"
    }
   ],
   "source": [
    "enc = OneHotEncoder(handle_unknown='error',drop='first')\n",
    "\n",
    "\n",
    "enc_df = pd.DataFrame(enc.fit_transform(df[['Demographic Name']]).toarray(),\n",
    "                    )\n",
    "enc_df.columns =   enc.get_feature_names_out(['Demographic Name'])\n",
    "enc_df\n",
    "# # merge with main df bridge_df on key values\n",
    "df = df.join(enc_df)\n",
    "df.drop('Demographic Name',inplace=True,axis=1)\n",
    "df.shape"
   ]
  },
  {
   "cell_type": "code",
   "execution_count": 46,
   "id": "d2c775fa-7f48-4a28-86a2-b82004e83a45",
   "metadata": {},
   "outputs": [
    {
     "data": {
      "text/plain": [
       "(52665, 58)"
      ]
     },
     "execution_count": 46,
     "metadata": {},
     "output_type": "execute_result"
    }
   ],
   "source": [
    "enc = OneHotEncoder(handle_unknown='error',drop='first')\n",
    "\n",
    "\n",
    "enc_df = pd.DataFrame(enc.fit_transform(df[['District Type']]).toarray(),\n",
    "                    )\n",
    "enc_df.columns =   enc.get_feature_names_out(['District Type'])\n",
    "enc_df\n",
    "# # merge with main df bridge_df on key values\n",
    "df = df.join(enc_df)\n",
    "df.drop('District Type',inplace=True,axis=1)\n",
    "df.shape"
   ]
  },
  {
   "cell_type": "code",
   "execution_count": 47,
   "id": "99fc15fc-439a-426f-a313-8c24a846f620",
   "metadata": {},
   "outputs": [
    {
     "data": {
      "text/plain": [
       "(52665, 62)"
      ]
     },
     "execution_count": 47,
     "metadata": {},
     "output_type": "execute_result"
    }
   ],
   "source": [
    "enc = OneHotEncoder(handle_unknown='error',drop='first')\n",
    "\n",
    "\n",
    "enc_df = pd.DataFrame(enc.fit_transform(df[['Education_type']]).toarray(),\n",
    "                    )\n",
    "enc_df.columns =   enc.get_feature_names_out(['Education_type'])\n",
    "enc_df\n",
    "# # merge with main df bridge_df on key values\n",
    "df = df.join(enc_df)\n",
    "df.drop('Education_type',inplace=True,axis=1)\n",
    "df.shape"
   ]
  },
  {
   "cell_type": "markdown",
   "id": "d01c33c0-3f02-4668-926c-4045283217a2",
   "metadata": {},
   "source": [
    "## Final df shape "
   ]
  },
  {
   "cell_type": "code",
   "execution_count": 48,
   "id": "eb10be1e-1fe9-4f1d-a17d-391eb8ca1f44",
   "metadata": {},
   "outputs": [
    {
     "data": {
      "text/plain": [
       "(52665, 62)"
      ]
     },
     "execution_count": 48,
     "metadata": {},
     "output_type": "execute_result"
    }
   ],
   "source": [
    "df.shape"
   ]
  },
  {
   "cell_type": "markdown",
   "id": "aecb165c-31e4-459c-8bc5-b2119fd76527",
   "metadata": {},
   "source": [
    "# Create X and y"
   ]
  },
  {
   "cell_type": "code",
   "execution_count": 49,
   "id": "c36e61f0-6116-4272-b938-2e1105111ae6",
   "metadata": {},
   "outputs": [
    {
     "data": {
      "text/plain": [
       "((52665, 59), (52665,))"
      ]
     },
     "execution_count": 49,
     "metadata": {},
     "output_type": "execute_result"
    }
   ],
   "source": [
    "X = df.drop(columns=['Mean Scale Score',\n",
    "                # redundent columns \n",
    "                     'Student Group',  'School Type', ])\n",
    "y = df['Mean Scale Score']\n",
    "X.shape, y.shape"
   ]
  },
  {
   "cell_type": "markdown",
   "id": "e95036e1-a1ed-44a5-b650-00dfb4e8044d",
   "metadata": {},
   "source": [
    "## Save X with labels and y for predictions"
   ]
  },
  {
   "cell_type": "code",
   "execution_count": 50,
   "id": "49a996e6-2927-4096-86ae-f593673c0770",
   "metadata": {},
   "outputs": [
    {
     "name": "stdout",
     "output_type": "stream",
     "text": [
      "(52665, 63)\n"
     ]
    }
   ],
   "source": [
    "## save x and y for later \n",
    "\n",
    "final = X.copy()\n",
    "final['Mean Scale Score'] = y\n",
    "final[['County_Name', 'District_Name', 'School_Name']] = labels[['County_Name', 'District_Name', 'School_Name']]\n",
    "\n",
    "print(final.shape)\n",
    "final.to_csv('../../data/model/XY_final.csv')"
   ]
  },
  {
   "cell_type": "code",
   "execution_count": 16,
   "id": "cd6be926-ff80-4e4c-a308-64775b2b25eb",
   "metadata": {},
   "outputs": [],
   "source": [
    " X_train, X_test, y_train, y_test = train_test_split(  X, y ,\n",
    "                         test_size=0.2, random_state=42)\n",
    "    \n",
    "    "
   ]
  },
  {
   "cell_type": "markdown",
   "id": "58a2540d-453e-4473-82f9-ba7a2f40b3a3",
   "metadata": {},
   "source": [
    "## Create pipeline for linear model "
   ]
  },
  {
   "cell_type": "code",
   "execution_count": 12,
   "id": "d785da5c-5748-4bcb-a1ef-5b4675ab1b84",
   "metadata": {},
   "outputs": [],
   "source": [
    "scaler = StandardScaler()\n",
    "scaler.fit(X_train)\n",
    "X_tr_scaled = scaler.transform(X_train)\n",
    "X_te_scaled = scaler.transform(X_test)"
   ]
  },
  {
   "cell_type": "code",
   "execution_count": 13,
   "id": "4705e1c1-dfe5-45bd-a0d1-4eeaed3a5899",
   "metadata": {},
   "outputs": [],
   "source": [
    "lm = LinearRegression().fit(X_tr_scaled,y_train)"
   ]
  },
  {
   "cell_type": "code",
   "execution_count": 14,
   "id": "ab977e72-7558-4d47-8eec-c81b64d3066d",
   "metadata": {},
   "outputs": [],
   "source": [
    "y_tr_pred = lm.predict(X_tr_scaled)\n",
    "y_te_pred = lm.predict(X_te_scaled)"
   ]
  },
  {
   "cell_type": "code",
   "execution_count": null,
   "id": "85f9b2fd-138a-400e-9e48-975c5fb8c485",
   "metadata": {},
   "outputs": [],
   "source": []
  },
  {
   "cell_type": "code",
   "execution_count": 15,
   "id": "625a6e4f-7078-4536-94ff-8e29516c03a6",
   "metadata": {},
   "outputs": [
    {
     "data": {
      "text/plain": [
       "(0.6545051475563155, 0.6541179443668361)"
      ]
     },
     "execution_count": 15,
     "metadata": {},
     "output_type": "execute_result"
    }
   ],
   "source": [
    "median_r2 = r2_score(y_train, y_tr_pred), r2_score(y_test, y_te_pred)\n",
    "median_r2"
   ]
  },
  {
   "cell_type": "code",
   "execution_count": 16,
   "id": "34d5b677-8ba7-4182-840e-7e6fa01205ff",
   "metadata": {},
   "outputs": [
    {
     "data": {
      "text/plain": [
       "(35.03851890791086, 34.91477468215217)"
      ]
     },
     "execution_count": 16,
     "metadata": {},
     "output_type": "execute_result"
    }
   ],
   "source": [
    "median_mae = mean_absolute_error(y_train, y_tr_pred), mean_absolute_error(y_test, y_te_pred)\n",
    "median_mae"
   ]
  },
  {
   "cell_type": "code",
   "execution_count": 17,
   "id": "33cc1cff-c2e3-4986-895b-0ef1f1ed59f4",
   "metadata": {},
   "outputs": [
    {
     "data": {
      "text/plain": [
       "(42132, 59)"
      ]
     },
     "execution_count": 17,
     "metadata": {},
     "output_type": "execute_result"
    }
   ],
   "source": [
    "X_train.shape"
   ]
  },
  {
   "cell_type": "code",
   "execution_count": 24,
   "id": "6a557279-ef24-4b38-9dc6-96ec4302c1a2",
   "metadata": {},
   "outputs": [],
   "source": [
    "pipe = make_pipeline(\n",
    "    StandardScaler(),\n",
    "    SelectKBest(score_func=f_regression,k=40),\n",
    "    LinearRegression()\n",
    ")"
   ]
  },
  {
   "cell_type": "code",
   "execution_count": 25,
   "id": "8f9bcf33-6bdb-4714-ad9e-8c27a403052d",
   "metadata": {},
   "outputs": [],
   "source": [
    "pipe.fit(X_train,y_train)\n",
    "y_tr_pred = pipe.predict(X_train)\n",
    "y_te_pred = pipe.predict(X_test)"
   ]
  },
  {
   "cell_type": "code",
   "execution_count": 26,
   "id": "f3fff088-f37d-42bf-9da6-4b31b7d87f37",
   "metadata": {},
   "outputs": [
    {
     "data": {
      "text/plain": [
       "(0.6447161596229172, 0.644658839470919)"
      ]
     },
     "execution_count": 26,
     "metadata": {},
     "output_type": "execute_result"
    }
   ],
   "source": [
    "r2_score(y_train, y_tr_pred), r2_score(y_test, y_te_pred)"
   ]
  },
  {
   "cell_type": "code",
   "execution_count": 27,
   "id": "906c78c6-4d08-4617-a470-a9f2f0b08be2",
   "metadata": {},
   "outputs": [
    {
     "data": {
      "text/plain": [
       "(35.48161211596395, 35.39462084529474)"
      ]
     },
     "execution_count": 27,
     "metadata": {},
     "output_type": "execute_result"
    }
   ],
   "source": [
    "mean_absolute_error(y_train, y_tr_pred), mean_absolute_error(y_test, y_te_pred)"
   ]
  },
  {
   "cell_type": "code",
   "execution_count": 28,
   "id": "f1dba3df-91ff-4e57-afaa-9642470f0d5a",
   "metadata": {},
   "outputs": [
    {
     "data": {
      "text/plain": [
       "(0.6433582769836337, 0.005685183939547486)"
      ]
     },
     "execution_count": 28,
     "metadata": {},
     "output_type": "execute_result"
    }
   ],
   "source": [
    "cv_results = cross_validate(pipe, X_train,y_train, cv=5)\n",
    "cv_scores = cv_results['test_score']\n",
    "np.mean(cv_scores), np.std(cv_scores)"
   ]
  },
  {
   "cell_type": "markdown",
   "id": "3ff32ece-6e51-4ee1-8ac6-78f94b2a97d9",
   "metadata": {},
   "source": [
    "# Linear model output \n",
    "## Cross validation does not increase r2 , small variation between models \n",
    "\n",
    "## look to use grid search on number of features for hypter paramter tuning "
   ]
  },
  {
   "cell_type": "code",
   "execution_count": 19,
   "id": "a93ba531-ffb8-47aa-8f44-3419a7960006",
   "metadata": {},
   "outputs": [],
   "source": [
    "k = [k+1 for k in range(len(X_train.columns))]\n",
    "grid_params = {'selectkbest__k': k}"
   ]
  },
  {
   "cell_type": "code",
   "execution_count": 20,
   "id": "b69c6f9b-040d-4019-aeb1-7305bac372d8",
   "metadata": {},
   "outputs": [],
   "source": [
    "from sklearn.model_selection import GridSearchCV"
   ]
  },
  {
   "cell_type": "code",
   "execution_count": 21,
   "id": "f14c79cc-22c2-44d4-ab1a-39bb4196a076",
   "metadata": {},
   "outputs": [],
   "source": [
    "pipe = make_pipeline(\n",
    "    StandardScaler(),\n",
    "    SelectKBest(score_func=f_regression),\n",
    "    LinearRegression()\n",
    ")"
   ]
  },
  {
   "cell_type": "code",
   "execution_count": 22,
   "id": "54b2edec-9be2-43a4-abfc-a20c948811e5",
   "metadata": {},
   "outputs": [],
   "source": [
    "lr_grid_cv = GridSearchCV(pipe,param_grid= grid_params, cv=5, n_jobs=-1)"
   ]
  },
  {
   "cell_type": "code",
   "execution_count": 23,
   "id": "7890672d-3cf7-4995-bba4-6f8674f546e0",
   "metadata": {},
   "outputs": [
    {
     "data": {
      "text/plain": [
       "GridSearchCV(cv=5,\n",
       "             estimator=Pipeline(steps=[('standardscaler', StandardScaler()),\n",
       "                                       ('selectkbest',\n",
       "                                        SelectKBest(score_func=<function f_regression at 0x7ff459ccb310>)),\n",
       "                                       ('linearregression',\n",
       "                                        LinearRegression())]),\n",
       "             n_jobs=-1,\n",
       "             param_grid={'selectkbest__k': [1, 2, 3, 4, 5, 6, 7, 8, 9, 10, 11,\n",
       "                                            12, 13, 14, 15, 16, 17, 18, 19, 20,\n",
       "                                            21, 22, 23, 24, 25, 26, 27, 28, 29,\n",
       "                                            30, ...]})"
      ]
     },
     "execution_count": 23,
     "metadata": {},
     "output_type": "execute_result"
    }
   ],
   "source": [
    "lr_grid_cv.fit(X_train, y_train)"
   ]
  },
  {
   "cell_type": "code",
   "execution_count": 24,
   "id": "a00b7dd0-b997-4c80-b20b-8c26503e1000",
   "metadata": {},
   "outputs": [],
   "source": [
    "score_mean = lr_grid_cv.cv_results_['mean_test_score']\n",
    "score_std = lr_grid_cv.cv_results_['std_test_score']\n",
    "cv_k = [k for k in lr_grid_cv.cv_results_['param_selectkbest__k']]"
   ]
  },
  {
   "cell_type": "code",
   "execution_count": 25,
   "id": "f7f96087-7325-4b19-b770-b76f2c41d863",
   "metadata": {},
   "outputs": [
    {
     "data": {
      "text/plain": [
       "{'selectkbest__k': 59}"
      ]
     },
     "execution_count": 25,
     "metadata": {},
     "output_type": "execute_result"
    }
   ],
   "source": [
    "lr_grid_cv.best_params_"
   ]
  },
  {
   "cell_type": "code",
   "execution_count": 26,
   "id": "3db83cb3-6f9a-4743-b474-97a44bfb894f",
   "metadata": {},
   "outputs": [
    {
     "data": {
      "text/plain": [
       "Pipeline(steps=[('standardscaler', StandardScaler()),\n",
       "                ('selectkbest',\n",
       "                 SelectKBest(k=59,\n",
       "                             score_func=<function f_regression at 0x7ff459ccb310>)),\n",
       "                ('linearregression', LinearRegression())])"
      ]
     },
     "execution_count": 26,
     "metadata": {},
     "output_type": "execute_result"
    }
   ],
   "source": [
    "lr_grid_cv.best_estimator_"
   ]
  },
  {
   "cell_type": "code",
   "execution_count": 27,
   "id": "a973eb90-2d6e-4af0-a4b9-5c387bb74eae",
   "metadata": {},
   "outputs": [
    {
     "data": {
      "image/png": "[encoded data removed]",
      "text/plain": [
       "<Figure size 720x360 with 1 Axes>"
      ]
     },
     "metadata": {
      "needs_background": "light"
     },
     "output_type": "display_data"
    }
   ],
   "source": [
    "best_k = lr_grid_cv.best_params_['selectkbest__k']\n",
    "plt.subplots(figsize=(10, 5))\n",
    "plt.errorbar(cv_k, score_mean, yerr=score_std)\n",
    "plt.axvline(x=best_k, c='r', ls='--', alpha=.5)\n",
    "plt.xlabel('k')\n",
    "plt.ylabel('CV score (r-squared)')\n",
    "plt.title('Pipeline mean CV score (error bars +/- 1sd)');"
   ]
  },
  {
   "cell_type": "markdown",
   "id": "14fab2ba-f44b-45a3-bee8-d670d678decf",
   "metadata": {},
   "source": [
    "# Linear model wants to use all of the features for best cv score "
   ]
  },
  {
   "cell_type": "code",
   "execution_count": 28,
   "id": "44686356-399b-4a2b-b4e8-d290500fe53b",
   "metadata": {},
   "outputs": [],
   "source": [
    "selected = lr_grid_cv.best_estimator_.named_steps.selectkbest.get_support()\n",
    "coefs = lr_grid_cv.best_estimator_.named_steps.linearregression.coef_\n",
    "features = X_train.columns[selected]\n",
    "# pd.Series(coefs, index=features).sort_values(ascending=False)"
   ]
  },
  {
   "cell_type": "code",
   "execution_count": 29,
   "id": "09d3ed5e-67f1-4f85-ba0f-14590fc7f118",
   "metadata": {},
   "outputs": [
    {
     "data": {
      "text/html": [
       "<div>\n",
       "<style scoped>\n",
       "    .dataframe tbody tr th:only-of-type {\n",
       "        vertical-align: middle;\n",
       "    }\n",
       "\n",
       "    .dataframe tbody tr th {\n",
       "        vertical-align: top;\n",
       "    }\n",
       "\n",
       "    .dataframe thead th {\n",
       "        text-align: right;\n",
       "    }\n",
       "</style>\n",
       "<table border=\"1\" class=\"dataframe\">\n",
       "  <thead>\n",
       "    <tr style=\"text-align: right;\">\n",
       "      <th></th>\n",
       "      <th>coef</th>\n",
       "    </tr>\n",
       "  </thead>\n",
       "  <tbody>\n",
       "    <tr>\n",
       "      <th>FTE_Teachers</th>\n",
       "      <td>14.724981</td>\n",
       "    </tr>\n",
       "    <tr>\n",
       "      <th>Avg_21</th>\n",
       "      <td>12.941773</td>\n",
       "    </tr>\n",
       "    <tr>\n",
       "      <th>Pupil/Teacher-Ratio</th>\n",
       "      <td>12.824476</td>\n",
       "    </tr>\n",
       "    <tr>\n",
       "      <th>Demographic Name_Asian</th>\n",
       "      <td>11.465370</td>\n",
       "    </tr>\n",
       "    <tr>\n",
       "      <th>Demographic Name_Graduate school/Post graduate</th>\n",
       "      <td>7.834904</td>\n",
       "    </tr>\n",
       "    <tr>\n",
       "      <th>Demographic Name_IFEP (Initial fluent English proficient)</th>\n",
       "      <td>7.146550</td>\n",
       "    </tr>\n",
       "    <tr>\n",
       "      <th>APA_F</th>\n",
       "      <td>6.123609</td>\n",
       "    </tr>\n",
       "    <tr>\n",
       "      <th>Demographic Name_White</th>\n",
       "      <td>5.718732</td>\n",
       "    </tr>\n",
       "    <tr>\n",
       "      <th>Total Tested with Scores at Reporting Level</th>\n",
       "      <td>5.635695</td>\n",
       "    </tr>\n",
       "    <tr>\n",
       "      <th>Demographic Name_Filipino</th>\n",
       "      <td>5.365865</td>\n",
       "    </tr>\n",
       "    <tr>\n",
       "      <th>Demographic Name_College graduate</th>\n",
       "      <td>5.242750</td>\n",
       "    </tr>\n",
       "    <tr>\n",
       "      <th>Demographic Name_Two or more races</th>\n",
       "      <td>4.731808</td>\n",
       "    </tr>\n",
       "    <tr>\n",
       "      <th>Demographic Name_Not economically disadvantaged</th>\n",
       "      <td>4.714742</td>\n",
       "    </tr>\n",
       "    <tr>\n",
       "      <th>District Type_High School District</th>\n",
       "      <td>4.225585</td>\n",
       "    </tr>\n",
       "    <tr>\n",
       "      <th>Low Grade_9</th>\n",
       "      <td>3.922965</td>\n",
       "    </tr>\n",
       "    <tr>\n",
       "      <th>District Type_Unified School District</th>\n",
       "      <td>2.950254</td>\n",
       "    </tr>\n",
       "    <tr>\n",
       "      <th>Grocery_dist</th>\n",
       "      <td>2.681542</td>\n",
       "    </tr>\n",
       "    <tr>\n",
       "      <th>Low Grade_7</th>\n",
       "      <td>2.399702</td>\n",
       "    </tr>\n",
       "    <tr>\n",
       "      <th>Demographic Name_Female</th>\n",
       "      <td>2.277211</td>\n",
       "    </tr>\n",
       "    <tr>\n",
       "      <th>Demographic Name_IFEP and EO (Initial fluent English proficient and English only)</th>\n",
       "      <td>2.122453</td>\n",
       "    </tr>\n",
       "    <tr>\n",
       "      <th>Demographic Name_EO (English only)</th>\n",
       "      <td>1.935571</td>\n",
       "    </tr>\n",
       "    <tr>\n",
       "      <th>Demographic Name_No reported disabilities</th>\n",
       "      <td>1.865121</td>\n",
       "    </tr>\n",
       "    <tr>\n",
       "      <th>Demographic Name_RFEP (Reclassified fluent English proficient)</th>\n",
       "      <td>1.853966</td>\n",
       "    </tr>\n",
       "    <tr>\n",
       "      <th>Average Salary Paid</th>\n",
       "      <td>1.800858</td>\n",
       "    </tr>\n",
       "    <tr>\n",
       "      <th>Low Grade_6</th>\n",
       "      <td>0.920464</td>\n",
       "    </tr>\n",
       "    <tr>\n",
       "      <th>Demographic Name_Not homeless</th>\n",
       "      <td>0.318060</td>\n",
       "    </tr>\n",
       "    <tr>\n",
       "      <th>Demographic Name_Armed forces family member</th>\n",
       "      <td>0.202524</td>\n",
       "    </tr>\n",
       "    <tr>\n",
       "      <th>Demographic Name_Not armed forces family member</th>\n",
       "      <td>0.082266</td>\n",
       "    </tr>\n",
       "    <tr>\n",
       "      <th>Grocery_3mile</th>\n",
       "      <td>0.035688</td>\n",
       "    </tr>\n",
       "    <tr>\n",
       "      <th>Demographic Name_Not migrant education</th>\n",
       "      <td>0.014923</td>\n",
       "    </tr>\n",
       "    <tr>\n",
       "      <th>Demographic Name_Some college (includes AA degree)</th>\n",
       "      <td>-0.081960</td>\n",
       "    </tr>\n",
       "    <tr>\n",
       "      <th>est_num_u17_pov</th>\n",
       "      <td>-0.360172</td>\n",
       "    </tr>\n",
       "    <tr>\n",
       "      <th>Education_type_Traditional</th>\n",
       "      <td>-0.653380</td>\n",
       "    </tr>\n",
       "    <tr>\n",
       "      <th>District Type_Elementary School District</th>\n",
       "      <td>-0.669445</td>\n",
       "    </tr>\n",
       "    <tr>\n",
       "      <th>Demographic Name_Male</th>\n",
       "      <td>-0.936101</td>\n",
       "    </tr>\n",
       "    <tr>\n",
       "      <th>Charter_School</th>\n",
       "      <td>-1.161475</td>\n",
       "    </tr>\n",
       "    <tr>\n",
       "      <th>Low Grade_K</th>\n",
       "      <td>-1.379121</td>\n",
       "    </tr>\n",
       "    <tr>\n",
       "      <th>Demographic Name_Declined to state</th>\n",
       "      <td>-2.068660</td>\n",
       "    </tr>\n",
       "    <tr>\n",
       "      <th>Current_Expense_per_ADA</th>\n",
       "      <td>-2.145313</td>\n",
       "    </tr>\n",
       "    <tr>\n",
       "      <th>Demographic Name_Homeless</th>\n",
       "      <td>-2.196226</td>\n",
       "    </tr>\n",
       "    <tr>\n",
       "      <th>Demographic Name_Ever�EL</th>\n",
       "      <td>-2.204432</td>\n",
       "    </tr>\n",
       "    <tr>\n",
       "      <th>Latitude</th>\n",
       "      <td>-2.284990</td>\n",
       "    </tr>\n",
       "    <tr>\n",
       "      <th>Demographic Name_High school graduate</th>\n",
       "      <td>-2.543309</td>\n",
       "    </tr>\n",
       "    <tr>\n",
       "      <th>Demographic Name_Economically disadvantaged</th>\n",
       "      <td>-2.639432</td>\n",
       "    </tr>\n",
       "    <tr>\n",
       "      <th>Black_or_AA_F</th>\n",
       "      <td>-2.743074</td>\n",
       "    </tr>\n",
       "    <tr>\n",
       "      <th>District Type_other</th>\n",
       "      <td>-2.794861</td>\n",
       "    </tr>\n",
       "    <tr>\n",
       "      <th>Education_type_other</th>\n",
       "      <td>-3.943270</td>\n",
       "    </tr>\n",
       "    <tr>\n",
       "      <th>Demographic Name_Hispanic or Latino</th>\n",
       "      <td>-4.126790</td>\n",
       "    </tr>\n",
       "    <tr>\n",
       "      <th>Demographic Name_Black or African American</th>\n",
       "      <td>-4.164170</td>\n",
       "    </tr>\n",
       "    <tr>\n",
       "      <th>Demographic Name_Not a high school graduate</th>\n",
       "      <td>-4.196443</td>\n",
       "    </tr>\n",
       "    <tr>\n",
       "      <th>Free_Meal_count</th>\n",
       "      <td>-5.234193</td>\n",
       "    </tr>\n",
       "    <tr>\n",
       "      <th>Education_type_County Community School</th>\n",
       "      <td>-7.581009</td>\n",
       "    </tr>\n",
       "    <tr>\n",
       "      <th>Education_type_Juvenile Court School</th>\n",
       "      <td>-9.012522</td>\n",
       "    </tr>\n",
       "    <tr>\n",
       "      <th>Demographic Name_EL (English learner)</th>\n",
       "      <td>-13.898343</td>\n",
       "    </tr>\n",
       "    <tr>\n",
       "      <th>Demographic Name_ELs enrolled 12 months or more</th>\n",
       "      <td>-13.936318</td>\n",
       "    </tr>\n",
       "    <tr>\n",
       "      <th>Hispanic_Female</th>\n",
       "      <td>-15.547527</td>\n",
       "    </tr>\n",
       "    <tr>\n",
       "      <th>Demographic Name_Reported disabilities</th>\n",
       "      <td>-15.962464</td>\n",
       "    </tr>\n",
       "    <tr>\n",
       "      <th>Test ID_Mathematics</th>\n",
       "      <td>-16.330107</td>\n",
       "    </tr>\n",
       "    <tr>\n",
       "      <th>Education_type_Continuation School</th>\n",
       "      <td>-23.020287</td>\n",
       "    </tr>\n",
       "  </tbody>\n",
       "</table>\n",
       "</div>"
      ],
      "text/plain": [
       "                                                         coef\n",
       "FTE_Teachers                                        14.724981\n",
       "Avg_21                                              12.941773\n",
       "Pupil/Teacher-Ratio                                 12.824476\n",
       "Demographic Name_Asian                              11.465370\n",
       "Demographic Name_Graduate school/Post graduate       7.834904\n",
       "Demographic Name_IFEP (Initial fluent English p...   7.146550\n",
       "APA_F                                                6.123609\n",
       "Demographic Name_White                               5.718732\n",
       "Total Tested with Scores at Reporting Level          5.635695\n",
       "Demographic Name_Filipino                            5.365865\n",
       "Demographic Name_College graduate                    5.242750\n",
       "Demographic Name_Two or more races                   4.731808\n",
       "Demographic Name_Not economically disadvantaged      4.714742\n",
       "District Type_High School District                   4.225585\n",
       "Low Grade_9                                          3.922965\n",
       "District Type_Unified School District                2.950254\n",
       "Grocery_dist                                         2.681542\n",
       "Low Grade_7                                          2.399702\n",
       "Demographic Name_Female                              2.277211\n",
       "Demographic Name_IFEP and EO (Initial fluent En...   2.122453\n",
       "Demographic Name_EO (English only)                   1.935571\n",
       "Demographic Name_No reported disabilities            1.865121\n",
       "Demographic Name_RFEP (Reclassified fluent Engl...   1.853966\n",
       "Average Salary Paid                                  1.800858\n",
       "Low Grade_6                                          0.920464\n",
       "Demographic Name_Not homeless                        0.318060\n",
       "Demographic Name_Armed forces family member          0.202524\n",
       "Demographic Name_Not armed forces family member      0.082266\n",
       "Grocery_3mile                                        0.035688\n",
       "Demographic Name_Not migrant education               0.014923\n",
       "Demographic Name_Some college (includes AA degree)  -0.081960\n",
       "est_num_u17_pov                                     -0.360172\n",
       "Education_type_Traditional                          -0.653380\n",
       "District Type_Elementary School District            -0.669445\n",
       "Demographic Name_Male                               -0.936101\n",
       "Charter_School                                      -1.161475\n",
       "Low Grade_K                                         -1.379121\n",
       "Demographic Name_Declined to state                  -2.068660\n",
       "Current_Expense_per_ADA                             -2.145313\n",
       "Demographic Name_Homeless                           -2.196226\n",
       "Demographic Name_Ever�EL                            -2.204432\n",
       "Latitude                                            -2.284990\n",
       "Demographic Name_High school graduate               -2.543309\n",
       "Demographic Name_Economically disadvantaged         -2.639432\n",
       "Black_or_AA_F                                       -2.743074\n",
       "District Type_other                                 -2.794861\n",
       "Education_type_other                                -3.943270\n",
       "Demographic Name_Hispanic or Latino                 -4.126790\n",
       "Demographic Name_Black or African American          -4.164170\n",
       "Demographic Name_Not a high school graduate         -4.196443\n",
       "Free_Meal_count                                     -5.234193\n",
       "Education_type_County Community School              -7.581009\n",
       "Education_type_Juvenile Court School                -9.012522\n",
       "Demographic Name_EL (English learner)              -13.898343\n",
       "Demographic Name_ELs enrolled 12 months or more    -13.936318\n",
       "Hispanic_Female                                    -15.547527\n",
       "Demographic Name_Reported disabilities             -15.962464\n",
       "Test ID_Mathematics                                -16.330107\n",
       "Education_type_Continuation School                 -23.020287"
      ]
     },
     "execution_count": 29,
     "metadata": {},
     "output_type": "execute_result"
    }
   ],
   "source": [
    "coefficients = pd.DataFrame(coefs, \n",
    "     index = features, columns =['coef']).sort_values(by='coef',ascending=False)\n",
    "coefficients"
   ]
  },
  {
   "cell_type": "code",
   "execution_count": null,
   "id": "1695e51e-23d9-42f6-beed-bb5ffbb4e4f2",
   "metadata": {},
   "outputs": [],
   "source": []
  },
  {
   "cell_type": "markdown",
   "id": "404eb733-2548-4b7d-947c-1960dd47cf58",
   "metadata": {},
   "source": [
    "## Some continuous features associated with higher score predictions \n",
    "- Full time Educators (FTE)\n",
    "- Average housing price of zip code 2021\n",
    "- pupil teacher ratio\n",
    "- post graduate parent eductiion "
   ]
  },
  {
   "cell_type": "markdown",
   "id": "15a4aa78-5465-4271-9ba1-8b9c2700c709",
   "metadata": {},
   "source": [
    "## Some categorical features associated with lower score predictions from the one hot enocded education type, demographic name and school population features. \n",
    "- Continuation School , county community school Juvenile court school\n",
    "- Math test ( vs ELA)\n",
    "- reported disabilities , EL groups  \n",
    "- free meal count "
   ]
  },
  {
   "cell_type": "markdown",
   "id": "d4970811-08b1-4a73-bf18-420d095aaa4f",
   "metadata": {},
   "source": [
    "# Random forest Modeling \n",
    "- modeing with df baggin model "
   ]
  },
  {
   "cell_type": "code",
   "execution_count": 31,
   "id": "35411ce4-babf-4d19-adfa-54c063a9391b",
   "metadata": {},
   "outputs": [
    {
     "data": {
      "text/plain": [
       "RandomForestRegressor(n_jobs=-1, oob_score=True, random_state=42)"
      ]
     },
     "execution_count": 31,
     "metadata": {},
     "output_type": "execute_result"
    }
   ],
   "source": [
    "rf = RandomForestRegressor(n_estimators = 100,\n",
    "                           n_jobs = -1,\n",
    "                           oob_score = True,\n",
    "                           bootstrap = True,\n",
    "                           random_state = 42)\n",
    "rf.fit(X_train, y_train)\n",
    "\n",
    "             "
   ]
  },
  {
   "cell_type": "code",
   "execution_count": 32,
   "id": "2ac84c1f-0d71-40a1-b9fb-dce729949461",
   "metadata": {},
   "outputs": [
    {
     "name": "stdout",
     "output_type": "stream",
     "text": [
      "R^2 Training Score: 0.99 \n",
      "OOB Score: 0.93 \n",
      "R^2 Validation Score: 0.93\n"
     ]
    }
   ],
   "source": [
    "print('R^2 Training Score: {:.2f} \\nOOB Score: {:.2f} \\nR^2 Validation Score: {:.2f}'.format(rf.score(X_train, y_train), \n",
    "                                                                                             rf.oob_score_,\n",
    "                                                                                             rf.score(X_test, y_test)))\n"
   ]
  },
  {
   "cell_type": "code",
   "execution_count": 33,
   "id": "167ab776-b0cb-429f-9d7e-cbc00d46ed1c",
   "metadata": {},
   "outputs": [],
   "source": [
    "y_te_rf_pred=rf.predict(X_test)"
   ]
  },
  {
   "cell_type": "code",
   "execution_count": 34,
   "id": "fda54fd3-202f-46db-9997-d0cc7c204100",
   "metadata": {},
   "outputs": [
    {
     "data": {
      "text/plain": [
       "0.9295519879912157"
      ]
     },
     "execution_count": 34,
     "metadata": {},
     "output_type": "execute_result"
    }
   ],
   "source": [
    "r2_score(y_test,y_te_rf_pred)"
   ]
  },
  {
   "cell_type": "code",
   "execution_count": 35,
   "id": "dcba4f02-05c3-4cfc-962f-17727e7a0ec6",
   "metadata": {},
   "outputs": [
    {
     "data": {
      "text/plain": [
       "(4.959606862408242, 13.11583754677283)"
      ]
     },
     "execution_count": 35,
     "metadata": {},
     "output_type": "execute_result"
    }
   ],
   "source": [
    "median_mae = mean_absolute_error(y_train, rf.predict(X_train)), mean_absolute_error(y_test, y_te_rf_pred)\n",
    "median_mae\n",
    "\n"
   ]
  },
  {
   "cell_type": "markdown",
   "id": "25f2afbe-e230-4386-b6e1-5d6f9d2e4a7b",
   "metadata": {},
   "source": [
    "## Standard rf model score \n",
    "- rf model off by 5 points on training and 13 on testing, 2.6 times better score than linear model "
   ]
  },
  {
   "cell_type": "markdown",
   "id": "126e7693-471a-4558-9a26-31dd3efec54f",
   "metadata": {},
   "source": [
    "## Visulising feature importance "
   ]
  },
  {
   "cell_type": "code",
   "execution_count": 36,
   "id": "196af70a-a27a-40cc-83dc-3de6f284f634",
   "metadata": {},
   "outputs": [],
   "source": [
    "# https://github.com/erykml/medium_articles/blob/master/Machine%20Learning/feature_importance.ipynb\n",
    "\n",
    "# function for creating a feature importance dataframe\n",
    "def imp_df(column_names, importances):\n",
    "    df = pd.DataFrame({'feature': column_names,\n",
    "                       'feature_importance': importances}) \\\n",
    "           .sort_values('feature_importance', ascending = False) \\\n",
    "           .reset_index(drop = True)\n",
    "    return df\n",
    "\n",
    "# plotting a feature importance dataframe (horizontal barchart)\n",
    "def var_imp_plot(imp_df, title):\n",
    "    imp_df.columns = ['feature', 'feature_importance']\n",
    "    fig ,ax = plt.subplots(figsize=(12,12))\n",
    "    fig = sns.barplot(x = 'feature_importance', y = 'feature', data = imp_df, orient = 'h', color = 'royalblue') \\\n",
    "       .set_title(title, fontsize = 20)\n",
    "    sns.despine()"
   ]
  },
  {
   "cell_type": "code",
   "execution_count": 37,
   "id": "8251ab70-9688-4a71-b442-764d749a92fe",
   "metadata": {},
   "outputs": [
    {
     "data": {
      "text/html": [
       "<div>\n",
       "<style scoped>\n",
       "    .dataframe tbody tr th:only-of-type {\n",
       "        vertical-align: middle;\n",
       "    }\n",
       "\n",
       "    .dataframe tbody tr th {\n",
       "        vertical-align: top;\n",
       "    }\n",
       "\n",
       "    .dataframe thead th {\n",
       "        text-align: right;\n",
       "    }\n",
       "</style>\n",
       "<table border=\"1\" class=\"dataframe\">\n",
       "  <thead>\n",
       "    <tr style=\"text-align: right;\">\n",
       "      <th></th>\n",
       "      <th>feature</th>\n",
       "      <th>feature_importance</th>\n",
       "    </tr>\n",
       "  </thead>\n",
       "  <tbody>\n",
       "    <tr>\n",
       "      <th>0</th>\n",
       "      <td>Education_type_Continuation School</td>\n",
       "      <td>0.155317</td>\n",
       "    </tr>\n",
       "    <tr>\n",
       "      <th>1</th>\n",
       "      <td>APA_F</td>\n",
       "      <td>0.127494</td>\n",
       "    </tr>\n",
       "    <tr>\n",
       "      <th>2</th>\n",
       "      <td>Avg_21</td>\n",
       "      <td>0.068829</td>\n",
       "    </tr>\n",
       "    <tr>\n",
       "      <th>3</th>\n",
       "      <td>Hispanic_Female</td>\n",
       "      <td>0.061937</td>\n",
       "    </tr>\n",
       "    <tr>\n",
       "      <th>4</th>\n",
       "      <td>Pupil/Teacher-Ratio</td>\n",
       "      <td>0.058074</td>\n",
       "    </tr>\n",
       "    <tr>\n",
       "      <th>5</th>\n",
       "      <td>Test ID_Mathematics</td>\n",
       "      <td>0.054507</td>\n",
       "    </tr>\n",
       "    <tr>\n",
       "      <th>6</th>\n",
       "      <td>Demographic Name_Reported disabilities</td>\n",
       "      <td>0.047472</td>\n",
       "    </tr>\n",
       "    <tr>\n",
       "      <th>7</th>\n",
       "      <td>Free_Meal_count</td>\n",
       "      <td>0.043579</td>\n",
       "    </tr>\n",
       "    <tr>\n",
       "      <th>8</th>\n",
       "      <td>Demographic Name_EL (English learner)</td>\n",
       "      <td>0.037050</td>\n",
       "    </tr>\n",
       "    <tr>\n",
       "      <th>9</th>\n",
       "      <td>Demographic Name_ELs enrolled 12 months or more</td>\n",
       "      <td>0.036406</td>\n",
       "    </tr>\n",
       "    <tr>\n",
       "      <th>10</th>\n",
       "      <td>Total Tested with Scores at Reporting Level</td>\n",
       "      <td>0.033419</td>\n",
       "    </tr>\n",
       "    <tr>\n",
       "      <th>11</th>\n",
       "      <td>Latitude</td>\n",
       "      <td>0.026091</td>\n",
       "    </tr>\n",
       "    <tr>\n",
       "      <th>12</th>\n",
       "      <td>FTE_Teachers</td>\n",
       "      <td>0.024434</td>\n",
       "    </tr>\n",
       "    <tr>\n",
       "      <th>13</th>\n",
       "      <td>Average Salary Paid</td>\n",
       "      <td>0.022695</td>\n",
       "    </tr>\n",
       "    <tr>\n",
       "      <th>14</th>\n",
       "      <td>Grocery_dist</td>\n",
       "      <td>0.022560</td>\n",
       "    </tr>\n",
       "    <tr>\n",
       "      <th>15</th>\n",
       "      <td>est_num_u17_pov</td>\n",
       "      <td>0.020849</td>\n",
       "    </tr>\n",
       "    <tr>\n",
       "      <th>16</th>\n",
       "      <td>Demographic Name_Asian</td>\n",
       "      <td>0.016242</td>\n",
       "    </tr>\n",
       "    <tr>\n",
       "      <th>17</th>\n",
       "      <td>Current_Expense_per_ADA</td>\n",
       "      <td>0.015993</td>\n",
       "    </tr>\n",
       "    <tr>\n",
       "      <th>18</th>\n",
       "      <td>Black_or_AA_F</td>\n",
       "      <td>0.014130</td>\n",
       "    </tr>\n",
       "    <tr>\n",
       "      <th>19</th>\n",
       "      <td>Grocery_3mile</td>\n",
       "      <td>0.009554</td>\n",
       "    </tr>\n",
       "  </tbody>\n",
       "</table>\n",
       "</div>"
      ],
      "text/plain": [
       "                                            feature  feature_importance\n",
       "0                Education_type_Continuation School            0.155317\n",
       "1                                             APA_F            0.127494\n",
       "2                                            Avg_21            0.068829\n",
       "3                                   Hispanic_Female            0.061937\n",
       "4                               Pupil/Teacher-Ratio            0.058074\n",
       "5                               Test ID_Mathematics            0.054507\n",
       "6            Demographic Name_Reported disabilities            0.047472\n",
       "7                                   Free_Meal_count            0.043579\n",
       "8             Demographic Name_EL (English learner)            0.037050\n",
       "9   Demographic Name_ELs enrolled 12 months or more            0.036406\n",
       "10      Total Tested with Scores at Reporting Level            0.033419\n",
       "11                                         Latitude            0.026091\n",
       "12                                     FTE_Teachers            0.024434\n",
       "13                              Average Salary Paid            0.022695\n",
       "14                                     Grocery_dist            0.022560\n",
       "15                                  est_num_u17_pov            0.020849\n",
       "16                           Demographic Name_Asian            0.016242\n",
       "17                          Current_Expense_per_ADA            0.015993\n",
       "18                                    Black_or_AA_F            0.014130\n",
       "19                                    Grocery_3mile            0.009554"
      ]
     },
     "execution_count": 37,
     "metadata": {},
     "output_type": "execute_result"
    }
   ],
   "source": [
    "base_imp = imp_df(X_train.columns, rf.feature_importances_)\n",
    "base_imp[:20]"
   ]
  },
  {
   "cell_type": "code",
   "execution_count": 38,
   "id": "36382c71-d681-4f17-b458-981ac2a40881",
   "metadata": {},
   "outputs": [
    {
     "data": {
      "image/png": "[encoded data removed]",
      "text/plain": [
       "<Figure size 864x864 with 1 Axes>"
      ]
     },
     "metadata": {
      "needs_background": "light"
     },
     "output_type": "display_data"
    }
   ],
   "source": [
    "var_imp_plot(base_imp, 'Default feature importance (scikit-learn)')"
   ]
  },
  {
   "cell_type": "code",
   "execution_count": null,
   "id": "662ba364-d186-4b2d-a9b6-056415d7ca2d",
   "metadata": {},
   "outputs": [],
   "source": []
  },
  {
   "cell_type": "markdown",
   "id": "35d4e852-82ae-4835-a253-6a17625f0c36",
   "metadata": {},
   "source": [
    "## RF pipeline for hyperparamter tuning "
   ]
  },
  {
   "cell_type": "code",
   "execution_count": 17,
   "id": "8e20a72d-a9cf-4c11-bb0c-33b6d42459da",
   "metadata": {},
   "outputs": [],
   "source": [
    "rf_pipe = make_pipeline(\n",
    "    StandardScaler(),\n",
    "    RandomForestRegressor()\n",
    "    )"
   ]
  },
  {
   "cell_type": "code",
   "execution_count": 7,
   "id": "0f80b483-6be7-4aa3-9b45-f61923409b20",
   "metadata": {},
   "outputs": [],
   "source": [
    "rf_cv_results = cross_validate(rf_pipe, X_train, y_train, cv =5)\n"
   ]
  },
  {
   "cell_type": "code",
   "execution_count": 20,
   "id": "6a22f1ff-840f-4b03-9f8f-7d95087a2aa9",
   "metadata": {},
   "outputs": [
    {
     "data": {
      "text/plain": [
       "(0.9247635004925936, 0.0024999991210266494)"
      ]
     },
     "execution_count": 20,
     "metadata": {},
     "output_type": "execute_result"
    }
   ],
   "source": [
    "rf_cv_scores = rf_cv_results['test_score']\n",
    "np.mean(rf_cv_scores), np.std(rf_cv_scores)"
   ]
  },
  {
   "cell_type": "code",
   "execution_count": 21,
   "id": "49dc4b7c-96c2-4173-b91e-a1b76d58d8bf",
   "metadata": {},
   "outputs": [
    {
     "data": {
      "text/plain": [
       "[10, 16, 27, 46, 77, 129, 215, 359]"
      ]
     },
     "execution_count": 21,
     "metadata": {},
     "output_type": "execute_result"
    }
   ],
   "source": [
    "n_est = [int(n) for n in np.logspace(1,3,10)]\n",
    "n_est[:8]"
   ]
  },
  {
   "cell_type": "code",
   "execution_count": 22,
   "id": "d8b857a1-07f8-42ad-b50f-91b375276ce1",
   "metadata": {},
   "outputs": [],
   "source": [
    "grid_params = {\n",
    "    'randomforestregressor__n_estimators': n_est[:5],\n",
    "    'randomforestregressor__max_depth':[None,2,3,4,6]    \n",
    "}"
   ]
  },
  {
   "cell_type": "code",
   "execution_count": 23,
   "id": "961878fb-2504-4f72-8fae-fdef108039e4",
   "metadata": {},
   "outputs": [],
   "source": [
    "rf_grid_cv = GridSearchCV(rf_pipe, param_grid= grid_params, cv=5, n_jobs=-1)\n"
   ]
  },
  {
   "cell_type": "code",
   "execution_count": 24,
   "id": "ae486060-61e5-4076-8cea-ae135cbd2c88",
   "metadata": {},
   "outputs": [
    {
     "data": {
      "text/plain": [
       "{'randomforestregressor__max_depth': None,\n",
       " 'randomforestregressor__n_estimators': 77}"
      ]
     },
     "execution_count": 24,
     "metadata": {},
     "output_type": "execute_result"
    }
   ],
   "source": [
    "rf_grid_cv.fit(X_train,y_train)\n",
    "rf_grid_cv.best_params_"
   ]
  },
  {
   "cell_type": "code",
   "execution_count": 25,
   "id": "8117b5ad-0913-4a24-8bfa-a34e5576f132",
   "metadata": {},
   "outputs": [
    {
     "data": {
      "text/plain": [
       "Pipeline(steps=[('standardscaler', StandardScaler()),\n",
       "                ('randomforestregressor',\n",
       "                 RandomForestRegressor(n_estimators=77))])"
      ]
     },
     "execution_count": 25,
     "metadata": {},
     "output_type": "execute_result"
    }
   ],
   "source": [
    "rf_grid_cv.best_estimator_"
   ]
  },
  {
   "cell_type": "code",
   "execution_count": 26,
   "id": "92882ace-0ae1-43b9-8d53-e5f5f9fefd94",
   "metadata": {},
   "outputs": [
    {
     "data": {
      "text/plain": [
       "(0.9244291370915988, 0.0029472593989567737)"
      ]
     },
     "execution_count": 26,
     "metadata": {},
     "output_type": "execute_result"
    }
   ],
   "source": [
    "results = cross_validate(rf_grid_cv.best_estimator_,\n",
    "                         X_train, y_train, cv =5)\n",
    "scores = results['test_score']\n",
    "np.mean(scores), np.std(scores)"
   ]
  },
  {
   "cell_type": "code",
   "execution_count": 27,
   "id": "8d27b888-73f4-4a47-864a-89a6ea829e68",
   "metadata": {},
   "outputs": [],
   "source": [
    "y_te_grid_rf_pred = rf_grid_cv.best_estimator_.predict(X_test)"
   ]
  },
  {
   "cell_type": "code",
   "execution_count": 28,
   "id": "9930a880-cc8d-48c8-b38e-9c9ee8e8a978",
   "metadata": {},
   "outputs": [
    {
     "data": {
      "text/plain": [
       "(4.974024099891389, 13.112081604881537)"
      ]
     },
     "execution_count": 28,
     "metadata": {},
     "output_type": "execute_result"
    }
   ],
   "source": [
    "median_mae = mean_absolute_error(y_train, \n",
    "                rf_grid_cv.best_estimator_.predict(X_train)),mean_absolute_error(y_test, y_te_grid_rf_pred)\n",
    "median_mae"
   ]
  },
  {
   "cell_type": "markdown",
   "id": "9bffddff-0dc2-43e5-9d23-755bb979d230",
   "metadata": {},
   "source": [
    "# Grid search and basic random forest model have almost same mean Absolute error and R2 score "
   ]
  },
  {
   "cell_type": "code",
   "execution_count": 51,
   "id": "5987ca0b-f3fd-4626-b72c-53bb01ec0a0f",
   "metadata": {},
   "outputs": [],
   "source": [
    "# rf_grid_cv.best_estimator_.named_steps.randomforestregressor.feature_importances_"
   ]
  },
  {
   "cell_type": "code",
   "execution_count": 52,
   "id": "08b8679b-3ce7-47e4-bbfe-fb53459c8b92",
   "metadata": {},
   "outputs": [
    {
     "data": {
      "image/png": "[encoded data removed]",
      "text/plain": [
       "<Figure size 720x360 with 1 Axes>"
      ]
     },
     "metadata": {
      "needs_background": "light"
     },
     "output_type": "display_data"
    }
   ],
   "source": [
    "plt.subplots(figsize=(10, 5))\n",
    "imps = rf_grid_cv.best_estimator_.named_steps.randomforestregressor.feature_importances_\n",
    "rf_feat_imps = pd.Series(imps, index=X_train.columns).sort_values(ascending=False)\n",
    "rf_feat_imps.plot(kind='bar')\n",
    "plt.xlabel('features')\n",
    "plt.ylabel('importance')\n",
    "plt.title('Best random forest regressor feature importances');"
   ]
  },
  {
   "cell_type": "markdown",
   "id": "2d953d5f-fb62-4695-a0ec-cbe96734a58d",
   "metadata": {},
   "source": [
    "# AdaBoost Model \n",
    "- testing if boosting outperforms random forest bagging  "
   ]
  },
  {
   "cell_type": "code",
   "execution_count": 12,
   "id": "648f1a14-969a-4e5b-a5b1-a58c02798e0e",
   "metadata": {},
   "outputs": [],
   "source": [
    "\n",
    "ada = AdaBoostRegressor(DecisionTreeRegressor(),\n",
    "                        random_state=42)\n",
    "\n"
   ]
  },
  {
   "cell_type": "code",
   "execution_count": 35,
   "id": "f4dc19e5-feec-4c2a-8750-ce7197dcf965",
   "metadata": {},
   "outputs": [],
   "source": [
    "n_est = [int(n) for n in np.logspace(1,3,10)]\n",
    "\n",
    "grid_params = {\n",
    "    'Regressor__n_estimators': n_est[:5],\n",
    "   'Regressor__base_estimator__max_depth':[None,2,3,4,5]    \n",
    "}"
   ]
  },
  {
   "cell_type": "code",
   "execution_count": 102,
   "id": "8f2c0512-2342-4b9b-b346-02aae4243e33",
   "metadata": {},
   "outputs": [],
   "source": [
    "# ada_pipe.get_params()"
   ]
  },
  {
   "cell_type": "code",
   "execution_count": 36,
   "id": "fddc86a1-57c2-47fa-b31f-249ab106f5bf",
   "metadata": {},
   "outputs": [],
   "source": [
    "ada_pipe = Pipeline([\n",
    "    ('scaling',StandardScaler()),\n",
    "   \n",
    "    ('Regressor',AdaBoostRegressor(DecisionTreeRegressor(),\n",
    "                        random_state=42))])"
   ]
  },
  {
   "cell_type": "code",
   "execution_count": 37,
   "id": "de699529-dfcc-41c2-8295-d7bc75e520d8",
   "metadata": {},
   "outputs": [],
   "source": [
    "\n",
    "ada_grid_cv = GridSearchCV(ada_pipe, param_grid= grid_params,\n",
    "                          cv=5, n_jobs=-1)"
   ]
  },
  {
   "cell_type": "code",
   "execution_count": 38,
   "id": "63c3edc7-0c02-4e6d-be5e-e7d1145b0cba",
   "metadata": {},
   "outputs": [
    {
     "data": {
      "text/plain": [
       "GridSearchCV(cv=5,\n",
       "             estimator=Pipeline(steps=[('scaling', StandardScaler()),\n",
       "                                       ('Regressor',\n",
       "                                        AdaBoostRegressor(base_estimator=DecisionTreeRegressor(),\n",
       "                                                          random_state=42))]),\n",
       "             n_jobs=-1,\n",
       "             param_grid={'Regressor__base_estimator__max_depth': [None, 2, 3, 4,\n",
       "                                                                  5],\n",
       "                         'Regressor__n_estimators': [10, 16, 27, 46, 77]})"
      ]
     },
     "execution_count": 38,
     "metadata": {},
     "output_type": "execute_result"
    }
   ],
   "source": [
    "ada_grid_cv.fit(X_train,y_train)"
   ]
  },
  {
   "cell_type": "code",
   "execution_count": 39,
   "id": "acd3f135-8fb4-4470-9418-e42f213c5330",
   "metadata": {},
   "outputs": [
    {
     "data": {
      "text/plain": [
       "Pipeline(steps=[('scaling', StandardScaler()),\n",
       "                ('Regressor',\n",
       "                 AdaBoostRegressor(base_estimator=DecisionTreeRegressor(),\n",
       "                                   n_estimators=46, random_state=42))])"
      ]
     },
     "execution_count": 39,
     "metadata": {},
     "output_type": "execute_result"
    }
   ],
   "source": [
    "ada_grid_cv.best_estimator_"
   ]
  },
  {
   "cell_type": "code",
   "execution_count": 40,
   "id": "74a1c2cf-6446-4568-bca9-d357fed69fb4",
   "metadata": {},
   "outputs": [
    {
     "data": {
      "text/plain": [
       "(0.9194251925977923, 0.003134578806894644)"
      ]
     },
     "execution_count": 40,
     "metadata": {},
     "output_type": "execute_result"
    }
   ],
   "source": [
    "results = cross_validate(ada_grid_cv.best_estimator_,\n",
    "                         X_train, y_train, cv =5)\n",
    "scores = results['test_score']\n",
    "np.mean(scores), np.std(scores)"
   ]
  },
  {
   "cell_type": "code",
   "execution_count": 41,
   "id": "70186dca-153e-4f23-9ce3-d4d82eb76a85",
   "metadata": {},
   "outputs": [
    {
     "name": "stdout",
     "output_type": "stream",
     "text": [
      "2.9864535588831713 13.624117453768873\n"
     ]
    }
   ],
   "source": [
    "train_pred =ada_grid_cv.best_estimator_.predict(X_train)\n",
    "y_te_ada_pred = ada_grid_cv.best_estimator_.predict(X_test)\n",
    "mae_train = mean_absolute_error(y_train,train_pred)\n",
    "mae_test = mean_absolute_error(y_test, y_te_ada_pred)\n",
    "\n",
    "print(mae_train, mae_test)"
   ]
  },
  {
   "cell_type": "markdown",
   "id": "366cdab0-07e8-41d2-b29a-8c79c13994d1",
   "metadata": {},
   "source": [
    "## AdaBoost model does not outperfrom random forest model \n",
    "- lower R2 score\n",
    "- greater test mean_absolute error "
   ]
  },
  {
   "cell_type": "code",
   "execution_count": null,
   "id": "26473684-66d8-4503-b962-9720f6c09b99",
   "metadata": {},
   "outputs": [],
   "source": []
  },
  {
   "cell_type": "markdown",
   "id": "2ef422fa-1cf8-4b20-ab95-cecdc67e7be9",
   "metadata": {},
   "source": [
    "# Use select from model to remove features below random threshold to simplify model "
   ]
  },
  {
   "cell_type": "code",
   "execution_count": 67,
   "id": "69e6c046-577f-4d55-9f64-18f89719e524",
   "metadata": {},
   "outputs": [],
   "source": [
    "from sklearn.feature_selection import SelectFromModel\n"
   ]
  },
  {
   "cell_type": "code",
   "execution_count": 68,
   "id": "b0c4824c-3bd1-4aa2-9726-57e7c7cd26c5",
   "metadata": {},
   "outputs": [],
   "source": [
    "model = SelectFromModel(rf, \n",
    "                        threshold=0.012,\n",
    "                        # should remove random and all below \n",
    "                       )"
   ]
  },
  {
   "cell_type": "code",
   "execution_count": 69,
   "id": "cf1dc67a-2f72-4849-961f-285274c29661",
   "metadata": {},
   "outputs": [
    {
     "data": {
      "text/plain": [
       "SelectFromModel(estimator=RandomForestRegressor(n_jobs=-1, oob_score=True,\n",
       "                                                random_state=42),\n",
       "                threshold=0.012)"
      ]
     },
     "execution_count": 69,
     "metadata": {},
     "output_type": "execute_result"
    }
   ],
   "source": [
    "model.fit(X_train,y_train)"
   ]
  },
  {
   "cell_type": "code",
   "execution_count": 70,
   "id": "8ecbc235-128e-4584-9957-2fefac65b500",
   "metadata": {},
   "outputs": [
    {
     "data": {
      "text/plain": [
       "Index(['Total Tested with Scores at Reporting Level', 'Free_Meal_count',\n",
       "       'Latitude', 'FTE_Teachers', 'Pupil/Teacher-Ratio', 'Hispanic_Female',\n",
       "       'Black_or_AA_F', 'APA_F', 'Avg_21', 'Average Salary Paid',\n",
       "       'Current_Expense_per_ADA', 'est_num_u17_pov', 'Grocery_dist',\n",
       "       'Test ID_Mathematics', 'Demographic Name_Asian',\n",
       "       'Demographic Name_EL (English learner)',\n",
       "       'Demographic Name_ELs enrolled 12 months or more',\n",
       "       'Demographic Name_Reported disabilities',\n",
       "       'Education_type_Continuation School'],\n",
       "      dtype='object')"
      ]
     },
     "execution_count": 70,
     "metadata": {},
     "output_type": "execute_result"
    }
   ],
   "source": [
    "selected_feat = X_train.columns[(model.get_support())]\n",
    "selected_feat"
   ]
  },
  {
   "cell_type": "code",
   "execution_count": 71,
   "id": "f9f560fe-427a-4a1b-ab01-8a32c2f6d5d1",
   "metadata": {},
   "outputs": [
    {
     "data": {
      "image/png": "[encoded data removed]",
      "text/plain": [
       "<Figure size 432x288 with 1 Axes>"
      ]
     },
     "metadata": {
      "needs_background": "light"
     },
     "output_type": "display_data"
    }
   ],
   "source": [
    "importances = pd.Series(model.estimator_.feature_importances_,\n",
    "          index=X_train.columns).sort_values(ascending=False)\n",
    "importances[selected_feat].sort_values().plot(kind='barh')\n",
    "plt.show()"
   ]
  },
  {
   "cell_type": "markdown",
   "id": "6b0cd272-22ac-45b5-88c3-cea8846f7cc4",
   "metadata": {},
   "source": [
    "## of cultural groups asain pacific islanders and hispanics have the highest feature importances in the model "
   ]
  },
  {
   "cell_type": "markdown",
   "id": "7bde0d2e-d1c4-4780-bcfb-36bcd95aedb8",
   "metadata": {},
   "source": [
    "##  Of features not associated by economic group model can be tested to see what change in average housing price, pupil teacher ratio , free meal count, average salary paid and fte teachers effects different schools in the same district when changes in these featuers are modeled. "
   ]
  },
  {
   "cell_type": "code",
   "execution_count": 72,
   "id": "33376fab-9f3f-4424-b1d6-4a834766d131",
   "metadata": {},
   "outputs": [],
   "source": [
    "new_X_tr = model.transform(X_train)\n",
    "new_X_te = model.transform(X_test)"
   ]
  },
  {
   "cell_type": "code",
   "execution_count": 102,
   "id": "8182a77c-951b-4b08-9882-111f1b884ff7",
   "metadata": {},
   "outputs": [
    {
     "data": {
      "text/plain": [
       "(52665, 19)"
      ]
     },
     "execution_count": 102,
     "metadata": {},
     "output_type": "execute_result"
    }
   ],
   "source": [
    "new_X = model.transform(X)\n",
    "new_X = pd.DataFrame(new_X, columns = selected_feat)\n",
    "new_X.shape"
   ]
  },
  {
   "cell_type": "code",
   "execution_count": 104,
   "id": "425935fb-348e-4f15-8bb5-b8e9fe006bad",
   "metadata": {},
   "outputs": [
    {
     "data": {
      "text/html": [
       "<div>\n",
       "<style scoped>\n",
       "    .dataframe tbody tr th:only-of-type {\n",
       "        vertical-align: middle;\n",
       "    }\n",
       "\n",
       "    .dataframe tbody tr th {\n",
       "        vertical-align: top;\n",
       "    }\n",
       "\n",
       "    .dataframe thead th {\n",
       "        text-align: right;\n",
       "    }\n",
       "</style>\n",
       "<table border=\"1\" class=\"dataframe\">\n",
       "  <thead>\n",
       "    <tr style=\"text-align: right;\">\n",
       "      <th></th>\n",
       "      <th>Total Tested with Scores at Reporting Level</th>\n",
       "      <th>Free_Meal_count</th>\n",
       "      <th>Latitude</th>\n",
       "      <th>FTE_Teachers</th>\n",
       "      <th>Pupil/Teacher-Ratio</th>\n",
       "      <th>Hispanic_Female</th>\n",
       "      <th>Black_or_AA_F</th>\n",
       "      <th>APA_F</th>\n",
       "      <th>Avg_21</th>\n",
       "      <th>Average Salary Paid</th>\n",
       "      <th>Current_Expense_per_ADA</th>\n",
       "      <th>est_num_u17_pov</th>\n",
       "      <th>Grocery_dist</th>\n",
       "      <th>Test ID_Mathematics</th>\n",
       "      <th>Demographic Name_Asian</th>\n",
       "      <th>Demographic Name_EL (English learner)</th>\n",
       "      <th>Demographic Name_ELs enrolled 12 months or more</th>\n",
       "      <th>Demographic Name_Reported disabilities</th>\n",
       "      <th>Education_type_Continuation School</th>\n",
       "    </tr>\n",
       "  </thead>\n",
       "  <tbody>\n",
       "    <tr>\n",
       "      <th>0</th>\n",
       "      <td>106.0</td>\n",
       "      <td>230.0</td>\n",
       "      <td>37.657668</td>\n",
       "      <td>74.847305</td>\n",
       "      <td>20.652848</td>\n",
       "      <td>194.364754</td>\n",
       "      <td>32.206967</td>\n",
       "      <td>361.873975</td>\n",
       "      <td>754920.0</td>\n",
       "      <td>85586.372299</td>\n",
       "      <td>13998.450902</td>\n",
       "      <td>3044.345812</td>\n",
       "      <td>1372.0</td>\n",
       "      <td>0.0</td>\n",
       "      <td>0.0</td>\n",
       "      <td>0.0</td>\n",
       "      <td>0.0</td>\n",
       "      <td>0.0</td>\n",
       "      <td>0.0</td>\n",
       "    </tr>\n",
       "    <tr>\n",
       "      <th>1</th>\n",
       "      <td>56.0</td>\n",
       "      <td>230.0</td>\n",
       "      <td>37.657668</td>\n",
       "      <td>74.847305</td>\n",
       "      <td>20.652848</td>\n",
       "      <td>194.364754</td>\n",
       "      <td>32.206967</td>\n",
       "      <td>361.873975</td>\n",
       "      <td>754920.0</td>\n",
       "      <td>85586.372299</td>\n",
       "      <td>13998.450902</td>\n",
       "      <td>3044.345812</td>\n",
       "      <td>1372.0</td>\n",
       "      <td>0.0</td>\n",
       "      <td>0.0</td>\n",
       "      <td>0.0</td>\n",
       "      <td>0.0</td>\n",
       "      <td>0.0</td>\n",
       "      <td>0.0</td>\n",
       "    </tr>\n",
       "    <tr>\n",
       "      <th>2</th>\n",
       "      <td>50.0</td>\n",
       "      <td>230.0</td>\n",
       "      <td>37.657668</td>\n",
       "      <td>74.847305</td>\n",
       "      <td>20.652848</td>\n",
       "      <td>194.364754</td>\n",
       "      <td>32.206967</td>\n",
       "      <td>361.873975</td>\n",
       "      <td>754920.0</td>\n",
       "      <td>85586.372299</td>\n",
       "      <td>13998.450902</td>\n",
       "      <td>3044.345812</td>\n",
       "      <td>1372.0</td>\n",
       "      <td>0.0</td>\n",
       "      <td>0.0</td>\n",
       "      <td>0.0</td>\n",
       "      <td>0.0</td>\n",
       "      <td>0.0</td>\n",
       "      <td>0.0</td>\n",
       "    </tr>\n",
       "    <tr>\n",
       "      <th>3</th>\n",
       "      <td>91.0</td>\n",
       "      <td>230.0</td>\n",
       "      <td>37.657668</td>\n",
       "      <td>74.847305</td>\n",
       "      <td>20.652848</td>\n",
       "      <td>194.364754</td>\n",
       "      <td>32.206967</td>\n",
       "      <td>361.873975</td>\n",
       "      <td>754920.0</td>\n",
       "      <td>85586.372299</td>\n",
       "      <td>13998.450902</td>\n",
       "      <td>3044.345812</td>\n",
       "      <td>1372.0</td>\n",
       "      <td>0.0</td>\n",
       "      <td>0.0</td>\n",
       "      <td>0.0</td>\n",
       "      <td>0.0</td>\n",
       "      <td>0.0</td>\n",
       "      <td>0.0</td>\n",
       "    </tr>\n",
       "    <tr>\n",
       "      <th>4</th>\n",
       "      <td>24.0</td>\n",
       "      <td>230.0</td>\n",
       "      <td>37.657668</td>\n",
       "      <td>74.847305</td>\n",
       "      <td>20.652848</td>\n",
       "      <td>194.364754</td>\n",
       "      <td>32.206967</td>\n",
       "      <td>361.873975</td>\n",
       "      <td>754920.0</td>\n",
       "      <td>85586.372299</td>\n",
       "      <td>13998.450902</td>\n",
       "      <td>3044.345812</td>\n",
       "      <td>1372.0</td>\n",
       "      <td>0.0</td>\n",
       "      <td>0.0</td>\n",
       "      <td>0.0</td>\n",
       "      <td>0.0</td>\n",
       "      <td>0.0</td>\n",
       "      <td>0.0</td>\n",
       "    </tr>\n",
       "  </tbody>\n",
       "</table>\n",
       "</div>"
      ],
      "text/plain": [
       "   Total Tested with Scores at Reporting Level  Free_Meal_count   Latitude  \\\n",
       "0                                        106.0            230.0  37.657668   \n",
       "1                                         56.0            230.0  37.657668   \n",
       "2                                         50.0            230.0  37.657668   \n",
       "3                                         91.0            230.0  37.657668   \n",
       "4                                         24.0            230.0  37.657668   \n",
       "\n",
       "   FTE_Teachers  Pupil/Teacher-Ratio  Hispanic_Female  Black_or_AA_F  \\\n",
       "0     74.847305            20.652848       194.364754      32.206967   \n",
       "1     74.847305            20.652848       194.364754      32.206967   \n",
       "2     74.847305            20.652848       194.364754      32.206967   \n",
       "3     74.847305            20.652848       194.364754      32.206967   \n",
       "4     74.847305            20.652848       194.364754      32.206967   \n",
       "\n",
       "        APA_F    Avg_21  Average Salary Paid  Current_Expense_per_ADA  \\\n",
       "0  361.873975  754920.0         85586.372299             13998.450902   \n",
       "1  361.873975  754920.0         85586.372299             13998.450902   \n",
       "2  361.873975  754920.0         85586.372299             13998.450902   \n",
       "3  361.873975  754920.0         85586.372299             13998.450902   \n",
       "4  361.873975  754920.0         85586.372299             13998.450902   \n",
       "\n",
       "   est_num_u17_pov  Grocery_dist  Test ID_Mathematics  Demographic Name_Asian  \\\n",
       "0      3044.345812        1372.0                  0.0                     0.0   \n",
       "1      3044.345812        1372.0                  0.0                     0.0   \n",
       "2      3044.345812        1372.0                  0.0                     0.0   \n",
       "3      3044.345812        1372.0                  0.0                     0.0   \n",
       "4      3044.345812        1372.0                  0.0                     0.0   \n",
       "\n",
       "   Demographic Name_EL (English learner)  \\\n",
       "0                                    0.0   \n",
       "1                                    0.0   \n",
       "2                                    0.0   \n",
       "3                                    0.0   \n",
       "4                                    0.0   \n",
       "\n",
       "   Demographic Name_ELs enrolled 12 months or more  \\\n",
       "0                                              0.0   \n",
       "1                                              0.0   \n",
       "2                                              0.0   \n",
       "3                                              0.0   \n",
       "4                                              0.0   \n",
       "\n",
       "   Demographic Name_Reported disabilities  Education_type_Continuation School  \n",
       "0                                     0.0                                 0.0  \n",
       "1                                     0.0                                 0.0  \n",
       "2                                     0.0                                 0.0  \n",
       "3                                     0.0                                 0.0  \n",
       "4                                     0.0                                 0.0  "
      ]
     },
     "execution_count": 104,
     "metadata": {},
     "output_type": "execute_result"
    }
   ],
   "source": [
    "new_X.head()"
   ]
  },
  {
   "cell_type": "code",
   "execution_count": 103,
   "id": "6724c8f1-b244-4f68-b2c0-4423bf49c65b",
   "metadata": {},
   "outputs": [],
   "source": [
    "new_X.to_csv('../../data/model/final_feature_X.csv')"
   ]
  },
  {
   "cell_type": "code",
   "execution_count": 73,
   "id": "122037cd-3a20-4216-93e3-086ff18c3a3f",
   "metadata": {},
   "outputs": [
    {
     "data": {
      "text/plain": [
       "(42132, 19)"
      ]
     },
     "execution_count": 73,
     "metadata": {},
     "output_type": "execute_result"
    }
   ],
   "source": [
    "new_X_tr.shape"
   ]
  },
  {
   "cell_type": "code",
   "execution_count": null,
   "id": "307a98ae-5fc8-4578-a0f8-77c7b34e14aa",
   "metadata": {},
   "outputs": [],
   "source": []
  },
  {
   "cell_type": "code",
   "execution_count": 80,
   "id": "3f569611-de45-463c-b848-5b37e9b94bde",
   "metadata": {},
   "outputs": [
    {
     "data": {
      "text/plain": [
       "Pipeline(steps=[('standardscaler', StandardScaler()),\n",
       "                ('randomforestregressor',\n",
       "                 RandomForestRegressor(random_state=42))])"
      ]
     },
     "execution_count": 80,
     "metadata": {},
     "output_type": "execute_result"
    }
   ],
   "source": [
    "rf_pipe.fit(new_X_tr,y_train)"
   ]
  },
  {
   "cell_type": "code",
   "execution_count": 81,
   "id": "6ad2b9e1-0d83-46e9-9514-a6c7a1a92a1f",
   "metadata": {},
   "outputs": [
    {
     "name": "stdout",
     "output_type": "stream",
     "text": [
      "R^2 Training Score: 0.98  \n",
      "R^2 Validation Score: 0.87\n"
     ]
    }
   ],
   "source": [
    "print('R^2 Training Score: {:.2f}  \\nR^2 Validation Score: {:.2f}'.format(rf_pipe.score(new_X_tr, y_train), \n",
    "#                                                                                              rf_pipe.oob_score_,\n",
    "                                                                                             rf_pipe.score(new_X_te, y_test)))\n"
   ]
  },
  {
   "cell_type": "code",
   "execution_count": 92,
   "id": "bb27943a-e748-4e51-95e0-da9844d068c8",
   "metadata": {},
   "outputs": [],
   "source": [
    "# rf_grid_cv.fit(new_X_tr,y_train)\n",
    "# rf_grid_cv.best_params_"
   ]
  },
  {
   "cell_type": "markdown",
   "id": "019d20d2-33aa-48bd-8fcf-cba1ca8c6e43",
   "metadata": {},
   "source": [
    "## Simplified model lost 6 % training r2 score but only usues 19 features instead of 65  "
   ]
  },
  {
   "cell_type": "markdown",
   "id": "a3e02836-da31-4f55-b888-758eb41b1a6e",
   "metadata": {},
   "source": [
    "gridsearch cv could be run on new cut down set to see if model performance can be increased "
   ]
  },
  {
   "cell_type": "code",
   "execution_count": 32,
   "id": "b339dbfa-5d4c-476a-a200-a083c22aee55",
   "metadata": {},
   "outputs": [
    {
     "data": {
      "text/plain": [
       "Pipeline(steps=[('standardscaler', StandardScaler()),\n",
       "                ('randomforestregressor',\n",
       "                 RandomForestRegressor(n_estimators=77))])"
      ]
     },
     "execution_count": 32,
     "metadata": {},
     "output_type": "execute_result"
    }
   ],
   "source": [
    "rf_grid_cv.best_estimator_"
   ]
  },
  {
   "cell_type": "code",
   "execution_count": 33,
   "id": "682d2e8b-68ce-4e7a-8261-6db5e205ab0f",
   "metadata": {},
   "outputs": [],
   "source": [
    "best_model = rf_grid_cv.best_estimator_\n",
    "best_model.version = '1.0'\n",
    "best_model.pandas_version = pd.__version__\n",
    "best_model.numpy_version = np.__version__\n",
    "best_model.sklearn_version = sklearn_version\n",
    "best_model.X_columns = [col for col in X_train.columns]\n",
    "best_model.build_datetime = datetime.datetime.now()"
   ]
  },
  {
   "cell_type": "code",
   "execution_count": 72,
   "id": "db6462d0-9a96-4481-8368-e7eb8ec6848a",
   "metadata": {},
   "outputs": [],
   "source": [
    "from utils import save_file"
   ]
  },
  {
   "cell_type": "code",
   "execution_count": 34,
   "id": "546078ae-9cfc-491b-abb6-fa41eab67dd5",
   "metadata": {},
   "outputs": [
    {
     "name": "stdout",
     "output_type": "stream",
     "text": [
      "A file already exists with this name.\n",
      "\n"
     ]
    },
    {
     "name": "stdin",
     "output_type": "stream",
     "text": [
      "Do you want to overwrite? (Y/N) Y\n"
     ]
    },
    {
     "name": "stdout",
     "output_type": "stream",
     "text": [
      "Writing file.  \"../../models/11th_grade_scoring_model.pkl\"\n"
     ]
    }
   ],
   "source": [
    "modelpath = '../../models'\n",
    "save_file(best_model, '11th_grade_scoring_model.pkl', modelpath)"
   ]
  },
  {
   "cell_type": "code",
   "execution_count": null,
   "id": "355c9b97-37db-49b2-b6fe-e9e8395c6d64",
   "metadata": {},
   "outputs": [],
   "source": []
  },
  {
   "cell_type": "code",
   "execution_count": null,
   "id": "615a4496-206f-4dad-b1ef-ffed1697d3b9",
   "metadata": {},
   "outputs": [],
   "source": []
  }
 ],
 "metadata": {
  "kernelspec": {
   "display_name": "Python 3",
   "language": "python",
   "name": "python3"
  },
  "language_info": {
   "codemirror_mode": {
    "name": "ipython",
    "version": 3
   },
   "file_extension": ".py",
   "mimetype": "text/x-python",
   "name": "python",
   "nbconvert_exporter": "python",
   "pygments_lexer": "ipython3",
   "version": "3.8.8"
  }
 },
 "nbformat": 4,
 "nbformat_minor": 5
}
