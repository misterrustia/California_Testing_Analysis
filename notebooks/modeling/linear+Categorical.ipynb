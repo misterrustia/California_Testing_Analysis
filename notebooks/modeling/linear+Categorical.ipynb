{
 "cells": [
  {
   "cell_type": "markdown",
   "id": "b7ab6017-35d6-4e8d-b158-b6675e32ef9c",
   "metadata": {},
   "source": [
    "# objectives - get basic model tested after variance inflation factor used for feature selection\n",
    "\n",
    "- check feature importance afterwards, \n",
    "\n",
    "- set up for advanced model tuning "
   ]
  },
  {
   "cell_type": "code",
   "execution_count": 2,
   "id": "258e5235-c291-475d-87e0-7266376e9402",
   "metadata": {},
   "outputs": [],
   "source": [
    "import pandas as pd \n",
    "import numpy as np\n",
    "import matplotlib.pyplot as plt\n",
    "from sklearn.model_selection import train_test_split\n",
    "from sklearn.metrics import roc_auc_score, accuracy_score, precision_score, recall_score\n",
    "from sklearn.linear_model import LogisticRegression\n",
    "from sklearn.linear_model import LinearRegression\n",
    "from sklearn import metrics\n",
    "from sklearn.metrics import r2_score, mean_absolute_error\n",
    "from sklearn.dummy import DummyRegressor\n",
    "from sklearn.preprocessing import OneHotEncoder\n",
    "from sklearn.metrics import classification_report\n",
    "from sklearn.metrics import confusion_matrix\n",
    "from sklearn.ensemble import RandomForestRegressor\n",
    "from sklearn.preprocessing import OneHotEncoder, StandardScaler\n",
    "from sklearn.pipeline import make_pipeline\n",
    "from sklearn.model_selection import cross_validate, GridSearchCV\n",
    "from sklearn.feature_selection import SelectKBest, f_regression\n",
    "import seaborn as sns\n",
    "\n",
    "from utils import save_file"
   ]
  },
  {
   "cell_type": "code",
   "execution_count": 3,
   "id": "68680ee3-a5bd-49ed-884c-df7f91456c0b",
   "metadata": {},
   "outputs": [
    {
     "name": "stdout",
     "output_type": "stream",
     "text": [
      "<class 'pandas.core.frame.DataFrame'>\n",
      "RangeIndex: 52665 entries, 0 to 52664\n",
      "Data columns (total 23 columns):\n",
      " #   Column                                       Non-Null Count  Dtype  \n",
      "---  ------                                       --------------  -----  \n",
      " 0   Mean Scale Score                             52665 non-null  float64\n",
      " 1   Total Tested with Scores at Reporting Level  52665 non-null  float64\n",
      " 2   Demographic Name                             52665 non-null  object \n",
      " 3   Student Group                                52665 non-null  object \n",
      " 4   District Type                                52665 non-null  object \n",
      " 5   Test ID                                      52665 non-null  object \n",
      " 6   School Type                                  52665 non-null  object \n",
      " 7   Education_type                               52665 non-null  object \n",
      " 8   Charter_School                               52665 non-null  int64  \n",
      " 9   Low Grade                                    52665 non-null  object \n",
      " 10  Free_Meal_count                              52665 non-null  float64\n",
      " 11  Latitude                                     52665 non-null  float64\n",
      " 12  FTE_Teachers                                 52665 non-null  float64\n",
      " 13  Pupil/Teacher-Ratio                          52665 non-null  float64\n",
      " 14  Hispanic_Female                              52665 non-null  float64\n",
      " 15  Black_or_AA_F                                52665 non-null  float64\n",
      " 16  APA_F                                        52665 non-null  float64\n",
      " 17  Avg_21                                       52665 non-null  float64\n",
      " 18  Average Salary Paid                          52665 non-null  float64\n",
      " 19  Current_Expense_per_ADA                      52665 non-null  float64\n",
      " 20  est_num_u17_pov                              52665 non-null  float64\n",
      " 21  Grocery_3mile                                52665 non-null  float64\n",
      " 22  Grocery_dist                                 52665 non-null  float64\n",
      "dtypes: float64(15), int64(1), object(7)\n",
      "memory usage: 9.2+ MB\n"
     ]
    }
   ],
   "source": [
    "df = pd.read_csv('../../data/model/final_df.csv')\n",
    "df.rename(columns={\"Asian or Asian/Pacific Islander - female [Public School] 2020-21\":'APA_F',\n",
    "                  'Current\\nExpense Per ADA':'Current_Expense_per_ADA'}\n",
    "       ,inplace=True)\n",
    "df.drop(columns=['Unnamed: 0'],inplace=True)\n",
    "df.info()"
   ]
  },
  {
   "cell_type": "code",
   "execution_count": 4,
   "id": "9a7a93b3-34b6-479a-97a8-dedb0a110d8b",
   "metadata": {},
   "outputs": [
    {
     "data": {
      "text/html": [
       "<div>\n",
       "<style scoped>\n",
       "    .dataframe tbody tr th:only-of-type {\n",
       "        vertical-align: middle;\n",
       "    }\n",
       "\n",
       "    .dataframe tbody tr th {\n",
       "        vertical-align: top;\n",
       "    }\n",
       "\n",
       "    .dataframe thead th {\n",
       "        text-align: right;\n",
       "    }\n",
       "</style>\n",
       "<table border=\"1\" class=\"dataframe\">\n",
       "  <thead>\n",
       "    <tr style=\"text-align: right;\">\n",
       "      <th></th>\n",
       "      <th>Mean Scale Score</th>\n",
       "      <th>Total Tested with Scores at Reporting Level</th>\n",
       "      <th>Demographic Name</th>\n",
       "      <th>Student Group</th>\n",
       "      <th>District Type</th>\n",
       "      <th>Test ID</th>\n",
       "      <th>School Type</th>\n",
       "      <th>Education_type</th>\n",
       "      <th>Charter_School</th>\n",
       "      <th>Low Grade</th>\n",
       "      <th>...</th>\n",
       "      <th>Pupil/Teacher-Ratio</th>\n",
       "      <th>Hispanic_Female</th>\n",
       "      <th>Black_or_AA_F</th>\n",
       "      <th>APA_F</th>\n",
       "      <th>Avg_21</th>\n",
       "      <th>Average Salary Paid</th>\n",
       "      <th>Current_Expense_per_ADA</th>\n",
       "      <th>est_num_u17_pov</th>\n",
       "      <th>Grocery_3mile</th>\n",
       "      <th>Grocery_dist</th>\n",
       "    </tr>\n",
       "  </thead>\n",
       "  <tbody>\n",
       "    <tr>\n",
       "      <th>0</th>\n",
       "      <td>2579.7</td>\n",
       "      <td>106.0</td>\n",
       "      <td>All Students</td>\n",
       "      <td>All Students</td>\n",
       "      <td>County Office of Education (COE)</td>\n",
       "      <td>English Language Arts/Literacy</td>\n",
       "      <td>K-12 Schools (Public)</td>\n",
       "      <td>Traditional</td>\n",
       "      <td>1</td>\n",
       "      <td>5,4,3,2,1</td>\n",
       "      <td>...</td>\n",
       "      <td>20.652848</td>\n",
       "      <td>194.364754</td>\n",
       "      <td>32.206967</td>\n",
       "      <td>361.873975</td>\n",
       "      <td>754920.0</td>\n",
       "      <td>85586.372299</td>\n",
       "      <td>13998.450902</td>\n",
       "      <td>3044.345812</td>\n",
       "      <td>50.0</td>\n",
       "      <td>1372.0</td>\n",
       "    </tr>\n",
       "    <tr>\n",
       "      <th>1</th>\n",
       "      <td>2582.4</td>\n",
       "      <td>56.0</td>\n",
       "      <td>Male</td>\n",
       "      <td>Gender</td>\n",
       "      <td>County Office of Education (COE)</td>\n",
       "      <td>English Language Arts/Literacy</td>\n",
       "      <td>K-12 Schools (Public)</td>\n",
       "      <td>Traditional</td>\n",
       "      <td>1</td>\n",
       "      <td>5,4,3,2,1</td>\n",
       "      <td>...</td>\n",
       "      <td>20.652848</td>\n",
       "      <td>194.364754</td>\n",
       "      <td>32.206967</td>\n",
       "      <td>361.873975</td>\n",
       "      <td>754920.0</td>\n",
       "      <td>85586.372299</td>\n",
       "      <td>13998.450902</td>\n",
       "      <td>3044.345812</td>\n",
       "      <td>50.0</td>\n",
       "      <td>1372.0</td>\n",
       "    </tr>\n",
       "    <tr>\n",
       "      <th>2</th>\n",
       "      <td>2577.0</td>\n",
       "      <td>50.0</td>\n",
       "      <td>Female</td>\n",
       "      <td>Gender</td>\n",
       "      <td>County Office of Education (COE)</td>\n",
       "      <td>English Language Arts/Literacy</td>\n",
       "      <td>K-12 Schools (Public)</td>\n",
       "      <td>Traditional</td>\n",
       "      <td>1</td>\n",
       "      <td>5,4,3,2,1</td>\n",
       "      <td>...</td>\n",
       "      <td>20.652848</td>\n",
       "      <td>194.364754</td>\n",
       "      <td>32.206967</td>\n",
       "      <td>361.873975</td>\n",
       "      <td>754920.0</td>\n",
       "      <td>85586.372299</td>\n",
       "      <td>13998.450902</td>\n",
       "      <td>3044.345812</td>\n",
       "      <td>50.0</td>\n",
       "      <td>1372.0</td>\n",
       "    </tr>\n",
       "    <tr>\n",
       "      <th>3</th>\n",
       "      <td>2600.2</td>\n",
       "      <td>91.0</td>\n",
       "      <td>IFEP and EO (Initial fluent English proficient...</td>\n",
       "      <td>English-Language Fluency</td>\n",
       "      <td>County Office of Education (COE)</td>\n",
       "      <td>English Language Arts/Literacy</td>\n",
       "      <td>K-12 Schools (Public)</td>\n",
       "      <td>Traditional</td>\n",
       "      <td>1</td>\n",
       "      <td>5,4,3,2,1</td>\n",
       "      <td>...</td>\n",
       "      <td>20.652848</td>\n",
       "      <td>194.364754</td>\n",
       "      <td>32.206967</td>\n",
       "      <td>361.873975</td>\n",
       "      <td>754920.0</td>\n",
       "      <td>85586.372299</td>\n",
       "      <td>13998.450902</td>\n",
       "      <td>3044.345812</td>\n",
       "      <td>50.0</td>\n",
       "      <td>1372.0</td>\n",
       "    </tr>\n",
       "    <tr>\n",
       "      <th>4</th>\n",
       "      <td>2614.4</td>\n",
       "      <td>24.0</td>\n",
       "      <td>RFEP (Reclassified fluent English proficient)</td>\n",
       "      <td>English-Language Fluency</td>\n",
       "      <td>County Office of Education (COE)</td>\n",
       "      <td>English Language Arts/Literacy</td>\n",
       "      <td>K-12 Schools (Public)</td>\n",
       "      <td>Traditional</td>\n",
       "      <td>1</td>\n",
       "      <td>5,4,3,2,1</td>\n",
       "      <td>...</td>\n",
       "      <td>20.652848</td>\n",
       "      <td>194.364754</td>\n",
       "      <td>32.206967</td>\n",
       "      <td>361.873975</td>\n",
       "      <td>754920.0</td>\n",
       "      <td>85586.372299</td>\n",
       "      <td>13998.450902</td>\n",
       "      <td>3044.345812</td>\n",
       "      <td>50.0</td>\n",
       "      <td>1372.0</td>\n",
       "    </tr>\n",
       "  </tbody>\n",
       "</table>\n",
       "<p>5 rows × 23 columns</p>\n",
       "</div>"
      ],
      "text/plain": [
       "   Mean Scale Score  Total Tested with Scores at Reporting Level  \\\n",
       "0            2579.7                                        106.0   \n",
       "1            2582.4                                         56.0   \n",
       "2            2577.0                                         50.0   \n",
       "3            2600.2                                         91.0   \n",
       "4            2614.4                                         24.0   \n",
       "\n",
       "                                    Demographic Name  \\\n",
       "0                                       All Students   \n",
       "1                                               Male   \n",
       "2                                             Female   \n",
       "3  IFEP and EO (Initial fluent English proficient...   \n",
       "4      RFEP (Reclassified fluent English proficient)   \n",
       "\n",
       "              Student Group                     District Type  \\\n",
       "0              All Students  County Office of Education (COE)   \n",
       "1                    Gender  County Office of Education (COE)   \n",
       "2                    Gender  County Office of Education (COE)   \n",
       "3  English-Language Fluency  County Office of Education (COE)   \n",
       "4  English-Language Fluency  County Office of Education (COE)   \n",
       "\n",
       "                          Test ID            School Type Education_type  \\\n",
       "0  English Language Arts/Literacy  K-12 Schools (Public)    Traditional   \n",
       "1  English Language Arts/Literacy  K-12 Schools (Public)    Traditional   \n",
       "2  English Language Arts/Literacy  K-12 Schools (Public)    Traditional   \n",
       "3  English Language Arts/Literacy  K-12 Schools (Public)    Traditional   \n",
       "4  English Language Arts/Literacy  K-12 Schools (Public)    Traditional   \n",
       "\n",
       "   Charter_School  Low Grade  ...  Pupil/Teacher-Ratio  Hispanic_Female  \\\n",
       "0               1  5,4,3,2,1  ...            20.652848       194.364754   \n",
       "1               1  5,4,3,2,1  ...            20.652848       194.364754   \n",
       "2               1  5,4,3,2,1  ...            20.652848       194.364754   \n",
       "3               1  5,4,3,2,1  ...            20.652848       194.364754   \n",
       "4               1  5,4,3,2,1  ...            20.652848       194.364754   \n",
       "\n",
       "   Black_or_AA_F       APA_F    Avg_21  Average Salary Paid  \\\n",
       "0      32.206967  361.873975  754920.0         85586.372299   \n",
       "1      32.206967  361.873975  754920.0         85586.372299   \n",
       "2      32.206967  361.873975  754920.0         85586.372299   \n",
       "3      32.206967  361.873975  754920.0         85586.372299   \n",
       "4      32.206967  361.873975  754920.0         85586.372299   \n",
       "\n",
       "   Current_Expense_per_ADA  est_num_u17_pov  Grocery_3mile  Grocery_dist  \n",
       "0             13998.450902      3044.345812           50.0        1372.0  \n",
       "1             13998.450902      3044.345812           50.0        1372.0  \n",
       "2             13998.450902      3044.345812           50.0        1372.0  \n",
       "3             13998.450902      3044.345812           50.0        1372.0  \n",
       "4             13998.450902      3044.345812           50.0        1372.0  \n",
       "\n",
       "[5 rows x 23 columns]"
      ]
     },
     "execution_count": 4,
     "metadata": {},
     "output_type": "execute_result"
    }
   ],
   "source": [
    "df.head()"
   ]
  },
  {
   "cell_type": "code",
   "execution_count": 5,
   "id": "c8fa7ca3-6f49-4249-a895-2a30acb7f228",
   "metadata": {},
   "outputs": [],
   "source": [
    "## add random variable to compare variable inportance too "
   ]
  },
  {
   "cell_type": "code",
   "execution_count": 6,
   "id": "21100c67-6ceb-42ca-994d-49786c776d98",
   "metadata": {},
   "outputs": [],
   "source": [
    "df['random'] = np.random.random(size = len(df))"
   ]
  },
  {
   "cell_type": "code",
   "execution_count": 7,
   "id": "c9fd5685-f612-4252-92fd-6fd069f81070",
   "metadata": {},
   "outputs": [
    {
     "data": {
      "text/plain": [
       "Index(['Mean Scale Score', 'Total Tested with Scores at Reporting Level',\n",
       "       'Demographic Name', 'Student Group', 'District Type', 'Test ID',\n",
       "       'School Type', 'Education_type', 'Charter_School', 'Low Grade',\n",
       "       'Free_Meal_count', 'Latitude', 'FTE_Teachers', 'Pupil/Teacher-Ratio',\n",
       "       'Hispanic_Female', 'Black_or_AA_F', 'APA_F', 'Avg_21',\n",
       "       'Average Salary Paid', 'Current_Expense_per_ADA', 'est_num_u17_pov',\n",
       "       'Grocery_3mile', 'Grocery_dist', 'random'],\n",
       "      dtype='object')"
      ]
     },
     "execution_count": 7,
     "metadata": {},
     "output_type": "execute_result"
    }
   ],
   "source": [
    "df.columns"
   ]
  },
  {
   "cell_type": "markdown",
   "id": "27b43930-d9c3-49df-b9bb-9bb9cb35e21d",
   "metadata": {},
   "source": [
    "## Decrease categories for one hote encoding "
   ]
  },
  {
   "cell_type": "code",
   "execution_count": 8,
   "id": "47d37ffe-1a3c-4222-8504-5022220a13c9",
   "metadata": {},
   "outputs": [],
   "source": [
    "df['Low Grade'] = df['Low Grade'].replace({'P':'K','5,4,3,2,1':'6',\n",
    "                                           '11 or 8':'11,10,8',\n",
    "                                          '10':'11,10,8'})"
   ]
  },
  {
   "cell_type": "code",
   "execution_count": 9,
   "id": "401318da-01ca-4986-b25a-92fa392058b0",
   "metadata": {},
   "outputs": [
    {
     "data": {
      "text/plain": [
       "9          42218\n",
       "K           5085\n",
       "6           2536\n",
       "7           1941\n",
       "11,10,8      885\n",
       "Name: Low Grade, dtype: int64"
      ]
     },
     "execution_count": 9,
     "metadata": {},
     "output_type": "execute_result"
    }
   ],
   "source": [
    "df['Low Grade'].value_counts()"
   ]
  },
  {
   "cell_type": "code",
   "execution_count": 10,
   "id": "224a5995-687e-4cc3-a58a-c13c7ee4e5fb",
   "metadata": {},
   "outputs": [
    {
     "data": {
      "text/plain": [
       "['6', '9', 'K', '7', '11,10,8']"
      ]
     },
     "execution_count": 10,
     "metadata": {},
     "output_type": "execute_result"
    }
   ],
   "source": [
    "df['Low Grade'].unique().tolist()"
   ]
  },
  {
   "cell_type": "markdown",
   "id": "ff510484-3fdf-4a7d-9a64-980cc7c2fdb4",
   "metadata": {},
   "source": [
    "## One hot encode categotical columns "
   ]
  },
  {
   "cell_type": "code",
   "execution_count": 11,
   "id": "ea52f81d-4aeb-49e0-b6ca-04bf99d9fe75",
   "metadata": {},
   "outputs": [
    {
     "data": {
      "text/plain": [
       "(52665, 27)"
      ]
     },
     "execution_count": 11,
     "metadata": {},
     "output_type": "execute_result"
    }
   ],
   "source": [
    "# creating instance of one-hot-encoder\n",
    "enc = OneHotEncoder(handle_unknown='error',drop='first')\n",
    "\n",
    "\n",
    "enc_df = pd.DataFrame(enc.fit_transform(df[['Low Grade']]).toarray(),\n",
    "                    )\n",
    "enc_df.columns =   enc.get_feature_names_out(['Low Grade'])\n",
    "enc_df\n",
    "# # merge with main df bridge_df on key values\n",
    "df = df.join(enc_df)\n",
    "df.drop('Low Grade',inplace=True,axis=1)\n",
    "df.shape"
   ]
  },
  {
   "cell_type": "code",
   "execution_count": 12,
   "id": "3005ea20-be37-4b4c-9121-37a92aeb5a3a",
   "metadata": {},
   "outputs": [
    {
     "data": {
      "text/plain": [
       "(52665, 27)"
      ]
     },
     "execution_count": 12,
     "metadata": {},
     "output_type": "execute_result"
    }
   ],
   "source": [
    "# creating instance of one-hot-encoder\n",
    "enc = OneHotEncoder(handle_unknown='error',drop='first')\n",
    "\n",
    "\n",
    "enc_df = pd.DataFrame(enc.fit_transform(df[['Test ID']]).toarray(),\n",
    "                    )\n",
    "enc_df.columns =   enc.get_feature_names_out(['Test ID'])\n",
    "enc_df\n",
    "# # merge with main df bridge_df on key values\n",
    "df = df.join(enc_df)\n",
    "df.drop('Test ID',inplace=True,axis=1)\n",
    "df.shape"
   ]
  },
  {
   "cell_type": "code",
   "execution_count": 13,
   "id": "b77696c0-f2ab-44c4-a6d8-2bb323003836",
   "metadata": {},
   "outputs": [
    {
     "data": {
      "text/plain": [
       "(52665, 56)"
      ]
     },
     "execution_count": 13,
     "metadata": {},
     "output_type": "execute_result"
    }
   ],
   "source": [
    "enc = OneHotEncoder(handle_unknown='error',drop='first')\n",
    "\n",
    "\n",
    "enc_df = pd.DataFrame(enc.fit_transform(df[['Demographic Name']]).toarray(),\n",
    "                    )\n",
    "enc_df.columns =   enc.get_feature_names_out(['Demographic Name'])\n",
    "enc_df\n",
    "# # merge with main df bridge_df on key values\n",
    "df = df.join(enc_df)\n",
    "df.drop('Demographic Name',inplace=True,axis=1)\n",
    "df.shape"
   ]
  },
  {
   "cell_type": "code",
   "execution_count": 18,
   "id": "d2c775fa-7f48-4a28-86a2-b82004e83a45",
   "metadata": {},
   "outputs": [
    {
     "data": {
      "text/plain": [
       "(52665, 59)"
      ]
     },
     "execution_count": 18,
     "metadata": {},
     "output_type": "execute_result"
    }
   ],
   "source": [
    "enc = OneHotEncoder(handle_unknown='error',drop='first')\n",
    "\n",
    "\n",
    "enc_df = pd.DataFrame(enc.fit_transform(df[['District Type']]).toarray(),\n",
    "                    )\n",
    "enc_df.columns =   enc.get_feature_names_out(['District Type'])\n",
    "enc_df\n",
    "# # merge with main df bridge_df on key values\n",
    "df = df.join(enc_df)\n",
    "df.drop('District Type',inplace=True,axis=1)\n",
    "df.shape"
   ]
  },
  {
   "cell_type": "code",
   "execution_count": 19,
   "id": "99fc15fc-439a-426f-a313-8c24a846f620",
   "metadata": {},
   "outputs": [
    {
     "data": {
      "text/plain": [
       "(52665, 63)"
      ]
     },
     "execution_count": 19,
     "metadata": {},
     "output_type": "execute_result"
    }
   ],
   "source": [
    "enc = OneHotEncoder(handle_unknown='error',drop='first')\n",
    "\n",
    "\n",
    "enc_df = pd.DataFrame(enc.fit_transform(df[['Education_type']]).toarray(),\n",
    "                    )\n",
    "enc_df.columns =   enc.get_feature_names_out(['Education_type'])\n",
    "enc_df\n",
    "# # merge with main df bridge_df on key values\n",
    "df = df.join(enc_df)\n",
    "df.drop('Education_type',inplace=True,axis=1)\n",
    "df.shape"
   ]
  },
  {
   "cell_type": "code",
   "execution_count": 20,
   "id": "eb10be1e-1fe9-4f1d-a17d-391eb8ca1f44",
   "metadata": {},
   "outputs": [
    {
     "data": {
      "text/plain": [
       "(52665, 63)"
      ]
     },
     "execution_count": 20,
     "metadata": {},
     "output_type": "execute_result"
    }
   ],
   "source": [
    "df.shape"
   ]
  },
  {
   "cell_type": "code",
   "execution_count": 21,
   "id": "c36e61f0-6116-4272-b938-2e1105111ae6",
   "metadata": {},
   "outputs": [],
   "source": [
    "X = df.drop(columns=['Mean Scale Score',\n",
    "                # redundent columns \n",
    "                     'Student Group',  'School Type', ])\n",
    "\n",
    "y = df['Mean Scale Score']"
   ]
  },
  {
   "cell_type": "code",
   "execution_count": 22,
   "id": "cd6be926-ff80-4e4c-a308-64775b2b25eb",
   "metadata": {},
   "outputs": [],
   "source": [
    " X_train, X_test, y_train, y_test = train_test_split(  X, y ,\n",
    "                                                     test_size=0.2, random_state=42)\n",
    "    \n",
    "    "
   ]
  },
  {
   "cell_type": "markdown",
   "id": "6d0469d8-0f02-43e0-8791-8647a7d00031",
   "metadata": {},
   "source": [
    "### using a dummy model with the mean scores predicts 0% of the variance in the data set and is off on average of 62 points "
   ]
  },
  {
   "cell_type": "markdown",
   "id": "58a2540d-453e-4473-82f9-ba7a2f40b3a3",
   "metadata": {},
   "source": [
    "## Create pipeline for linear model "
   ]
  },
  {
   "cell_type": "code",
   "execution_count": null,
   "id": "27dd3607-cb07-4e4b-9aa7-20de6f8e42fe",
   "metadata": {},
   "outputs": [],
   "source": []
  },
  {
   "cell_type": "code",
   "execution_count": null,
   "id": "a2423f53-fd86-430d-8057-db761d2568e2",
   "metadata": {},
   "outputs": [],
   "source": []
  },
  {
   "cell_type": "code",
   "execution_count": null,
   "id": "705bd992-4d46-4471-bd71-77a92ef5d898",
   "metadata": {},
   "outputs": [],
   "source": []
  },
  {
   "cell_type": "code",
   "execution_count": null,
   "id": "c05e9dca-e5c0-4326-88ae-c7fee449a642",
   "metadata": {},
   "outputs": [],
   "source": []
  },
  {
   "cell_type": "code",
   "execution_count": 23,
   "id": "d785da5c-5748-4bcb-a1ef-5b4675ab1b84",
   "metadata": {},
   "outputs": [],
   "source": [
    "scaler = StandardScaler()\n",
    "scaler.fit(X_train)\n",
    "X_tr_scaled = scaler.transform(X_train)\n",
    "X_te_scaled = scaler.transform(X_test)"
   ]
  },
  {
   "cell_type": "code",
   "execution_count": 24,
   "id": "4705e1c1-dfe5-45bd-a0d1-4eeaed3a5899",
   "metadata": {},
   "outputs": [],
   "source": [
    "lm = LinearRegression().fit(X_tr_scaled,y_train)"
   ]
  },
  {
   "cell_type": "code",
   "execution_count": 25,
   "id": "ab977e72-7558-4d47-8eec-c81b64d3066d",
   "metadata": {},
   "outputs": [],
   "source": [
    "y_tr_pred = lm.predict(X_tr_scaled)\n",
    "y_te_pred = lm.predict(X_te_scaled)"
   ]
  },
  {
   "cell_type": "code",
   "execution_count": null,
   "id": "85f9b2fd-138a-400e-9e48-975c5fb8c485",
   "metadata": {},
   "outputs": [],
   "source": []
  },
  {
   "cell_type": "code",
   "execution_count": 26,
   "id": "625a6e4f-7078-4536-94ff-8e29516c03a6",
   "metadata": {},
   "outputs": [
    {
     "data": {
      "text/plain": [
       "(0.6545211233897378, 0.6541104771813522)"
      ]
     },
     "execution_count": 26,
     "metadata": {},
     "output_type": "execute_result"
    }
   ],
   "source": [
    "median_r2 = r2_score(y_train, y_tr_pred), r2_score(y_test, y_te_pred)\n",
    "median_r2"
   ]
  },
  {
   "cell_type": "code",
   "execution_count": 27,
   "id": "34d5b677-8ba7-4182-840e-7e6fa01205ff",
   "metadata": {},
   "outputs": [
    {
     "data": {
      "text/plain": [
       "(35.037602140530346, 34.916417506802496)"
      ]
     },
     "execution_count": 27,
     "metadata": {},
     "output_type": "execute_result"
    }
   ],
   "source": [
    "median_mae = mean_absolute_error(y_train, y_tr_pred), mean_absolute_error(y_test, y_te_pred)\n",
    "median_mae"
   ]
  },
  {
   "cell_type": "code",
   "execution_count": 28,
   "id": "33cc1cff-c2e3-4986-895b-0ef1f1ed59f4",
   "metadata": {},
   "outputs": [
    {
     "data": {
      "text/plain": [
       "(42132, 60)"
      ]
     },
     "execution_count": 28,
     "metadata": {},
     "output_type": "execute_result"
    }
   ],
   "source": [
    "X_train.shape"
   ]
  },
  {
   "cell_type": "code",
   "execution_count": 29,
   "id": "6a557279-ef24-4b38-9dc6-96ec4302c1a2",
   "metadata": {},
   "outputs": [],
   "source": [
    "pipe = make_pipeline(\n",
    "    StandardScaler(),\n",
    "    SelectKBest(score_func=f_regression,k=40),\n",
    "    LinearRegression()\n",
    ")"
   ]
  },
  {
   "cell_type": "code",
   "execution_count": 30,
   "id": "8f9bcf33-6bdb-4714-ad9e-8c27a403052d",
   "metadata": {},
   "outputs": [],
   "source": [
    "pipe.fit(X_train,y_train)\n",
    "y_tr_pred = pipe.predict(X_train)\n",
    "y_te_pred = pipe.predict(X_test)"
   ]
  },
  {
   "cell_type": "code",
   "execution_count": 31,
   "id": "f3fff088-f37d-42bf-9da6-4b31b7d87f37",
   "metadata": {},
   "outputs": [
    {
     "data": {
      "text/plain": [
       "(0.6447161596229172, 0.644658839470919)"
      ]
     },
     "execution_count": 31,
     "metadata": {},
     "output_type": "execute_result"
    }
   ],
   "source": [
    "r2_score(y_train, y_tr_pred), r2_score(y_test, y_te_pred)"
   ]
  },
  {
   "cell_type": "code",
   "execution_count": 32,
   "id": "906c78c6-4d08-4617-a470-a9f2f0b08be2",
   "metadata": {},
   "outputs": [
    {
     "data": {
      "text/plain": [
       "(35.48161211596395, 35.39462084529474)"
      ]
     },
     "execution_count": 32,
     "metadata": {},
     "output_type": "execute_result"
    }
   ],
   "source": [
    "mean_absolute_error(y_train, y_tr_pred), mean_absolute_error(y_test, y_te_pred)"
   ]
  },
  {
   "cell_type": "code",
   "execution_count": 33,
   "id": "f1dba3df-91ff-4e57-afaa-9642470f0d5a",
   "metadata": {},
   "outputs": [
    {
     "data": {
      "text/plain": [
       "(0.6433582769836337, 0.005685183939547486)"
      ]
     },
     "execution_count": 33,
     "metadata": {},
     "output_type": "execute_result"
    }
   ],
   "source": [
    "cv_results = cross_validate(pipe, X_train,y_train, cv=5)\n",
    "cv_scores = cv_results['test_score']\n",
    "np.mean(cv_scores), np.std(cv_scores)"
   ]
  },
  {
   "cell_type": "markdown",
   "id": "3ff32ece-6e51-4ee1-8ac6-78f94b2a97d9",
   "metadata": {},
   "source": [
    "## cross validation does not increase r2 , small variation between models \n",
    "\n",
    "## look to use grid search on number of features for hypter paramter tuning "
   ]
  },
  {
   "cell_type": "code",
   "execution_count": 34,
   "id": "a93ba531-ffb8-47aa-8f44-3419a7960006",
   "metadata": {},
   "outputs": [],
   "source": [
    "k = [k+1 for k in range(len(X_train.columns))]\n",
    "grid_params = {'selectkbest__k': k}"
   ]
  },
  {
   "cell_type": "code",
   "execution_count": 35,
   "id": "b69c6f9b-040d-4019-aeb1-7305bac372d8",
   "metadata": {},
   "outputs": [],
   "source": [
    "from sklearn.model_selection import GridSearchCV"
   ]
  },
  {
   "cell_type": "code",
   "execution_count": 36,
   "id": "f14c79cc-22c2-44d4-ab1a-39bb4196a076",
   "metadata": {},
   "outputs": [],
   "source": [
    "pipe = make_pipeline(\n",
    "    StandardScaler(),\n",
    "    SelectKBest(score_func=f_regression),\n",
    "    LinearRegression()\n",
    ")"
   ]
  },
  {
   "cell_type": "code",
   "execution_count": 37,
   "id": "54b2edec-9be2-43a4-abfc-a20c948811e5",
   "metadata": {},
   "outputs": [],
   "source": [
    "lr_grid_cv = GridSearchCV(pipe,param_grid= grid_params, cv=5, n_jobs=-1)"
   ]
  },
  {
   "cell_type": "code",
   "execution_count": 38,
   "id": "7890672d-3cf7-4995-bba4-6f8674f546e0",
   "metadata": {},
   "outputs": [
    {
     "data": {
      "text/plain": [
       "GridSearchCV(cv=5,\n",
       "             estimator=Pipeline(steps=[('standardscaler', StandardScaler()),\n",
       "                                       ('selectkbest',\n",
       "                                        SelectKBest(score_func=<function f_regression at 0x7fcf85bf8310>)),\n",
       "                                       ('linearregression',\n",
       "                                        LinearRegression())]),\n",
       "             n_jobs=-1,\n",
       "             param_grid={'selectkbest__k': [1, 2, 3, 4, 5, 6, 7, 8, 9, 10, 11,\n",
       "                                            12, 13, 14, 15, 16, 17, 18, 19, 20,\n",
       "                                            21, 22, 23, 24, 25, 26, 27, 28, 29,\n",
       "                                            30, ...]})"
      ]
     },
     "execution_count": 38,
     "metadata": {},
     "output_type": "execute_result"
    }
   ],
   "source": [
    "lr_grid_cv.fit(X_train, y_train)"
   ]
  },
  {
   "cell_type": "code",
   "execution_count": 39,
   "id": "a00b7dd0-b997-4c80-b20b-8c26503e1000",
   "metadata": {},
   "outputs": [],
   "source": [
    "score_mean = lr_grid_cv.cv_results_['mean_test_score']\n",
    "score_std = lr_grid_cv.cv_results_['std_test_score']\n",
    "cv_k = [k for k in lr_grid_cv.cv_results_['param_selectkbest__k']]"
   ]
  },
  {
   "cell_type": "code",
   "execution_count": 40,
   "id": "f7f96087-7325-4b19-b770-b76f2c41d863",
   "metadata": {},
   "outputs": [
    {
     "data": {
      "text/plain": [
       "{'selectkbest__k': 60}"
      ]
     },
     "execution_count": 40,
     "metadata": {},
     "output_type": "execute_result"
    }
   ],
   "source": [
    "lr_grid_cv.best_params_"
   ]
  },
  {
   "cell_type": "code",
   "execution_count": 41,
   "id": "3db83cb3-6f9a-4743-b474-97a44bfb894f",
   "metadata": {},
   "outputs": [
    {
     "data": {
      "text/plain": [
       "Pipeline(steps=[('standardscaler', StandardScaler()),\n",
       "                ('selectkbest',\n",
       "                 SelectKBest(k=60,\n",
       "                             score_func=<function f_regression at 0x7fcf85bf8310>)),\n",
       "                ('linearregression', LinearRegression())])"
      ]
     },
     "execution_count": 41,
     "metadata": {},
     "output_type": "execute_result"
    }
   ],
   "source": [
    "lr_grid_cv.best_estimator_"
   ]
  },
  {
   "cell_type": "code",
   "execution_count": 42,
   "id": "a973eb90-2d6e-4af0-a4b9-5c387bb74eae",
   "metadata": {},
   "outputs": [
    {
     "data": {
      "image/png": "[encoded data removed]",
      "text/plain": [
       "<Figure size 720x360 with 1 Axes>"
      ]
     },
     "metadata": {
      "needs_background": "light"
     },
     "output_type": "display_data"
    }
   ],
   "source": [
    "best_k = lr_grid_cv.best_params_['selectkbest__k']\n",
    "plt.subplots(figsize=(10, 5))\n",
    "plt.errorbar(cv_k, score_mean, yerr=score_std)\n",
    "plt.axvline(x=best_k, c='r', ls='--', alpha=.5)\n",
    "plt.xlabel('k')\n",
    "plt.ylabel('CV score (r-squared)')\n",
    "plt.title('Pipeline mean CV score (error bars +/- 1sd)');"
   ]
  },
  {
   "cell_type": "markdown",
   "id": "14fab2ba-f44b-45a3-bee8-d670d678decf",
   "metadata": {},
   "source": [
    "# linear model wants to use all of the features for best cv score "
   ]
  },
  {
   "cell_type": "code",
   "execution_count": 48,
   "id": "44686356-399b-4a2b-b4e8-d290500fe53b",
   "metadata": {},
   "outputs": [],
   "source": [
    "selected = lr_grid_cv.best_estimator_.named_steps.selectkbest.get_support()\n",
    "coefs = lr_grid_cv.best_estimator_.named_steps.linearregression.coef_\n",
    "features = X_train.columns[selected]\n",
    "# pd.Series(coefs, index=features).sort_values(ascending=False)"
   ]
  },
  {
   "cell_type": "code",
   "execution_count": 57,
   "id": "09d3ed5e-67f1-4f85-ba0f-14590fc7f118",
   "metadata": {},
   "outputs": [
    {
     "data": {
      "text/html": [
       "<div>\n",
       "<style scoped>\n",
       "    .dataframe tbody tr th:only-of-type {\n",
       "        vertical-align: middle;\n",
       "    }\n",
       "\n",
       "    .dataframe tbody tr th {\n",
       "        vertical-align: top;\n",
       "    }\n",
       "\n",
       "    .dataframe thead th {\n",
       "        text-align: right;\n",
       "    }\n",
       "</style>\n",
       "<table border=\"1\" class=\"dataframe\">\n",
       "  <thead>\n",
       "    <tr style=\"text-align: right;\">\n",
       "      <th></th>\n",
       "      <th>coef</th>\n",
       "    </tr>\n",
       "  </thead>\n",
       "  <tbody>\n",
       "    <tr>\n",
       "      <th>FTE_Teachers</th>\n",
       "      <td>14.726082</td>\n",
       "    </tr>\n",
       "    <tr>\n",
       "      <th>Avg_21</th>\n",
       "      <td>12.943649</td>\n",
       "    </tr>\n",
       "    <tr>\n",
       "      <th>Pupil/Teacher-Ratio</th>\n",
       "      <td>12.828182</td>\n",
       "    </tr>\n",
       "    <tr>\n",
       "      <th>Demographic Name_Asian</th>\n",
       "      <td>11.466314</td>\n",
       "    </tr>\n",
       "    <tr>\n",
       "      <th>Demographic Name_Graduate school/Post graduate</th>\n",
       "      <td>7.832935</td>\n",
       "    </tr>\n",
       "    <tr>\n",
       "      <th>Demographic Name_IFEP (Initial fluent English proficient)</th>\n",
       "      <td>7.145371</td>\n",
       "    </tr>\n",
       "    <tr>\n",
       "      <th>APA_F</th>\n",
       "      <td>6.119249</td>\n",
       "    </tr>\n",
       "    <tr>\n",
       "      <th>Demographic Name_White</th>\n",
       "      <td>5.720445</td>\n",
       "    </tr>\n",
       "    <tr>\n",
       "      <th>Total Tested with Scores at Reporting Level</th>\n",
       "      <td>5.633951</td>\n",
       "    </tr>\n",
       "    <tr>\n",
       "      <th>Demographic Name_Filipino</th>\n",
       "      <td>5.364389</td>\n",
       "    </tr>\n",
       "    <tr>\n",
       "      <th>Demographic Name_College graduate</th>\n",
       "      <td>5.241746</td>\n",
       "    </tr>\n",
       "    <tr>\n",
       "      <th>Demographic Name_Two or more races</th>\n",
       "      <td>4.730131</td>\n",
       "    </tr>\n",
       "    <tr>\n",
       "      <th>Demographic Name_Not economically disadvantaged</th>\n",
       "      <td>4.714172</td>\n",
       "    </tr>\n",
       "    <tr>\n",
       "      <th>District Type_High School District</th>\n",
       "      <td>4.226116</td>\n",
       "    </tr>\n",
       "    <tr>\n",
       "      <th>Low Grade_9</th>\n",
       "      <td>3.918377</td>\n",
       "    </tr>\n",
       "    <tr>\n",
       "      <th>District Type_Unified School District</th>\n",
       "      <td>2.950676</td>\n",
       "    </tr>\n",
       "    <tr>\n",
       "      <th>Grocery_dist</th>\n",
       "      <td>2.682838</td>\n",
       "    </tr>\n",
       "    <tr>\n",
       "      <th>Low Grade_7</th>\n",
       "      <td>2.399690</td>\n",
       "    </tr>\n",
       "    <tr>\n",
       "      <th>Demographic Name_Female</th>\n",
       "      <td>2.275893</td>\n",
       "    </tr>\n",
       "    <tr>\n",
       "      <th>Demographic Name_IFEP and EO (Initial fluent English proficient and English only)</th>\n",
       "      <td>2.121900</td>\n",
       "    </tr>\n",
       "    <tr>\n",
       "      <th>Demographic Name_EO (English only)</th>\n",
       "      <td>1.932084</td>\n",
       "    </tr>\n",
       "    <tr>\n",
       "      <th>Demographic Name_No reported disabilities</th>\n",
       "      <td>1.863905</td>\n",
       "    </tr>\n",
       "    <tr>\n",
       "      <th>Demographic Name_RFEP (Reclassified fluent English proficient)</th>\n",
       "      <td>1.855488</td>\n",
       "    </tr>\n",
       "    <tr>\n",
       "      <th>Average Salary Paid</th>\n",
       "      <td>1.803661</td>\n",
       "    </tr>\n",
       "    <tr>\n",
       "      <th>Low Grade_6</th>\n",
       "      <td>0.921183</td>\n",
       "    </tr>\n",
       "    <tr>\n",
       "      <th>Demographic Name_Not homeless</th>\n",
       "      <td>0.318034</td>\n",
       "    </tr>\n",
       "    <tr>\n",
       "      <th>Demographic Name_Armed forces family member</th>\n",
       "      <td>0.201808</td>\n",
       "    </tr>\n",
       "    <tr>\n",
       "      <th>Demographic Name_Not armed forces family member</th>\n",
       "      <td>0.081751</td>\n",
       "    </tr>\n",
       "    <tr>\n",
       "      <th>Grocery_3mile</th>\n",
       "      <td>0.036004</td>\n",
       "    </tr>\n",
       "    <tr>\n",
       "      <th>Demographic Name_Not migrant education</th>\n",
       "      <td>0.011838</td>\n",
       "    </tr>\n",
       "    <tr>\n",
       "      <th>Demographic Name_Some college (includes AA degree)</th>\n",
       "      <td>-0.084593</td>\n",
       "    </tr>\n",
       "    <tr>\n",
       "      <th>random</th>\n",
       "      <td>-0.310283</td>\n",
       "    </tr>\n",
       "    <tr>\n",
       "      <th>est_num_u17_pov</th>\n",
       "      <td>-0.357406</td>\n",
       "    </tr>\n",
       "    <tr>\n",
       "      <th>Education_type_Traditional</th>\n",
       "      <td>-0.644966</td>\n",
       "    </tr>\n",
       "    <tr>\n",
       "      <th>District Type_Elementary School District</th>\n",
       "      <td>-0.667777</td>\n",
       "    </tr>\n",
       "    <tr>\n",
       "      <th>Demographic Name_Male</th>\n",
       "      <td>-0.938060</td>\n",
       "    </tr>\n",
       "    <tr>\n",
       "      <th>Charter_School</th>\n",
       "      <td>-1.163205</td>\n",
       "    </tr>\n",
       "    <tr>\n",
       "      <th>Low Grade_K</th>\n",
       "      <td>-1.377935</td>\n",
       "    </tr>\n",
       "    <tr>\n",
       "      <th>Demographic Name_Declined to state</th>\n",
       "      <td>-2.071532</td>\n",
       "    </tr>\n",
       "    <tr>\n",
       "      <th>Current_Expense_per_ADA</th>\n",
       "      <td>-2.144561</td>\n",
       "    </tr>\n",
       "    <tr>\n",
       "      <th>Demographic Name_Homeless</th>\n",
       "      <td>-2.196449</td>\n",
       "    </tr>\n",
       "    <tr>\n",
       "      <th>Demographic Name_Ever�EL</th>\n",
       "      <td>-2.204525</td>\n",
       "    </tr>\n",
       "    <tr>\n",
       "      <th>Latitude</th>\n",
       "      <td>-2.285619</td>\n",
       "    </tr>\n",
       "    <tr>\n",
       "      <th>Demographic Name_High school graduate</th>\n",
       "      <td>-2.546946</td>\n",
       "    </tr>\n",
       "    <tr>\n",
       "      <th>Demographic Name_Economically disadvantaged</th>\n",
       "      <td>-2.636984</td>\n",
       "    </tr>\n",
       "    <tr>\n",
       "      <th>Black_or_AA_F</th>\n",
       "      <td>-2.741011</td>\n",
       "    </tr>\n",
       "    <tr>\n",
       "      <th>District Type_other</th>\n",
       "      <td>-2.795622</td>\n",
       "    </tr>\n",
       "    <tr>\n",
       "      <th>Education_type_other</th>\n",
       "      <td>-3.943577</td>\n",
       "    </tr>\n",
       "    <tr>\n",
       "      <th>Demographic Name_Hispanic or Latino</th>\n",
       "      <td>-4.129322</td>\n",
       "    </tr>\n",
       "    <tr>\n",
       "      <th>Demographic Name_Black or African American</th>\n",
       "      <td>-4.165843</td>\n",
       "    </tr>\n",
       "    <tr>\n",
       "      <th>Demographic Name_Not a high school graduate</th>\n",
       "      <td>-4.196051</td>\n",
       "    </tr>\n",
       "    <tr>\n",
       "      <th>Free_Meal_count</th>\n",
       "      <td>-5.231012</td>\n",
       "    </tr>\n",
       "    <tr>\n",
       "      <th>Education_type_County Community School</th>\n",
       "      <td>-7.579214</td>\n",
       "    </tr>\n",
       "    <tr>\n",
       "      <th>Education_type_Juvenile Court School</th>\n",
       "      <td>-9.012232</td>\n",
       "    </tr>\n",
       "    <tr>\n",
       "      <th>Demographic Name_EL (English learner)</th>\n",
       "      <td>-13.898469</td>\n",
       "    </tr>\n",
       "    <tr>\n",
       "      <th>Demographic Name_ELs enrolled 12 months or more</th>\n",
       "      <td>-13.936527</td>\n",
       "    </tr>\n",
       "    <tr>\n",
       "      <th>Hispanic_Female</th>\n",
       "      <td>-15.553595</td>\n",
       "    </tr>\n",
       "    <tr>\n",
       "      <th>Demographic Name_Reported disabilities</th>\n",
       "      <td>-15.962972</td>\n",
       "    </tr>\n",
       "    <tr>\n",
       "      <th>Test ID_Mathematics</th>\n",
       "      <td>-16.328412</td>\n",
       "    </tr>\n",
       "    <tr>\n",
       "      <th>Education_type_Continuation School</th>\n",
       "      <td>-23.012521</td>\n",
       "    </tr>\n",
       "  </tbody>\n",
       "</table>\n",
       "</div>"
      ],
      "text/plain": [
       "                                                         coef\n",
       "FTE_Teachers                                        14.726082\n",
       "Avg_21                                              12.943649\n",
       "Pupil/Teacher-Ratio                                 12.828182\n",
       "Demographic Name_Asian                              11.466314\n",
       "Demographic Name_Graduate school/Post graduate       7.832935\n",
       "Demographic Name_IFEP (Initial fluent English p...   7.145371\n",
       "APA_F                                                6.119249\n",
       "Demographic Name_White                               5.720445\n",
       "Total Tested with Scores at Reporting Level          5.633951\n",
       "Demographic Name_Filipino                            5.364389\n",
       "Demographic Name_College graduate                    5.241746\n",
       "Demographic Name_Two or more races                   4.730131\n",
       "Demographic Name_Not economically disadvantaged      4.714172\n",
       "District Type_High School District                   4.226116\n",
       "Low Grade_9                                          3.918377\n",
       "District Type_Unified School District                2.950676\n",
       "Grocery_dist                                         2.682838\n",
       "Low Grade_7                                          2.399690\n",
       "Demographic Name_Female                              2.275893\n",
       "Demographic Name_IFEP and EO (Initial fluent En...   2.121900\n",
       "Demographic Name_EO (English only)                   1.932084\n",
       "Demographic Name_No reported disabilities            1.863905\n",
       "Demographic Name_RFEP (Reclassified fluent Engl...   1.855488\n",
       "Average Salary Paid                                  1.803661\n",
       "Low Grade_6                                          0.921183\n",
       "Demographic Name_Not homeless                        0.318034\n",
       "Demographic Name_Armed forces family member          0.201808\n",
       "Demographic Name_Not armed forces family member      0.081751\n",
       "Grocery_3mile                                        0.036004\n",
       "Demographic Name_Not migrant education               0.011838\n",
       "Demographic Name_Some college (includes AA degree)  -0.084593\n",
       "random                                              -0.310283\n",
       "est_num_u17_pov                                     -0.357406\n",
       "Education_type_Traditional                          -0.644966\n",
       "District Type_Elementary School District            -0.667777\n",
       "Demographic Name_Male                               -0.938060\n",
       "Charter_School                                      -1.163205\n",
       "Low Grade_K                                         -1.377935\n",
       "Demographic Name_Declined to state                  -2.071532\n",
       "Current_Expense_per_ADA                             -2.144561\n",
       "Demographic Name_Homeless                           -2.196449\n",
       "Demographic Name_Ever�EL                            -2.204525\n",
       "Latitude                                            -2.285619\n",
       "Demographic Name_High school graduate               -2.546946\n",
       "Demographic Name_Economically disadvantaged         -2.636984\n",
       "Black_or_AA_F                                       -2.741011\n",
       "District Type_other                                 -2.795622\n",
       "Education_type_other                                -3.943577\n",
       "Demographic Name_Hispanic or Latino                 -4.129322\n",
       "Demographic Name_Black or African American          -4.165843\n",
       "Demographic Name_Not a high school graduate         -4.196051\n",
       "Free_Meal_count                                     -5.231012\n",
       "Education_type_County Community School              -7.579214\n",
       "Education_type_Juvenile Court School                -9.012232\n",
       "Demographic Name_EL (English learner)              -13.898469\n",
       "Demographic Name_ELs enrolled 12 months or more    -13.936527\n",
       "Hispanic_Female                                    -15.553595\n",
       "Demographic Name_Reported disabilities             -15.962972\n",
       "Test ID_Mathematics                                -16.328412\n",
       "Education_type_Continuation School                 -23.012521"
      ]
     },
     "execution_count": 57,
     "metadata": {},
     "output_type": "execute_result"
    }
   ],
   "source": [
    "coefficients = pd.DataFrame(coefs, \n",
    "     index = features, columns =['coef']).sort_values(by='coef',ascending=False)\n",
    "coefficients"
   ]
  },
  {
   "cell_type": "code",
   "execution_count": null,
   "id": "1695e51e-23d9-42f6-beed-bb5ffbb4e4f2",
   "metadata": {},
   "outputs": [],
   "source": []
  },
  {
   "cell_type": "markdown",
   "id": "404eb733-2548-4b7d-947c-1960dd47cf58",
   "metadata": {},
   "source": [
    "## really interesting take aways about positive and negative coeeficents to compare to random forest model next "
   ]
  },
  {
   "cell_type": "code",
   "execution_count": null,
   "id": "e834663e-eacf-4f0a-ab40-bf05cf8c5eb0",
   "metadata": {},
   "outputs": [],
   "source": []
  },
  {
   "cell_type": "code",
   "execution_count": null,
   "id": "c6428158-d80f-47ed-bab4-800132840a4e",
   "metadata": {},
   "outputs": [],
   "source": []
  },
  {
   "cell_type": "code",
   "execution_count": null,
   "id": "4d9eb63b-87d5-4a9a-85ff-1d0b30f643ad",
   "metadata": {},
   "outputs": [],
   "source": []
  },
  {
   "cell_type": "code",
   "execution_count": null,
   "id": "ff48e5f3-c092-4352-a63f-6425fffcde42",
   "metadata": {},
   "outputs": [],
   "source": []
  },
  {
   "cell_type": "code",
   "execution_count": 49,
   "id": "35411ce4-babf-4d19-adfa-54c063a9391b",
   "metadata": {},
   "outputs": [
    {
     "data": {
      "text/plain": [
       "RandomForestRegressor(n_jobs=-1, oob_score=True, random_state=42)"
      ]
     },
     "execution_count": 49,
     "metadata": {},
     "output_type": "execute_result"
    }
   ],
   "source": [
    "rf = RandomForestRegressor(n_estimators = 100,\n",
    "                           n_jobs = -1,\n",
    "                           oob_score = True,\n",
    "                           bootstrap = True,\n",
    "                           random_state = 42)\n",
    "rf.fit(X_train, y_train)\n",
    "\n",
    "             "
   ]
  },
  {
   "cell_type": "code",
   "execution_count": 50,
   "id": "2ac84c1f-0d71-40a1-b9fb-dce729949461",
   "metadata": {},
   "outputs": [
    {
     "name": "stdout",
     "output_type": "stream",
     "text": [
      "R^2 Training Score: 0.99 \n",
      "OOB Score: 0.92 \n",
      "R^2 Validation Score: 0.93\n"
     ]
    }
   ],
   "source": [
    "print('R^2 Training Score: {:.2f} \\nOOB Score: {:.2f} \\nR^2 Validation Score: {:.2f}'.format(rf.score(X_train, y_train), \n",
    "                                                                                             rf.oob_score_,\n",
    "                                                                                             rf.score(X_test, y_test)))\n"
   ]
  },
  {
   "cell_type": "code",
   "execution_count": 51,
   "id": "167ab776-b0cb-429f-9d7e-cbc00d46ed1c",
   "metadata": {},
   "outputs": [],
   "source": [
    "y_te_rf_pred=rf.predict(X_test)"
   ]
  },
  {
   "cell_type": "code",
   "execution_count": 52,
   "id": "fda54fd3-202f-46db-9997-d0cc7c204100",
   "metadata": {},
   "outputs": [
    {
     "data": {
      "text/plain": [
       "0.9265396440790299"
      ]
     },
     "execution_count": 52,
     "metadata": {},
     "output_type": "execute_result"
    }
   ],
   "source": [
    "r2_score(y_test,y_te_rf_pred)"
   ]
  },
  {
   "cell_type": "markdown",
   "id": "126e7693-471a-4558-9a26-31dd3efec54f",
   "metadata": {},
   "source": [
    "## over fitting with OOB and validation much lower than training "
   ]
  },
  {
   "cell_type": "code",
   "execution_count": 53,
   "id": "196af70a-a27a-40cc-83dc-3de6f284f634",
   "metadata": {},
   "outputs": [],
   "source": [
    "# https://github.com/erykml/medium_articles/blob/master/Machine%20Learning/feature_importance.ipynb\n",
    "\n",
    "# function for creating a feature importance dataframe\n",
    "def imp_df(column_names, importances):\n",
    "    df = pd.DataFrame({'feature': column_names,\n",
    "                       'feature_importance': importances}) \\\n",
    "           .sort_values('feature_importance', ascending = False) \\\n",
    "           .reset_index(drop = True)\n",
    "    return df\n",
    "\n",
    "# plotting a feature importance dataframe (horizontal barchart)\n",
    "def var_imp_plot(imp_df, title):\n",
    "    imp_df.columns = ['feature', 'feature_importance']\n",
    "    fig ,ax = plt.subplots(figsize=(12,12))\n",
    "    fig = sns.barplot(x = 'feature_importance', y = 'feature', data = imp_df, orient = 'h', color = 'royalblue') \\\n",
    "       .set_title(title, fontsize = 20)\n",
    "    sns.despine()"
   ]
  },
  {
   "cell_type": "code",
   "execution_count": 54,
   "id": "8251ab70-9688-4a71-b442-764d749a92fe",
   "metadata": {},
   "outputs": [
    {
     "data": {
      "text/html": [
       "<div>\n",
       "<style scoped>\n",
       "    .dataframe tbody tr th:only-of-type {\n",
       "        vertical-align: middle;\n",
       "    }\n",
       "\n",
       "    .dataframe tbody tr th {\n",
       "        vertical-align: top;\n",
       "    }\n",
       "\n",
       "    .dataframe thead th {\n",
       "        text-align: right;\n",
       "    }\n",
       "</style>\n",
       "<table border=\"1\" class=\"dataframe\">\n",
       "  <thead>\n",
       "    <tr style=\"text-align: right;\">\n",
       "      <th></th>\n",
       "      <th>feature</th>\n",
       "      <th>feature_importance</th>\n",
       "    </tr>\n",
       "  </thead>\n",
       "  <tbody>\n",
       "    <tr>\n",
       "      <th>0</th>\n",
       "      <td>Education_type_Continuation School</td>\n",
       "      <td>0.155294</td>\n",
       "    </tr>\n",
       "    <tr>\n",
       "      <th>1</th>\n",
       "      <td>APA_F</td>\n",
       "      <td>0.127233</td>\n",
       "    </tr>\n",
       "    <tr>\n",
       "      <th>2</th>\n",
       "      <td>Avg_21</td>\n",
       "      <td>0.068584</td>\n",
       "    </tr>\n",
       "    <tr>\n",
       "      <th>3</th>\n",
       "      <td>Hispanic_Female</td>\n",
       "      <td>0.061726</td>\n",
       "    </tr>\n",
       "    <tr>\n",
       "      <th>4</th>\n",
       "      <td>Pupil/Teacher-Ratio</td>\n",
       "      <td>0.057696</td>\n",
       "    </tr>\n",
       "    <tr>\n",
       "      <th>5</th>\n",
       "      <td>Test ID_Mathematics</td>\n",
       "      <td>0.054170</td>\n",
       "    </tr>\n",
       "    <tr>\n",
       "      <th>6</th>\n",
       "      <td>Demographic Name_Reported disabilities</td>\n",
       "      <td>0.047443</td>\n",
       "    </tr>\n",
       "    <tr>\n",
       "      <th>7</th>\n",
       "      <td>Free_Meal_count</td>\n",
       "      <td>0.042787</td>\n",
       "    </tr>\n",
       "    <tr>\n",
       "      <th>8</th>\n",
       "      <td>Demographic Name_EL (English learner)</td>\n",
       "      <td>0.036999</td>\n",
       "    </tr>\n",
       "    <tr>\n",
       "      <th>9</th>\n",
       "      <td>Demographic Name_ELs enrolled 12 months or more</td>\n",
       "      <td>0.036346</td>\n",
       "    </tr>\n",
       "    <tr>\n",
       "      <th>10</th>\n",
       "      <td>Total Tested with Scores at Reporting Level</td>\n",
       "      <td>0.030289</td>\n",
       "    </tr>\n",
       "    <tr>\n",
       "      <th>11</th>\n",
       "      <td>Latitude</td>\n",
       "      <td>0.025952</td>\n",
       "    </tr>\n",
       "    <tr>\n",
       "      <th>12</th>\n",
       "      <td>FTE_Teachers</td>\n",
       "      <td>0.024158</td>\n",
       "    </tr>\n",
       "    <tr>\n",
       "      <th>13</th>\n",
       "      <td>Average Salary Paid</td>\n",
       "      <td>0.022681</td>\n",
       "    </tr>\n",
       "    <tr>\n",
       "      <th>14</th>\n",
       "      <td>Grocery_dist</td>\n",
       "      <td>0.022305</td>\n",
       "    </tr>\n",
       "    <tr>\n",
       "      <th>15</th>\n",
       "      <td>est_num_u17_pov</td>\n",
       "      <td>0.020730</td>\n",
       "    </tr>\n",
       "    <tr>\n",
       "      <th>16</th>\n",
       "      <td>Demographic Name_Asian</td>\n",
       "      <td>0.016136</td>\n",
       "    </tr>\n",
       "    <tr>\n",
       "      <th>17</th>\n",
       "      <td>Current_Expense_per_ADA</td>\n",
       "      <td>0.016025</td>\n",
       "    </tr>\n",
       "    <tr>\n",
       "      <th>18</th>\n",
       "      <td>Black_or_AA_F</td>\n",
       "      <td>0.013836</td>\n",
       "    </tr>\n",
       "    <tr>\n",
       "      <th>19</th>\n",
       "      <td>random</td>\n",
       "      <td>0.011561</td>\n",
       "    </tr>\n",
       "  </tbody>\n",
       "</table>\n",
       "</div>"
      ],
      "text/plain": [
       "                                            feature  feature_importance\n",
       "0                Education_type_Continuation School            0.155294\n",
       "1                                             APA_F            0.127233\n",
       "2                                            Avg_21            0.068584\n",
       "3                                   Hispanic_Female            0.061726\n",
       "4                               Pupil/Teacher-Ratio            0.057696\n",
       "5                               Test ID_Mathematics            0.054170\n",
       "6            Demographic Name_Reported disabilities            0.047443\n",
       "7                                   Free_Meal_count            0.042787\n",
       "8             Demographic Name_EL (English learner)            0.036999\n",
       "9   Demographic Name_ELs enrolled 12 months or more            0.036346\n",
       "10      Total Tested with Scores at Reporting Level            0.030289\n",
       "11                                         Latitude            0.025952\n",
       "12                                     FTE_Teachers            0.024158\n",
       "13                              Average Salary Paid            0.022681\n",
       "14                                     Grocery_dist            0.022305\n",
       "15                                  est_num_u17_pov            0.020730\n",
       "16                           Demographic Name_Asian            0.016136\n",
       "17                          Current_Expense_per_ADA            0.016025\n",
       "18                                    Black_or_AA_F            0.013836\n",
       "19                                           random            0.011561"
      ]
     },
     "execution_count": 54,
     "metadata": {},
     "output_type": "execute_result"
    }
   ],
   "source": [
    "base_imp = imp_df(X_train.columns, rf.feature_importances_)\n",
    "base_imp[:20]"
   ]
  },
  {
   "cell_type": "code",
   "execution_count": 55,
   "id": "36382c71-d681-4f17-b458-981ac2a40881",
   "metadata": {},
   "outputs": [
    {
     "data": {
      "image/png": "[encoded data removed]",
      "text/plain": [
       "<Figure size 864x864 with 1 Axes>"
      ]
     },
     "metadata": {
      "needs_background": "light"
     },
     "output_type": "display_data"
    }
   ],
   "source": [
    "var_imp_plot(base_imp, 'Default feature importance (scikit-learn)')"
   ]
  },
  {
   "cell_type": "code",
   "execution_count": null,
   "id": "662ba364-d186-4b2d-a9b6-056415d7ca2d",
   "metadata": {},
   "outputs": [],
   "source": []
  },
  {
   "cell_type": "markdown",
   "id": "35d4e852-82ae-4835-a253-6a17625f0c36",
   "metadata": {},
   "source": [
    "## RF pipeline for hyperparamter tunig "
   ]
  },
  {
   "cell_type": "code",
   "execution_count": 58,
   "id": "8e20a72d-a9cf-4c11-bb0c-33b6d42459da",
   "metadata": {},
   "outputs": [],
   "source": [
    "rf_pipe = make_pipeline(\n",
    "    StandardScaler(),\n",
    "    RandomForestRegressor(random_state=42,\n",
    "                            max_depth=None )\n",
    "    )"
   ]
  },
  {
   "cell_type": "code",
   "execution_count": 59,
   "id": "0f80b483-6be7-4aa3-9b45-f61923409b20",
   "metadata": {},
   "outputs": [],
   "source": [
    "rf_cv_results = cross_validate(rf_pipe, X_train, y_train, cv =5)"
   ]
  },
  {
   "cell_type": "code",
   "execution_count": 60,
   "id": "4dcb7f5c-15f6-419f-a283-d60a057d811d",
   "metadata": {},
   "outputs": [
    {
     "data": {
      "text/plain": [
       "{'fit_time': array([45.18751121, 44.91428494, 44.73063087, 45.80229235, 44.36784601]),\n",
       " 'score_time': array([0.43818998, 0.42923903, 0.42859101, 0.47821164, 0.44008112]),\n",
       " 'test_score': array([0.92558934, 0.91741628, 0.92018334, 0.92242834, 0.92055135])}"
      ]
     },
     "execution_count": 60,
     "metadata": {},
     "output_type": "execute_result"
    }
   ],
   "source": [
    "rf_cv_results"
   ]
  },
  {
   "cell_type": "code",
   "execution_count": 61,
   "id": "6a22f1ff-840f-4b03-9f8f-7d95087a2aa9",
   "metadata": {},
   "outputs": [
    {
     "data": {
      "text/plain": [
       "(0.9212337294361042, 0.0027033443126980067)"
      ]
     },
     "execution_count": 61,
     "metadata": {},
     "output_type": "execute_result"
    }
   ],
   "source": [
    "rf_cv_scores = rf_cv_results['test_score']\n",
    "np.mean(rf_cv_scores), np.std(rf_cv_scores)"
   ]
  },
  {
   "cell_type": "code",
   "execution_count": 62,
   "id": "49dc4b7c-96c2-4173-b91e-a1b76d58d8bf",
   "metadata": {},
   "outputs": [
    {
     "data": {
      "text/plain": [
       "[10, 16, 27, 46, 77, 129, 215, 359]"
      ]
     },
     "execution_count": 62,
     "metadata": {},
     "output_type": "execute_result"
    }
   ],
   "source": [
    "n_est = [int(n) for n in np.logspace(1,3,10)]\n",
    "n_est[:8]"
   ]
  },
  {
   "cell_type": "code",
   "execution_count": 63,
   "id": "d8b857a1-07f8-42ad-b50f-91b375276ce1",
   "metadata": {},
   "outputs": [],
   "source": [
    "grid_params = {\n",
    "    'n_estimators': n_est[:5],\n",
    "#     'StandardScaler':[StandardScaler(),None],\n",
    "    'max_depth':[None,2,3,4,6]    \n",
    "}"
   ]
  },
  {
   "cell_type": "code",
   "execution_count": 64,
   "id": "961878fb-2504-4f72-8fae-fdef108039e4",
   "metadata": {},
   "outputs": [],
   "source": [
    "rf_grid_cv = GridSearchCV(rf_pipe, param_grid= grid_params, cv=5, n_jobs=-1)\n"
   ]
  },
  {
   "cell_type": "code",
   "execution_count": 65,
   "id": "ae486060-61e5-4076-8cea-ae135cbd2c88",
   "metadata": {},
   "outputs": [
    {
     "ename": "ValueError",
     "evalue": "Invalid parameter max_depth for estimator Pipeline(steps=[('standardscaler', StandardScaler()),\n                ('randomforestregressor',\n                 RandomForestRegressor(random_state=42))]). Check the list of available parameters with `estimator.get_params().keys()`.",
     "output_type": "error",
     "traceback": [
      "\u001b[0;31m---------------------------------------------------------------------------\u001b[0m",
      "\u001b[0;31m_RemoteTraceback\u001b[0m                          Traceback (most recent call last)",
      "\u001b[0;31m_RemoteTraceback\u001b[0m: \n\"\"\"\nTraceback (most recent call last):\n  File \"/Users/robertrustia/opt/anaconda3/lib/python3.8/site-packages/joblib/externals/loky/process_executor.py\", line 431, in _process_worker\n    r = call_item()\n  File \"/Users/robertrustia/opt/anaconda3/lib/python3.8/site-packages/joblib/externals/loky/process_executor.py\", line 285, in __call__\n    return self.fn(*self.args, **self.kwargs)\n  File \"/Users/robertrustia/opt/anaconda3/lib/python3.8/site-packages/joblib/_parallel_backends.py\", line 595, in __call__\n    return self.func(*args, **kwargs)\n  File \"/Users/robertrustia/opt/anaconda3/lib/python3.8/site-packages/joblib/parallel.py\", line 262, in __call__\n    return [func(*args, **kwargs)\n  File \"/Users/robertrustia/opt/anaconda3/lib/python3.8/site-packages/joblib/parallel.py\", line 262, in <listcomp>\n    return [func(*args, **kwargs)\n  File \"/Users/robertrustia/opt/anaconda3/lib/python3.8/site-packages/sklearn/utils/fixes.py\", line 216, in __call__\n    return self.function(*args, **kwargs)\n  File \"/Users/robertrustia/opt/anaconda3/lib/python3.8/site-packages/sklearn/model_selection/_validation.py\", line 668, in _fit_and_score\n    estimator = estimator.set_params(**cloned_parameters)\n  File \"/Users/robertrustia/opt/anaconda3/lib/python3.8/site-packages/sklearn/pipeline.py\", line 188, in set_params\n    self._set_params(\"steps\", **kwargs)\n  File \"/Users/robertrustia/opt/anaconda3/lib/python3.8/site-packages/sklearn/utils/metaestimators.py\", line 54, in _set_params\n    super().set_params(**params)\n  File \"/Users/robertrustia/opt/anaconda3/lib/python3.8/site-packages/sklearn/base.py\", line 245, in set_params\n    raise ValueError(\nValueError: Invalid parameter max_depth for estimator Pipeline(steps=[('standardscaler', StandardScaler()),\n                ('randomforestregressor',\n                 RandomForestRegressor(random_state=42))]). Check the list of available parameters with `estimator.get_params().keys()`.\n\"\"\"",
      "\nThe above exception was the direct cause of the following exception:\n",
      "\u001b[0;31mValueError\u001b[0m                                Traceback (most recent call last)",
      "\u001b[0;32m<ipython-input-65-23ca8af90255>\u001b[0m in \u001b[0;36m<module>\u001b[0;34m\u001b[0m\n\u001b[0;32m----> 1\u001b[0;31m \u001b[0mrf_grid_cv\u001b[0m\u001b[0;34m.\u001b[0m\u001b[0mfit\u001b[0m\u001b[0;34m(\u001b[0m\u001b[0mX_train\u001b[0m\u001b[0;34m,\u001b[0m\u001b[0my_train\u001b[0m\u001b[0;34m)\u001b[0m\u001b[0;34m\u001b[0m\u001b[0;34m\u001b[0m\u001b[0m\n\u001b[0m\u001b[1;32m      2\u001b[0m \u001b[0mrf_grid_cv\u001b[0m\u001b[0;34m.\u001b[0m\u001b[0mbest_params_\u001b[0m\u001b[0;34m\u001b[0m\u001b[0;34m\u001b[0m\u001b[0m\n",
      "\u001b[0;32m~/opt/anaconda3/lib/python3.8/site-packages/sklearn/model_selection/_search.py\u001b[0m in \u001b[0;36mfit\u001b[0;34m(self, X, y, groups, **fit_params)\u001b[0m\n\u001b[1;32m    889\u001b[0m                 \u001b[0;32mreturn\u001b[0m \u001b[0mresults\u001b[0m\u001b[0;34m\u001b[0m\u001b[0;34m\u001b[0m\u001b[0m\n\u001b[1;32m    890\u001b[0m \u001b[0;34m\u001b[0m\u001b[0m\n\u001b[0;32m--> 891\u001b[0;31m             \u001b[0mself\u001b[0m\u001b[0;34m.\u001b[0m\u001b[0m_run_search\u001b[0m\u001b[0;34m(\u001b[0m\u001b[0mevaluate_candidates\u001b[0m\u001b[0;34m)\u001b[0m\u001b[0;34m\u001b[0m\u001b[0;34m\u001b[0m\u001b[0m\n\u001b[0m\u001b[1;32m    892\u001b[0m \u001b[0;34m\u001b[0m\u001b[0m\n\u001b[1;32m    893\u001b[0m             \u001b[0;31m# multimetric is determined here because in the case of a callable\u001b[0m\u001b[0;34m\u001b[0m\u001b[0;34m\u001b[0m\u001b[0;34m\u001b[0m\u001b[0m\n",
      "\u001b[0;32m~/opt/anaconda3/lib/python3.8/site-packages/sklearn/model_selection/_search.py\u001b[0m in \u001b[0;36m_run_search\u001b[0;34m(self, evaluate_candidates)\u001b[0m\n\u001b[1;32m   1390\u001b[0m     \u001b[0;32mdef\u001b[0m \u001b[0m_run_search\u001b[0m\u001b[0;34m(\u001b[0m\u001b[0mself\u001b[0m\u001b[0;34m,\u001b[0m \u001b[0mevaluate_candidates\u001b[0m\u001b[0;34m)\u001b[0m\u001b[0;34m:\u001b[0m\u001b[0;34m\u001b[0m\u001b[0;34m\u001b[0m\u001b[0m\n\u001b[1;32m   1391\u001b[0m         \u001b[0;34m\"\"\"Search all candidates in param_grid\"\"\"\u001b[0m\u001b[0;34m\u001b[0m\u001b[0;34m\u001b[0m\u001b[0m\n\u001b[0;32m-> 1392\u001b[0;31m         \u001b[0mevaluate_candidates\u001b[0m\u001b[0;34m(\u001b[0m\u001b[0mParameterGrid\u001b[0m\u001b[0;34m(\u001b[0m\u001b[0mself\u001b[0m\u001b[0;34m.\u001b[0m\u001b[0mparam_grid\u001b[0m\u001b[0;34m)\u001b[0m\u001b[0;34m)\u001b[0m\u001b[0;34m\u001b[0m\u001b[0;34m\u001b[0m\u001b[0m\n\u001b[0m\u001b[1;32m   1393\u001b[0m \u001b[0;34m\u001b[0m\u001b[0m\n\u001b[1;32m   1394\u001b[0m \u001b[0;34m\u001b[0m\u001b[0m\n",
      "\u001b[0;32m~/opt/anaconda3/lib/python3.8/site-packages/sklearn/model_selection/_search.py\u001b[0m in \u001b[0;36mevaluate_candidates\u001b[0;34m(candidate_params, cv, more_results)\u001b[0m\n\u001b[1;32m    836\u001b[0m                     )\n\u001b[1;32m    837\u001b[0m \u001b[0;34m\u001b[0m\u001b[0m\n\u001b[0;32m--> 838\u001b[0;31m                 out = parallel(\n\u001b[0m\u001b[1;32m    839\u001b[0m                     delayed(_fit_and_score)(\n\u001b[1;32m    840\u001b[0m                         \u001b[0mclone\u001b[0m\u001b[0;34m(\u001b[0m\u001b[0mbase_estimator\u001b[0m\u001b[0;34m)\u001b[0m\u001b[0;34m,\u001b[0m\u001b[0;34m\u001b[0m\u001b[0;34m\u001b[0m\u001b[0m\n",
      "\u001b[0;32m~/opt/anaconda3/lib/python3.8/site-packages/joblib/parallel.py\u001b[0m in \u001b[0;36m__call__\u001b[0;34m(self, iterable)\u001b[0m\n\u001b[1;32m   1052\u001b[0m \u001b[0;34m\u001b[0m\u001b[0m\n\u001b[1;32m   1053\u001b[0m             \u001b[0;32mwith\u001b[0m \u001b[0mself\u001b[0m\u001b[0;34m.\u001b[0m\u001b[0m_backend\u001b[0m\u001b[0;34m.\u001b[0m\u001b[0mretrieval_context\u001b[0m\u001b[0;34m(\u001b[0m\u001b[0;34m)\u001b[0m\u001b[0;34m:\u001b[0m\u001b[0;34m\u001b[0m\u001b[0;34m\u001b[0m\u001b[0m\n\u001b[0;32m-> 1054\u001b[0;31m                 \u001b[0mself\u001b[0m\u001b[0;34m.\u001b[0m\u001b[0mretrieve\u001b[0m\u001b[0;34m(\u001b[0m\u001b[0;34m)\u001b[0m\u001b[0;34m\u001b[0m\u001b[0;34m\u001b[0m\u001b[0m\n\u001b[0m\u001b[1;32m   1055\u001b[0m             \u001b[0;31m# Make sure that we get a last message telling us we are done\u001b[0m\u001b[0;34m\u001b[0m\u001b[0;34m\u001b[0m\u001b[0;34m\u001b[0m\u001b[0m\n\u001b[1;32m   1056\u001b[0m             \u001b[0melapsed_time\u001b[0m \u001b[0;34m=\u001b[0m \u001b[0mtime\u001b[0m\u001b[0;34m.\u001b[0m\u001b[0mtime\u001b[0m\u001b[0;34m(\u001b[0m\u001b[0;34m)\u001b[0m \u001b[0;34m-\u001b[0m \u001b[0mself\u001b[0m\u001b[0;34m.\u001b[0m\u001b[0m_start_time\u001b[0m\u001b[0;34m\u001b[0m\u001b[0;34m\u001b[0m\u001b[0m\n",
      "\u001b[0;32m~/opt/anaconda3/lib/python3.8/site-packages/joblib/parallel.py\u001b[0m in \u001b[0;36mretrieve\u001b[0;34m(self)\u001b[0m\n\u001b[1;32m    931\u001b[0m             \u001b[0;32mtry\u001b[0m\u001b[0;34m:\u001b[0m\u001b[0;34m\u001b[0m\u001b[0;34m\u001b[0m\u001b[0m\n\u001b[1;32m    932\u001b[0m                 \u001b[0;32mif\u001b[0m \u001b[0mgetattr\u001b[0m\u001b[0;34m(\u001b[0m\u001b[0mself\u001b[0m\u001b[0;34m.\u001b[0m\u001b[0m_backend\u001b[0m\u001b[0;34m,\u001b[0m \u001b[0;34m'supports_timeout'\u001b[0m\u001b[0;34m,\u001b[0m \u001b[0;32mFalse\u001b[0m\u001b[0;34m)\u001b[0m\u001b[0;34m:\u001b[0m\u001b[0;34m\u001b[0m\u001b[0;34m\u001b[0m\u001b[0m\n\u001b[0;32m--> 933\u001b[0;31m                     \u001b[0mself\u001b[0m\u001b[0;34m.\u001b[0m\u001b[0m_output\u001b[0m\u001b[0;34m.\u001b[0m\u001b[0mextend\u001b[0m\u001b[0;34m(\u001b[0m\u001b[0mjob\u001b[0m\u001b[0;34m.\u001b[0m\u001b[0mget\u001b[0m\u001b[0;34m(\u001b[0m\u001b[0mtimeout\u001b[0m\u001b[0;34m=\u001b[0m\u001b[0mself\u001b[0m\u001b[0;34m.\u001b[0m\u001b[0mtimeout\u001b[0m\u001b[0;34m)\u001b[0m\u001b[0;34m)\u001b[0m\u001b[0;34m\u001b[0m\u001b[0;34m\u001b[0m\u001b[0m\n\u001b[0m\u001b[1;32m    934\u001b[0m                 \u001b[0;32melse\u001b[0m\u001b[0;34m:\u001b[0m\u001b[0;34m\u001b[0m\u001b[0;34m\u001b[0m\u001b[0m\n\u001b[1;32m    935\u001b[0m                     \u001b[0mself\u001b[0m\u001b[0;34m.\u001b[0m\u001b[0m_output\u001b[0m\u001b[0;34m.\u001b[0m\u001b[0mextend\u001b[0m\u001b[0;34m(\u001b[0m\u001b[0mjob\u001b[0m\u001b[0;34m.\u001b[0m\u001b[0mget\u001b[0m\u001b[0;34m(\u001b[0m\u001b[0;34m)\u001b[0m\u001b[0;34m)\u001b[0m\u001b[0;34m\u001b[0m\u001b[0;34m\u001b[0m\u001b[0m\n",
      "\u001b[0;32m~/opt/anaconda3/lib/python3.8/site-packages/joblib/_parallel_backends.py\u001b[0m in \u001b[0;36mwrap_future_result\u001b[0;34m(future, timeout)\u001b[0m\n\u001b[1;32m    540\u001b[0m         AsyncResults.get from multiprocessing.\"\"\"\n\u001b[1;32m    541\u001b[0m         \u001b[0;32mtry\u001b[0m\u001b[0;34m:\u001b[0m\u001b[0;34m\u001b[0m\u001b[0;34m\u001b[0m\u001b[0m\n\u001b[0;32m--> 542\u001b[0;31m             \u001b[0;32mreturn\u001b[0m \u001b[0mfuture\u001b[0m\u001b[0;34m.\u001b[0m\u001b[0mresult\u001b[0m\u001b[0;34m(\u001b[0m\u001b[0mtimeout\u001b[0m\u001b[0;34m=\u001b[0m\u001b[0mtimeout\u001b[0m\u001b[0;34m)\u001b[0m\u001b[0;34m\u001b[0m\u001b[0;34m\u001b[0m\u001b[0m\n\u001b[0m\u001b[1;32m    543\u001b[0m         \u001b[0;32mexcept\u001b[0m \u001b[0mCfTimeoutError\u001b[0m \u001b[0;32mas\u001b[0m \u001b[0me\u001b[0m\u001b[0;34m:\u001b[0m\u001b[0;34m\u001b[0m\u001b[0;34m\u001b[0m\u001b[0m\n\u001b[1;32m    544\u001b[0m             \u001b[0;32mraise\u001b[0m \u001b[0mTimeoutError\u001b[0m \u001b[0;32mfrom\u001b[0m \u001b[0me\u001b[0m\u001b[0;34m\u001b[0m\u001b[0;34m\u001b[0m\u001b[0m\n",
      "\u001b[0;32m~/opt/anaconda3/lib/python3.8/concurrent/futures/_base.py\u001b[0m in \u001b[0;36mresult\u001b[0;34m(self, timeout)\u001b[0m\n\u001b[1;32m    437\u001b[0m                 \u001b[0;32mraise\u001b[0m \u001b[0mCancelledError\u001b[0m\u001b[0;34m(\u001b[0m\u001b[0;34m)\u001b[0m\u001b[0;34m\u001b[0m\u001b[0;34m\u001b[0m\u001b[0m\n\u001b[1;32m    438\u001b[0m             \u001b[0;32melif\u001b[0m \u001b[0mself\u001b[0m\u001b[0;34m.\u001b[0m\u001b[0m_state\u001b[0m \u001b[0;34m==\u001b[0m \u001b[0mFINISHED\u001b[0m\u001b[0;34m:\u001b[0m\u001b[0;34m\u001b[0m\u001b[0;34m\u001b[0m\u001b[0m\n\u001b[0;32m--> 439\u001b[0;31m                 \u001b[0;32mreturn\u001b[0m \u001b[0mself\u001b[0m\u001b[0;34m.\u001b[0m\u001b[0m__get_result\u001b[0m\u001b[0;34m(\u001b[0m\u001b[0;34m)\u001b[0m\u001b[0;34m\u001b[0m\u001b[0;34m\u001b[0m\u001b[0m\n\u001b[0m\u001b[1;32m    440\u001b[0m             \u001b[0;32melse\u001b[0m\u001b[0;34m:\u001b[0m\u001b[0;34m\u001b[0m\u001b[0;34m\u001b[0m\u001b[0m\n\u001b[1;32m    441\u001b[0m                 \u001b[0;32mraise\u001b[0m \u001b[0mTimeoutError\u001b[0m\u001b[0;34m(\u001b[0m\u001b[0;34m)\u001b[0m\u001b[0;34m\u001b[0m\u001b[0;34m\u001b[0m\u001b[0m\n",
      "\u001b[0;32m~/opt/anaconda3/lib/python3.8/concurrent/futures/_base.py\u001b[0m in \u001b[0;36m__get_result\u001b[0;34m(self)\u001b[0m\n\u001b[1;32m    386\u001b[0m     \u001b[0;32mdef\u001b[0m \u001b[0m__get_result\u001b[0m\u001b[0;34m(\u001b[0m\u001b[0mself\u001b[0m\u001b[0;34m)\u001b[0m\u001b[0;34m:\u001b[0m\u001b[0;34m\u001b[0m\u001b[0;34m\u001b[0m\u001b[0m\n\u001b[1;32m    387\u001b[0m         \u001b[0;32mif\u001b[0m \u001b[0mself\u001b[0m\u001b[0;34m.\u001b[0m\u001b[0m_exception\u001b[0m\u001b[0;34m:\u001b[0m\u001b[0;34m\u001b[0m\u001b[0;34m\u001b[0m\u001b[0m\n\u001b[0;32m--> 388\u001b[0;31m             \u001b[0;32mraise\u001b[0m \u001b[0mself\u001b[0m\u001b[0;34m.\u001b[0m\u001b[0m_exception\u001b[0m\u001b[0;34m\u001b[0m\u001b[0;34m\u001b[0m\u001b[0m\n\u001b[0m\u001b[1;32m    389\u001b[0m         \u001b[0;32melse\u001b[0m\u001b[0;34m:\u001b[0m\u001b[0;34m\u001b[0m\u001b[0;34m\u001b[0m\u001b[0m\n\u001b[1;32m    390\u001b[0m             \u001b[0;32mreturn\u001b[0m \u001b[0mself\u001b[0m\u001b[0;34m.\u001b[0m\u001b[0m_result\u001b[0m\u001b[0;34m\u001b[0m\u001b[0;34m\u001b[0m\u001b[0m\n",
      "\u001b[0;31mValueError\u001b[0m: Invalid parameter max_depth for estimator Pipeline(steps=[('standardscaler', StandardScaler()),\n                ('randomforestregressor',\n                 RandomForestRegressor(random_state=42))]). Check the list of available parameters with `estimator.get_params().keys()`."
     ]
    }
   ],
   "source": [
    "rf_grid_cv.fit(X_train,y_train)\n",
    "rf_grid_cv.best_params_"
   ]
  },
  {
   "cell_type": "code",
   "execution_count": null,
   "id": "1bea3af9-da09-437f-8c61-826becd08886",
   "metadata": {},
   "outputs": [],
   "source": [
    "RandomForestRegressor().get_params().keys()"
   ]
  },
  {
   "cell_type": "code",
   "execution_count": null,
   "id": "612eb15b-2a1a-498f-8858-d47faf31d4ee",
   "metadata": {},
   "outputs": [],
   "source": [
    "rf_best_cv_results = cross_validate(rf_grid_cv.best_estimator_, X_train, y_train, cv=5)\n",
    "rf_best_scores = rf_best_cv_results['test_score']\n",
    "rf_best_scores"
   ]
  },
  {
   "cell_type": "code",
   "execution_count": null,
   "id": "6f773a89-6445-462e-89ce-9d3ccfa6b130",
   "metadata": {},
   "outputs": [],
   "source": [
    "np.mean(rf_best_scores), np.std(rf_best_scores)"
   ]
  },
  {
   "cell_type": "code",
   "execution_count": null,
   "id": "5987ca0b-f3fd-4626-b72c-53bb01ec0a0f",
   "metadata": {},
   "outputs": [],
   "source": [
    "rf_grid_cv.best_estimator_.named_steps.randomforestregressor.feature_importances_"
   ]
  },
  {
   "cell_type": "code",
   "execution_count": null,
   "id": "08b8679b-3ce7-47e4-bbfe-fb53459c8b92",
   "metadata": {},
   "outputs": [],
   "source": [
    "plt.subplots(figsize=(10, 5))\n",
    "imps = rf_grid_cv.best_estimator_.named_steps.randomforestregressor.feature_importances_\n",
    "rf_feat_imps = pd.Series(imps, index=X_train.columns).sort_values(ascending=False)\n",
    "rf_feat_imps.plot(kind='bar')\n",
    "plt.xlabel('features')\n",
    "plt.ylabel('importance')\n",
    "plt.title('Best random forest regressor feature importances');"
   ]
  },
  {
   "cell_type": "code",
   "execution_count": null,
   "id": "cda347cf-39bf-4f23-9d45-60307435a044",
   "metadata": {},
   "outputs": [],
   "source": [
    "# rf_feat_imps"
   ]
  },
  {
   "cell_type": "code",
   "execution_count": null,
   "id": "41e7f666-c6c9-44d2-9d3d-12e963449db6",
   "metadata": {},
   "outputs": [],
   "source": [
    "# Use select from model to remove features below random threshold to simplify model "
   ]
  },
  {
   "cell_type": "code",
   "execution_count": null,
   "id": "69e6c046-577f-4d55-9f64-18f89719e524",
   "metadata": {},
   "outputs": [],
   "source": [
    "from sklearn.feature_selection import SelectFromModel\n"
   ]
  },
  {
   "cell_type": "code",
   "execution_count": null,
   "id": "b0c4824c-3bd1-4aa2-9726-57e7c7cd26c5",
   "metadata": {},
   "outputs": [],
   "source": [
    "model = SelectFromModel(rf, \n",
    "                        threshold=0.012, # should remove random and all below \n",
    "                       )"
   ]
  },
  {
   "cell_type": "code",
   "execution_count": null,
   "id": "cf1dc67a-2f72-4849-961f-285274c29661",
   "metadata": {},
   "outputs": [],
   "source": [
    "model.fit(X_train,y_train)"
   ]
  },
  {
   "cell_type": "code",
   "execution_count": null,
   "id": "8ecbc235-128e-4584-9957-2fefac65b500",
   "metadata": {},
   "outputs": [],
   "source": [
    "selected_feat = X_train.columns[(model.get_support())]\n",
    "selected_feat"
   ]
  },
  {
   "cell_type": "code",
   "execution_count": null,
   "id": "f9f560fe-427a-4a1b-ab01-8a32c2f6d5d1",
   "metadata": {},
   "outputs": [],
   "source": [
    "importances = pd.Series(model.estimator_.feature_importances_,\n",
    "          index=X_train.columns).sort_values(ascending=False)\n",
    "importances[selected_feat].sort_values().plot(kind='barh')\n",
    "plt.show()"
   ]
  },
  {
   "cell_type": "markdown",
   "id": "6b0cd272-22ac-45b5-88c3-cea8846f7cc4",
   "metadata": {},
   "source": [
    "## of cultural groups asain pacific islanders and hispanics have the highest feature importances in the model "
   ]
  },
  {
   "cell_type": "markdown",
   "id": "7bde0d2e-d1c4-4780-bcfb-36bcd95aedb8",
   "metadata": {},
   "source": [
    "##  Of features not associated by economic group model can be tested to see what change in average housing price, pupil teacher ratio , free meal count, average salary paid and fte teachers effects different schools in the same district when changes in these featuers are modeled. "
   ]
  },
  {
   "cell_type": "code",
   "execution_count": null,
   "id": "33376fab-9f3f-4424-b1d6-4a834766d131",
   "metadata": {},
   "outputs": [],
   "source": [
    "new_X_tr = model.transform(X_train)\n",
    "new_X_te = model.transform(X_test)"
   ]
  },
  {
   "cell_type": "code",
   "execution_count": null,
   "id": "8182a77c-951b-4b08-9882-111f1b884ff7",
   "metadata": {},
   "outputs": [],
   "source": []
  },
  {
   "cell_type": "code",
   "execution_count": null,
   "id": "6724c8f1-b244-4f68-b2c0-4423bf49c65b",
   "metadata": {},
   "outputs": [],
   "source": []
  },
  {
   "cell_type": "code",
   "execution_count": null,
   "id": "122037cd-3a20-4216-93e3-086ff18c3a3f",
   "metadata": {},
   "outputs": [],
   "source": [
    "new_X_tr.shape"
   ]
  },
  {
   "cell_type": "code",
   "execution_count": null,
   "id": "3f569611-de45-463c-b848-5b37e9b94bde",
   "metadata": {},
   "outputs": [],
   "source": [
    "rf_pipe.fit(new_X,y_train)"
   ]
  },
  {
   "cell_type": "code",
   "execution_count": null,
   "id": "6ad2b9e1-0d83-46e9-9514-a6c7a1a92a1f",
   "metadata": {},
   "outputs": [],
   "source": [
    "print('R^2 Training Score: {:.2f}  \\nR^2 Validation Score: {:.2f}'.format(rf_pipe.score(new_X_tr, y_train), \n",
    "#                                                                                              rf_pipe.oob_score_,\n",
    "                                                                                             rf_pipe.score(new_X_te, y_test)))\n"
   ]
  },
  {
   "cell_type": "markdown",
   "id": "019d20d2-33aa-48bd-8fcf-cba1ca8c6e43",
   "metadata": {},
   "source": [
    "## simplified model lost 6 % training r2 score but only usues 19 features instead of 52 "
   ]
  },
  {
   "cell_type": "markdown",
   "id": "a3e02836-da31-4f55-b888-758eb41b1a6e",
   "metadata": {},
   "source": [
    "gridsearch cv could be run on new cut down set to see if model performance can be increased "
   ]
  },
  {
   "cell_type": "code",
   "execution_count": null,
   "id": "b339dbfa-5d4c-476a-a200-a083c22aee55",
   "metadata": {},
   "outputs": [],
   "source": []
  },
  {
   "cell_type": "code",
   "execution_count": null,
   "id": "7d882436-943f-4d4e-ac08-7fe6c6438553",
   "metadata": {},
   "outputs": [],
   "source": []
  },
  {
   "cell_type": "code",
   "execution_count": null,
   "id": "682d2e8b-68ce-4e7a-8261-6db5e205ab0f",
   "metadata": {},
   "outputs": [],
   "source": [
    "best_model = rf_grid_cv.best_estimator_\n",
    "best_model.version = '1.0'\n",
    "best_model.pandas_version = pd.__version__\n",
    "best_model.numpy_version = np.__version__\n",
    "best_model.sklearn_version = sklearn_version\n",
    "best_model.X_columns = [col for col in X_train.columns]\n",
    "best_model.build_datetime = datetime.datetime.now()"
   ]
  }
 ],
 "metadata": {
  "kernelspec": {
   "display_name": "Python 3",
   "language": "python",
   "name": "python3"
  },
  "language_info": {
   "codemirror_mode": {
    "name": "ipython",
    "version": 3
   },
   "file_extension": ".py",
   "mimetype": "text/x-python",
   "name": "python",
   "nbconvert_exporter": "python",
   "pygments_lexer": "ipython3",
   "version": "3.8.8"
  }
 },
 "nbformat": 4,
 "nbformat_minor": 5
}
